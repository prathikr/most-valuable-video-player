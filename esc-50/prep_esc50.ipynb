{
 "cells": [
  {
   "cell_type": "code",
   "execution_count": 8,
   "metadata": {},
   "outputs": [],
   "source": [
    "import os \n",
    "import numpy as np\n",
    "import librosa\n",
    "import pandas as pd\n",
    "dataset_path = \"ESC-50-prathikrao\"\n",
    "meta_path = os.path.join(dataset_path, \"meta\", \"esc50_custom.csv\")\n",
    "audio_path = os.path.join(dataset_path, \"audio\")\n",
    "resample_path = os.path.join(dataset_path, \"audio_32k\")"
   ]
  },
  {
   "cell_type": "code",
   "execution_count": 10,
   "metadata": {
    "scrolled": true
   },
   "outputs": [
    {
     "name": "stdout",
     "output_type": "stream",
     "text": [
      "sox ESC-50-prathikrao/audio/1-104089-A-22.wav-r 32000 ESC-50-prathikrao/audio_32k/1-104089-A-22.wav\n",
      "sox ESC-50-prathikrao/audio/3-246513-B-16.wav-r 32000 ESC-50-prathikrao/audio_32k/3-246513-B-16.wav\n"
     ]
    },
    {
     "name": "stderr",
     "output_type": "stream",
     "text": [
      "sox WARN rate: rate clipped 27 samples; decrease volume?\n",
      "sox WARN dither: dither clipped 24 samples; decrease volume?\n",
      "sox WARN rate: rate clipped 107 samples; decrease volume?\n",
      "sox WARN dither: dither clipped 161 samples; decrease volume?\n"
     ]
    },
    {
     "name": "stdout",
     "output_type": "stream",
     "text": [
      "sox ESC-50-prathikrao/audio/1-96950-B-9.wav-r 32000 ESC-50-prathikrao/audio_32k/1-96950-B-9.wav\n",
      "sox ESC-50-prathikrao/audio/2-105270-A-47.wav-r 32000 ESC-50-prathikrao/audio_32k/2-105270-A-47.wav\n",
      "sox ESC-50-prathikrao/audio/4-90014-B-42.wav-r 32000 ESC-50-prathikrao/audio_32k/4-90014-B-42.wav\n",
      "sox ESC-50-prathikrao/audio/1-47273-A-21.wav-r 32000 ESC-50-prathikrao/audio_32k/1-47273-A-21.wav\n",
      "sox ESC-50-prathikrao/audio/1-39901-A-11.wav-r 32000 ESC-50-prathikrao/audio_32k/1-39901-A-11.wav\n",
      "sox ESC-50-prathikrao/audio/1-19840-A-36.wav-r 32000 ESC-50-prathikrao/audio_32k/1-19840-A-36.wav\n",
      "sox ESC-50-prathikrao/audio/1-28135-B-11.wav-r 32000 ESC-50-prathikrao/audio_32k/1-28135-B-11.wav\n",
      "sox ESC-50-prathikrao/audio/2-134915-A-30.wav-r 32000 ESC-50-prathikrao/audio_32k/2-134915-A-30.wav\n",
      "sox ESC-50-prathikrao/audio/2-60180-A-49.wav-r 32000 ESC-50-prathikrao/audio_32k/2-60180-A-49.wav\n"
     ]
    },
    {
     "name": "stderr",
     "output_type": "stream",
     "text": [
      "sox WARN rate: rate clipped 19 samples; decrease volume?\n",
      "sox WARN dither: dither clipped 18 samples; decrease volume?\n",
      "sox WARN rate: rate clipped 27 samples; decrease volume?\n",
      "sox WARN dither: dither clipped 23 samples; decrease volume?\n"
     ]
    },
    {
     "name": "stdout",
     "output_type": "stream",
     "text": [
      "sox ESC-50-prathikrao/audio/5-180156-B-43.wav-r 32000 ESC-50-prathikrao/audio_32k/5-180156-B-43.wav\n",
      "sox ESC-50-prathikrao/audio/5-233019-A-31.wav-r 32000 ESC-50-prathikrao/audio_32k/5-233019-A-31.wav\n",
      "sox ESC-50-prathikrao/audio/5-223317-A-31.wav-r 32000 ESC-50-prathikrao/audio_32k/5-223317-A-31.wav\n",
      "sox ESC-50-prathikrao/audio/4-161105-B-47.wav-r 32000 ESC-50-prathikrao/audio_32k/4-161105-B-47.wav\n",
      "sox ESC-50-prathikrao/audio/3-160993-A-3.wav-r 32000 ESC-50-prathikrao/audio_32k/3-160993-A-3.wav\n",
      "sox ESC-50-prathikrao/audio/3-135650-B-45.wav-r 32000 ESC-50-prathikrao/audio_32k/3-135650-B-45.wav\n",
      "sox ESC-50-prathikrao/audio/2-66205-A-23.wav-r 32000 ESC-50-prathikrao/audio_32k/2-66205-A-23.wav\n",
      "sox ESC-50-prathikrao/audio/1-47819-A-5.wav-r 32000 ESC-50-prathikrao/audio_32k/1-47819-A-5.wav\n",
      "sox ESC-50-prathikrao/audio/1-54747-A-46.wav-r 32000 ESC-50-prathikrao/audio_32k/1-54747-A-46.wav\n",
      "sox ESC-50-prathikrao/audio/3-139958-A-37.wav-r 32000 ESC-50-prathikrao/audio_32k/3-139958-A-37.wav\n",
      "sox ESC-50-prathikrao/audio/2-152964-A-31.wav-r 32000 ESC-50-prathikrao/audio_32k/2-152964-A-31.wav\n"
     ]
    },
    {
     "name": "stderr",
     "output_type": "stream",
     "text": [
      "sox WARN rate: rate clipped 22 samples; decrease volume?\n",
      "sox WARN dither: dither clipped 20 samples; decrease volume?\n"
     ]
    },
    {
     "name": "stdout",
     "output_type": "stream",
     "text": [
      "sox ESC-50-prathikrao/audio/1-101336-A-30.wav-r 32000 ESC-50-prathikrao/audio_32k/1-101336-A-30.wav\n",
      "sox ESC-50-prathikrao/audio/1-11687-A-47.wav-r 32000 ESC-50-prathikrao/audio_32k/1-11687-A-47.wav\n",
      "sox ESC-50-prathikrao/audio/3-156581-B-14.wav-r 32000 ESC-50-prathikrao/audio_32k/3-156581-B-14.wav\n"
     ]
    },
    {
     "name": "stderr",
     "output_type": "stream",
     "text": [
      "sox WARN rate: rate clipped 201 samples; decrease volume?\n",
      "sox WARN dither: dither clipped 188 samples; decrease volume?\n",
      "sox WARN rate: rate clipped 71 samples; decrease volume?\n",
      "sox WARN dither: dither clipped 61 samples; decrease volume?\n"
     ]
    },
    {
     "name": "stdout",
     "output_type": "stream",
     "text": [
      "sox ESC-50-prathikrao/audio/1-12653-A-15.wav-r 32000 ESC-50-prathikrao/audio_32k/1-12653-A-15.wav\n",
      "sox ESC-50-prathikrao/audio/4-204777-A-39.wav-r 32000 ESC-50-prathikrao/audio_32k/4-204777-A-39.wav\n",
      "sox ESC-50-prathikrao/audio/5-160614-B-48.wav-r 32000 ESC-50-prathikrao/audio_32k/5-160614-B-48.wav\n"
     ]
    },
    {
     "name": "stderr",
     "output_type": "stream",
     "text": [
      "sox WARN rate: rate clipped 7094 samples; decrease volume?\n",
      "sox WARN dither: dither clipped 6275 samples; decrease volume?\n",
      "sox WARN rate: rate clipped 2 samples; decrease volume?\n",
      "sox WARN dither: dither clipped 2 samples; decrease volume?\n"
     ]
    },
    {
     "name": "stdout",
     "output_type": "stream",
     "text": [
      "sox ESC-50-prathikrao/audio/4-234644-A-2.wav-r 32000 ESC-50-prathikrao/audio_32k/4-234644-A-2.wav\n",
      "sox ESC-50-prathikrao/audio/4-201988-A-44.wav-r 32000 ESC-50-prathikrao/audio_32k/4-201988-A-44.wav\n",
      "sox ESC-50-prathikrao/audio/2-103424-A-3.wav-r 32000 ESC-50-prathikrao/audio_32k/2-103424-A-3.wav\n"
     ]
    },
    {
     "name": "stderr",
     "output_type": "stream",
     "text": [
      "sox WARN rate: rate clipped 728 samples; decrease volume?\n",
      "sox WARN dither: dither clipped 629 samples; decrease volume?\n"
     ]
    },
    {
     "name": "stdout",
     "output_type": "stream",
     "text": [
      "sox ESC-50-prathikrao/audio/1-28005-A-18.wav-r 32000 ESC-50-prathikrao/audio_32k/1-28005-A-18.wav\n",
      "sox ESC-50-prathikrao/audio/2-82455-A-23.wav-r 32000 ESC-50-prathikrao/audio_32k/2-82455-A-23.wav\n",
      "sox ESC-50-prathikrao/audio/5-234855-A-25.wav-r 32000 ESC-50-prathikrao/audio_32k/5-234855-A-25.wav\n",
      "sox ESC-50-prathikrao/audio/2-50668-A-41.wav-r 32000 ESC-50-prathikrao/audio_32k/2-50668-A-41.wav\n",
      "sox ESC-50-prathikrao/audio/3-163607-A-13.wav-r 32000 ESC-50-prathikrao/audio_32k/3-163607-A-13.wav\n",
      "sox ESC-50-prathikrao/audio/5-233312-A-28.wav-r 32000 ESC-50-prathikrao/audio_32k/5-233312-A-28.wav\n",
      "sox ESC-50-prathikrao/audio/1-115545-A-48.wav-r 32000 ESC-50-prathikrao/audio_32k/1-115545-A-48.wav\n",
      "sox ESC-50-prathikrao/audio/3-144510-A-30.wav-r 32000 ESC-50-prathikrao/audio_32k/3-144510-A-30.wav\n",
      "sox ESC-50-prathikrao/audio/4-102844-C-49.wav-r 32000 ESC-50-prathikrao/audio_32k/4-102844-C-49.wav\n"
     ]
    },
    {
     "name": "stderr",
     "output_type": "stream",
     "text": [
      "sox WARN rate: rate clipped 783 samples; decrease volume?\n",
      "sox WARN dither: dither clipped 739 samples; decrease volume?\n",
      "sox WARN rate: rate clipped 1 samples; decrease volume?\n",
      "sox WARN dither: dither clipped 1 samples; decrease volume?\n"
     ]
    },
    {
     "name": "stdout",
     "output_type": "stream",
     "text": [
      "sox ESC-50-prathikrao/audio/5-192191-A-19.wav-r 32000 ESC-50-prathikrao/audio_32k/5-192191-A-19.wav\n",
      "sox ESC-50-prathikrao/audio/4-198962-A-25.wav-r 32000 ESC-50-prathikrao/audio_32k/4-198962-A-25.wav\n",
      "sox ESC-50-prathikrao/audio/5-177957-D-40.wav-r 32000 ESC-50-prathikrao/audio_32k/5-177957-D-40.wav\n",
      "sox ESC-50-prathikrao/audio/2-102581-B-29.wav-r 32000 ESC-50-prathikrao/audio_32k/2-102581-B-29.wav\n",
      "sox ESC-50-prathikrao/audio/5-259180-A-15.wav-r 32000 ESC-50-prathikrao/audio_32k/5-259180-A-15.wav\n",
      "sox ESC-50-prathikrao/audio/5-260164-A-23.wav-r 32000 ESC-50-prathikrao/audio_32k/5-260164-A-23.wav\n"
     ]
    },
    {
     "name": "stderr",
     "output_type": "stream",
     "text": [
      "sox WARN rate: rate clipped 86 samples; decrease volume?\n",
      "sox WARN dither: dither clipped 78 samples; decrease volume?\n"
     ]
    },
    {
     "name": "stdout",
     "output_type": "stream",
     "text": [
      "sox ESC-50-prathikrao/audio/1-21896-A-35.wav-r 32000 ESC-50-prathikrao/audio_32k/1-21896-A-35.wav\n",
      "sox ESC-50-prathikrao/audio/2-52001-A-28.wav-r 32000 ESC-50-prathikrao/audio_32k/2-52001-A-28.wav\n",
      "sox ESC-50-prathikrao/audio/2-42101-A-43.wav-r 32000 ESC-50-prathikrao/audio_32k/2-42101-A-43.wav\n",
      "sox ESC-50-prathikrao/audio/3-251617-A-48.wav-r 32000 ESC-50-prathikrao/audio_32k/3-251617-A-48.wav\n",
      "sox ESC-50-prathikrao/audio/3-142605-A-21.wav-r 32000 ESC-50-prathikrao/audio_32k/3-142605-A-21.wav\n",
      "sox ESC-50-prathikrao/audio/2-95567-A-23.wav-r 32000 ESC-50-prathikrao/audio_32k/2-95567-A-23.wav\n",
      "sox ESC-50-prathikrao/audio/2-32515-A-4.wav-r 32000 ESC-50-prathikrao/audio_32k/2-32515-A-4.wav\n",
      "sox ESC-50-prathikrao/audio/3-155584-A-14.wav-r 32000 ESC-50-prathikrao/audio_32k/3-155584-A-14.wav\n",
      "sox ESC-50-prathikrao/audio/5-214759-B-5.wav-r 32000 ESC-50-prathikrao/audio_32k/5-214759-B-5.wav\n"
     ]
    },
    {
     "name": "stderr",
     "output_type": "stream",
     "text": [
      "sox WARN rate: rate clipped 440 samples; decrease volume?\n",
      "sox WARN dither: dither clipped 385 samples; decrease volume?\n"
     ]
    },
    {
     "name": "stdout",
     "output_type": "stream",
     "text": [
      "sox ESC-50-prathikrao/audio/4-175945-A-38.wav-r 32000 ESC-50-prathikrao/audio_32k/4-175945-A-38.wav\n",
      "sox ESC-50-prathikrao/audio/1-22804-A-46.wav-r 32000 ESC-50-prathikrao/audio_32k/1-22804-A-46.wav\n",
      "sox ESC-50-prathikrao/audio/3-96606-A-49.wav-r 32000 ESC-50-prathikrao/audio_32k/3-96606-A-49.wav\n"
     ]
    },
    {
     "name": "stderr",
     "output_type": "stream",
     "text": [
      "sox WARN rate: rate clipped 14 samples; decrease volume?\n",
      "sox WARN dither: dither clipped 14 samples; decrease volume?\n"
     ]
    },
    {
     "name": "stdout",
     "output_type": "stream",
     "text": [
      "sox ESC-50-prathikrao/audio/5-221593-A-21.wav-r 32000 ESC-50-prathikrao/audio_32k/5-221593-A-21.wav\n",
      "sox ESC-50-prathikrao/audio/3-110913-D-7.wav-r 32000 ESC-50-prathikrao/audio_32k/3-110913-D-7.wav\n",
      "sox ESC-50-prathikrao/audio/4-161303-B-5.wav-r 32000 ESC-50-prathikrao/audio_32k/4-161303-B-5.wav\n",
      "sox ESC-50-prathikrao/audio/2-73260-A-10.wav-r 32000 ESC-50-prathikrao/audio_32k/2-73260-A-10.wav\n",
      "sox ESC-50-prathikrao/audio/2-104105-B-19.wav-r 32000 ESC-50-prathikrao/audio_32k/2-104105-B-19.wav\n",
      "sox ESC-50-prathikrao/audio/5-249748-A-28.wav-r 32000 ESC-50-prathikrao/audio_32k/5-249748-A-28.wav\n"
     ]
    },
    {
     "name": "stderr",
     "output_type": "stream",
     "text": [
      "sox WARN rate: rate clipped 3 samples; decrease volume?\n",
      "sox WARN dither: dither clipped 3 samples; decrease volume?\n",
      "sox WARN rate: rate clipped 52 samples; decrease volume?\n",
      "sox WARN dither: dither clipped 49 samples; decrease volume?\n"
     ]
    },
    {
     "name": "stdout",
     "output_type": "stream",
     "text": [
      "sox ESC-50-prathikrao/audio/2-117615-E-48.wav-r 32000 ESC-50-prathikrao/audio_32k/2-117615-E-48.wav\n",
      "sox ESC-50-prathikrao/audio/4-108352-A-33.wav-r 32000 ESC-50-prathikrao/audio_32k/4-108352-A-33.wav\n",
      "sox ESC-50-prathikrao/audio/1-46353-A-49.wav-r 32000 ESC-50-prathikrao/audio_32k/1-46353-A-49.wav\n",
      "sox ESC-50-prathikrao/audio/2-139749-A-15.wav-r 32000 ESC-50-prathikrao/audio_32k/2-139749-A-15.wav\n",
      "sox ESC-50-prathikrao/audio/5-215658-A-12.wav-r 32000 ESC-50-prathikrao/audio_32k/5-215658-A-12.wav\n",
      "sox ESC-50-prathikrao/audio/2-128465-A-43.wav-r 32000 ESC-50-prathikrao/audio_32k/2-128465-A-43.wav\n",
      "sox ESC-50-prathikrao/audio/5-179860-A-43.wav-r 32000 ESC-50-prathikrao/audio_32k/5-179860-A-43.wav\n",
      "sox ESC-50-prathikrao/audio/1-58846-A-34.wav-r 32000 ESC-50-prathikrao/audio_32k/1-58846-A-34.wav\n",
      "sox ESC-50-prathikrao/audio/1-17970-A-4.wav-r 32000 ESC-50-prathikrao/audio_32k/1-17970-A-4.wav\n"
     ]
    },
    {
     "name": "stderr",
     "output_type": "stream",
     "text": [
      "sox WARN rate: rate clipped 146 samples; decrease volume?\n",
      "sox WARN dither: dither clipped 124 samples; decrease volume?\n",
      "sox WARN rate: rate clipped 231 samples; decrease volume?\n",
      "sox WARN dither: dither clipped 209 samples; decrease volume?\n"
     ]
    },
    {
     "name": "stdout",
     "output_type": "stream",
     "text": [
      "sox ESC-50-prathikrao/audio/1-15689-A-4.wav-r 32000 ESC-50-prathikrao/audio_32k/1-15689-A-4.wav\n",
      "sox ESC-50-prathikrao/audio/2-139748-A-15.wav-r 32000 ESC-50-prathikrao/audio_32k/2-139748-A-15.wav\n",
      "sox ESC-50-prathikrao/audio/2-88724-A-38.wav-r 32000 ESC-50-prathikrao/audio_32k/2-88724-A-38.wav\n",
      "sox ESC-50-prathikrao/audio/1-64398-B-41.wav-r 32000 ESC-50-prathikrao/audio_32k/1-64398-B-41.wav\n",
      "sox ESC-50-prathikrao/audio/2-124564-A-15.wav-r 32000 ESC-50-prathikrao/audio_32k/2-124564-A-15.wav\n",
      "sox ESC-50-prathikrao/audio/4-161579-A-40.wav-r 32000 ESC-50-prathikrao/audio_32k/4-161579-A-40.wav\n",
      "sox ESC-50-prathikrao/audio/4-125072-A-19.wav-r 32000 ESC-50-prathikrao/audio_32k/4-125072-A-19.wav\n",
      "sox ESC-50-prathikrao/audio/2-71162-A-1.wav-r 32000 ESC-50-prathikrao/audio_32k/2-71162-A-1.wav\n",
      "sox ESC-50-prathikrao/audio/2-98392-A-23.wav-r 32000 ESC-50-prathikrao/audio_32k/2-98392-A-23.wav\n",
      "sox ESC-50-prathikrao/audio/1-45641-A-27.wav-r 32000 ESC-50-prathikrao/audio_32k/1-45641-A-27.wav\n",
      "sox ESC-50-prathikrao/audio/4-163606-A-16.wav-r 32000 ESC-50-prathikrao/audio_32k/4-163606-A-16.wav\n",
      "sox ESC-50-prathikrao/audio/3-159348-A-36.wav-r 32000 ESC-50-prathikrao/audio_32k/3-159348-A-36.wav\n",
      "sox ESC-50-prathikrao/audio/4-187284-A-30.wav-r 32000 ESC-50-prathikrao/audio_32k/4-187284-A-30.wav\n",
      "sox ESC-50-prathikrao/audio/5-253094-A-49.wav-r 32000 ESC-50-prathikrao/audio_32k/5-253094-A-49.wav\n",
      "sox ESC-50-prathikrao/audio/4-186518-A-30.wav-r 32000 ESC-50-prathikrao/audio_32k/4-186518-A-30.wav\n"
     ]
    },
    {
     "name": "stderr",
     "output_type": "stream",
     "text": [
      "sox WARN rate: rate clipped 2 samples; decrease volume?\n",
      "sox WARN dither: dither clipped 1 samples; decrease volume?\n",
      "sox WARN rate: rate clipped 5 samples; decrease volume?\n",
      "sox WARN dither: dither clipped 4 samples; decrease volume?\n"
     ]
    },
    {
     "name": "stdout",
     "output_type": "stream",
     "text": [
      "sox ESC-50-prathikrao/audio/4-195497-A-11.wav-r 32000 ESC-50-prathikrao/audio_32k/4-195497-A-11.wav\n",
      "sox ESC-50-prathikrao/audio/4-135439-A-18.wav-r 32000 ESC-50-prathikrao/audio_32k/4-135439-A-18.wav\n",
      "sox ESC-50-prathikrao/audio/3-108451-A-17.wav-r 32000 ESC-50-prathikrao/audio_32k/3-108451-A-17.wav\n",
      "sox ESC-50-prathikrao/audio/5-200334-B-1.wav-r 32000 ESC-50-prathikrao/audio_32k/5-200334-B-1.wav\n",
      "sox ESC-50-prathikrao/audio/1-36397-A-23.wav-r 32000 ESC-50-prathikrao/audio_32k/1-36397-A-23.wav\n",
      "sox ESC-50-prathikrao/audio/5-252248-A-34.wav-r 32000 ESC-50-prathikrao/audio_32k/5-252248-A-34.wav\n",
      "sox ESC-50-prathikrao/audio/5-156698-A-18.wav-r 32000 ESC-50-prathikrao/audio_32k/5-156698-A-18.wav\n",
      "sox ESC-50-prathikrao/audio/1-30709-B-23.wav-r 32000 ESC-50-prathikrao/audio_32k/1-30709-B-23.wav\n",
      "sox ESC-50-prathikrao/audio/4-218199-C-35.wav-r 32000 ESC-50-prathikrao/audio_32k/4-218199-C-35.wav\n"
     ]
    },
    {
     "name": "stderr",
     "output_type": "stream",
     "text": [
      "sox WARN rate: rate clipped 3 samples; decrease volume?\n",
      "sox WARN dither: dither clipped 1 samples; decrease volume?\n"
     ]
    },
    {
     "name": "stdout",
     "output_type": "stream",
     "text": [
      "sox ESC-50-prathikrao/audio/5-263831-A-6.wav-r 32000 ESC-50-prathikrao/audio_32k/5-263831-A-6.wav\n",
      "sox ESC-50-prathikrao/audio/1-260640-A-2.wav-r 32000 ESC-50-prathikrao/audio_32k/1-260640-A-2.wav\n",
      "sox ESC-50-prathikrao/audio/2-52085-A-4.wav-r 32000 ESC-50-prathikrao/audio_32k/2-52085-A-4.wav\n"
     ]
    },
    {
     "name": "stderr",
     "output_type": "stream",
     "text": [
      "sox WARN rate: rate clipped 1 samples; decrease volume?\n",
      "sox WARN dither: dither clipped 1 samples; decrease volume?\n",
      "sox WARN rate: rate clipped 124 samples; decrease volume?\n",
      "sox WARN dither: dither clipped 113 samples; decrease volume?\n",
      "sox WARN rate: rate clipped 3 samples; decrease volume?\n",
      "sox WARN dither: dither clipped 3 samples; decrease volume?\n"
     ]
    },
    {
     "name": "stdout",
     "output_type": "stream",
     "text": [
      "sox ESC-50-prathikrao/audio/2-135860-A-49.wav-r 32000 ESC-50-prathikrao/audio_32k/2-135860-A-49.wav\n",
      "sox ESC-50-prathikrao/audio/4-184237-A-28.wav-r 32000 ESC-50-prathikrao/audio_32k/4-184237-A-28.wav\n",
      "sox ESC-50-prathikrao/audio/5-198373-A-46.wav-r 32000 ESC-50-prathikrao/audio_32k/5-198373-A-46.wav\n"
     ]
    },
    {
     "name": "stderr",
     "output_type": "stream",
     "text": [
      "sox WARN rate: rate clipped 120 samples; decrease volume?\n",
      "sox WARN dither: dither clipped 105 samples; decrease volume?\n"
     ]
    },
    {
     "name": "stdout",
     "output_type": "stream",
     "text": [
      "sox ESC-50-prathikrao/audio/1-51170-A-18.wav-r 32000 ESC-50-prathikrao/audio_32k/1-51170-A-18.wav\n",
      "sox ESC-50-prathikrao/audio/3-155766-A-13.wav-r 32000 ESC-50-prathikrao/audio_32k/3-155766-A-13.wav\n",
      "sox ESC-50-prathikrao/audio/2-95258-B-1.wav-r 32000 ESC-50-prathikrao/audio_32k/2-95258-B-1.wav\n",
      "sox ESC-50-prathikrao/audio/3-103051-B-19.wav-r 32000 ESC-50-prathikrao/audio_32k/3-103051-B-19.wav\n",
      "sox ESC-50-prathikrao/audio/5-202540-A-18.wav-r 32000 ESC-50-prathikrao/audio_32k/5-202540-A-18.wav\n",
      "sox ESC-50-prathikrao/audio/4-154793-A-4.wav-r 32000 ESC-50-prathikrao/audio_32k/4-154793-A-4.wav\n"
     ]
    },
    {
     "name": "stderr",
     "output_type": "stream",
     "text": [
      "sox WARN rate: rate clipped 5 samples; decrease volume?\n",
      "sox WARN dither: dither clipped 4 samples; decrease volume?\n",
      "sox WARN rate: rate clipped 23 samples; decrease volume?\n",
      "sox WARN dither: dither clipped 20 samples; decrease volume?\n"
     ]
    },
    {
     "name": "stdout",
     "output_type": "stream",
     "text": [
      "sox ESC-50-prathikrao/audio/5-218494-A-22.wav-r 32000 ESC-50-prathikrao/audio_32k/5-218494-A-22.wav\n",
      "sox ESC-50-prathikrao/audio/5-157204-A-16.wav-r 32000 ESC-50-prathikrao/audio_32k/5-157204-A-16.wav\n",
      "sox ESC-50-prathikrao/audio/2-106881-A-39.wav-r 32000 ESC-50-prathikrao/audio_32k/2-106881-A-39.wav\n"
     ]
    },
    {
     "name": "stderr",
     "output_type": "stream",
     "text": [
      "sox WARN rate: rate clipped 21 samples; decrease volume?\n",
      "sox WARN dither: dither clipped 16 samples; decrease volume?\n",
      "sox WARN rate: rate clipped 56 samples; decrease volume?\n",
      "sox WARN dither: dither clipped 47 samples; decrease volume?\n"
     ]
    },
    {
     "name": "stdout",
     "output_type": "stream",
     "text": [
      "sox ESC-50-prathikrao/audio/3-151081-B-20.wav-r 32000 ESC-50-prathikrao/audio_32k/3-151081-B-20.wav\n",
      "sox ESC-50-prathikrao/audio/5-260011-A-34.wav-r 32000 ESC-50-prathikrao/audio_32k/5-260011-A-34.wav\n",
      "sox ESC-50-prathikrao/audio/5-235644-A-30.wav-r 32000 ESC-50-prathikrao/audio_32k/5-235644-A-30.wav\n"
     ]
    },
    {
     "name": "stderr",
     "output_type": "stream",
     "text": [
      "sox WARN rate: rate clipped 27 samples; decrease volume?\n",
      "sox WARN dither: dither clipped 23 samples; decrease volume?\n"
     ]
    },
    {
     "name": "stdout",
     "output_type": "stream",
     "text": [
      "sox ESC-50-prathikrao/audio/3-129678-A-13.wav-r 32000 ESC-50-prathikrao/audio_32k/3-129678-A-13.wav\n",
      "sox ESC-50-prathikrao/audio/1-36402-A-23.wav-r 32000 ESC-50-prathikrao/audio_32k/1-36402-A-23.wav\n",
      "sox ESC-50-prathikrao/audio/1-53444-A-28.wav-r 32000 ESC-50-prathikrao/audio_32k/1-53444-A-28.wav\n"
     ]
    },
    {
     "name": "stderr",
     "output_type": "stream",
     "text": [
      "sox WARN rate: rate clipped 3 samples; decrease volume?\n",
      "sox WARN dither: dither clipped 3 samples; decrease volume?\n"
     ]
    },
    {
     "name": "stdout",
     "output_type": "stream",
     "text": [
      "sox ESC-50-prathikrao/audio/5-219242-A-37.wav-r 32000 ESC-50-prathikrao/audio_32k/5-219242-A-37.wav\n",
      "sox ESC-50-prathikrao/audio/3-98869-A-46.wav-r 32000 ESC-50-prathikrao/audio_32k/3-98869-A-46.wav\n",
      "sox ESC-50-prathikrao/audio/1-260640-C-2.wav-r 32000 ESC-50-prathikrao/audio_32k/1-260640-C-2.wav\n"
     ]
    },
    {
     "name": "stderr",
     "output_type": "stream",
     "text": [
      "sox WARN rate: rate clipped 491 samples; decrease volume?\n",
      "sox WARN dither: dither clipped 434 samples; decrease volume?\n"
     ]
    },
    {
     "name": "stdout",
     "output_type": "stream",
     "text": [
      "sox ESC-50-prathikrao/audio/2-188822-A-40.wav-r 32000 ESC-50-prathikrao/audio_32k/2-188822-A-40.wav\n",
      "sox ESC-50-prathikrao/audio/2-78651-A-44.wav-r 32000 ESC-50-prathikrao/audio_32k/2-78651-A-44.wav\n",
      "sox ESC-50-prathikrao/audio/4-182613-B-11.wav-r 32000 ESC-50-prathikrao/audio_32k/4-182613-B-11.wav\n",
      "sox ESC-50-prathikrao/audio/3-115387-A-47.wav-r 32000 ESC-50-prathikrao/audio_32k/3-115387-A-47.wav\n",
      "sox ESC-50-prathikrao/audio/1-51805-C-33.wav-r 32000 ESC-50-prathikrao/audio_32k/1-51805-C-33.wav\n",
      "sox ESC-50-prathikrao/audio/2-59566-A-46.wav-r 32000 ESC-50-prathikrao/audio_32k/2-59566-A-46.wav\n",
      "sox ESC-50-prathikrao/audio/4-244318-A-6.wav-r 32000 ESC-50-prathikrao/audio_32k/4-244318-A-6.wav\n",
      "sox ESC-50-prathikrao/audio/3-146033-A-13.wav-r 32000 ESC-50-prathikrao/audio_32k/3-146033-A-13.wav\n",
      "sox ESC-50-prathikrao/audio/1-79146-A-29.wav-r 32000 ESC-50-prathikrao/audio_32k/1-79146-A-29.wav\n"
     ]
    },
    {
     "name": "stderr",
     "output_type": "stream",
     "text": [
      "sox WARN rate: rate clipped 57 samples; decrease volume?\n",
      "sox WARN dither: dither clipped 52 samples; decrease volume?\n"
     ]
    },
    {
     "name": "stdout",
     "output_type": "stream",
     "text": [
      "sox ESC-50-prathikrao/audio/1-67033-A-37.wav-r 32000 ESC-50-prathikrao/audio_32k/1-67033-A-37.wav\n",
      "sox ESC-50-prathikrao/audio/1-103999-A-30.wav-r 32000 ESC-50-prathikrao/audio_32k/1-103999-A-30.wav\n",
      "sox ESC-50-prathikrao/audio/1-38560-A-14.wav-r 32000 ESC-50-prathikrao/audio_32k/1-38560-A-14.wav\n",
      "sox ESC-50-prathikrao/audio/5-189795-A-4.wav-r 32000 ESC-50-prathikrao/audio_32k/5-189795-A-4.wav\n",
      "sox ESC-50-prathikrao/audio/5-202020-A-18.wav-r 32000 ESC-50-prathikrao/audio_32k/5-202020-A-18.wav\n",
      "sox ESC-50-prathikrao/audio/3-152020-B-36.wav-r 32000 ESC-50-prathikrao/audio_32k/3-152020-B-36.wav\n"
     ]
    },
    {
     "name": "stderr",
     "output_type": "stream",
     "text": [
      "sox WARN rate: rate clipped 1485 samples; decrease volume?\n",
      "sox WARN dither: dither clipped 1297 samples; decrease volume?\n",
      "sox WARN rate: rate clipped 708 samples; decrease volume?\n",
      "sox WARN dither: dither clipped 624 samples; decrease volume?\n",
      "sox WARN rate: rate clipped 7523 samples; decrease volume?\n",
      "sox WARN dither: dither clipped 6596 samples; decrease volume?\n"
     ]
    },
    {
     "name": "stdout",
     "output_type": "stream",
     "text": [
      "sox ESC-50-prathikrao/audio/3-170015-A-0.wav-r 32000 ESC-50-prathikrao/audio_32k/3-170015-A-0.wav\n",
      "sox ESC-50-prathikrao/audio/4-175845-A-43.wav-r 32000 ESC-50-prathikrao/audio_32k/4-175845-A-43.wav\n",
      "sox ESC-50-prathikrao/audio/5-200329-B-8.wav-r 32000 ESC-50-prathikrao/audio_32k/5-200329-B-8.wav\n"
     ]
    },
    {
     "name": "stderr",
     "output_type": "stream",
     "text": [
      "sox WARN rate: rate clipped 7 samples; decrease volume?\n",
      "sox WARN dither: dither clipped 6 samples; decrease volume?\n",
      "sox WARN rate: rate clipped 5 samples; decrease volume?\n",
      "sox WARN dither: dither clipped 5 samples; decrease volume?\n"
     ]
    },
    {
     "name": "stdout",
     "output_type": "stream",
     "text": [
      "sox ESC-50-prathikrao/audio/4-181599-A-26.wav-r 32000 ESC-50-prathikrao/audio_32k/4-181599-A-26.wav\n",
      "sox ESC-50-prathikrao/audio/1-81001-B-30.wav-r 32000 ESC-50-prathikrao/audio_32k/1-81001-B-30.wav\n",
      "sox ESC-50-prathikrao/audio/1-211527-B-20.wav-r 32000 ESC-50-prathikrao/audio_32k/1-211527-B-20.wav\n"
     ]
    },
    {
     "name": "stderr",
     "output_type": "stream",
     "text": [
      "sox WARN rate: rate clipped 1476 samples; decrease volume?\n",
      "sox WARN dither: dither clipped 1312 samples; decrease volume?\n",
      "sox WARN rate: rate clipped 195 samples; decrease volume?\n",
      "sox WARN dither: dither clipped 164 samples; decrease volume?\n"
     ]
    },
    {
     "name": "stdout",
     "output_type": "stream",
     "text": [
      "sox ESC-50-prathikrao/audio/3-253084-D-2.wav-r 32000 ESC-50-prathikrao/audio_32k/3-253084-D-2.wav\n",
      "sox ESC-50-prathikrao/audio/2-92978-A-29.wav-r 32000 ESC-50-prathikrao/audio_32k/2-92978-A-29.wav\n",
      "sox ESC-50-prathikrao/audio/5-237315-A-31.wav-r 32000 ESC-50-prathikrao/audio_32k/5-237315-A-31.wav\n"
     ]
    },
    {
     "name": "stderr",
     "output_type": "stream",
     "text": [
      "sox WARN rate: rate clipped 161 samples; decrease volume?\n",
      "sox WARN dither: dither clipped 134 samples; decrease volume?\n"
     ]
    },
    {
     "name": "stdout",
     "output_type": "stream",
     "text": [
      "sox ESC-50-prathikrao/audio/3-68630-A-40.wav-r 32000 ESC-50-prathikrao/audio_32k/3-68630-A-40.wav\n",
      "sox ESC-50-prathikrao/audio/2-72547-A-14.wav-r 32000 ESC-50-prathikrao/audio_32k/2-72547-A-14.wav\n",
      "sox ESC-50-prathikrao/audio/3-169907-A-29.wav-r 32000 ESC-50-prathikrao/audio_32k/3-169907-A-29.wav\n",
      "sox ESC-50-prathikrao/audio/4-186935-A-44.wav-r 32000 ESC-50-prathikrao/audio_32k/4-186935-A-44.wav\n",
      "sox ESC-50-prathikrao/audio/1-50688-A-17.wav-r 32000 ESC-50-prathikrao/audio_32k/1-50688-A-17.wav\n",
      "sox ESC-50-prathikrao/audio/whistle9.wav-r 32000 ESC-50-prathikrao/audio_32k/whistle9.wav\n",
      "sox ESC-50-prathikrao/audio/5-233787-A-7.wav-r 32000 ESC-50-prathikrao/audio_32k/5-233787-A-7.wav\n",
      "sox ESC-50-prathikrao/audio/2-91912-B-33.wav-r 32000 ESC-50-prathikrao/audio_32k/2-91912-B-33.wav\n",
      "sox ESC-50-prathikrao/audio/5-259514-A-26.wav-r 32000 ESC-50-prathikrao/audio_32k/5-259514-A-26.wav\n"
     ]
    },
    {
     "name": "stderr",
     "output_type": "stream",
     "text": [
      "sox WARN rate: rate clipped 4 samples; decrease volume?\n",
      "sox WARN dither: dither clipped 4 samples; decrease volume?\n",
      "sox WARN rate: rate clipped 6 samples; decrease volume?\n",
      "sox WARN dither: dither clipped 5 samples; decrease volume?\n"
     ]
    },
    {
     "name": "stdout",
     "output_type": "stream",
     "text": [
      "sox ESC-50-prathikrao/audio/4-185575-A-20.wav-r 32000 ESC-50-prathikrao/audio_32k/4-185575-A-20.wav\n",
      "sox ESC-50-prathikrao/audio/1-17808-A-12.wav-r 32000 ESC-50-prathikrao/audio_32k/1-17808-A-12.wav\n",
      "sox ESC-50-prathikrao/audio/3-124376-B-3.wav-r 32000 ESC-50-prathikrao/audio_32k/3-124376-B-3.wav\n"
     ]
    },
    {
     "name": "stderr",
     "output_type": "stream",
     "text": [
      "sox WARN rate: rate clipped 164 samples; decrease volume?\n",
      "sox WARN dither: dither clipped 141 samples; decrease volume?\n"
     ]
    },
    {
     "name": "stdout",
     "output_type": "stream",
     "text": [
      "sox ESC-50-prathikrao/audio/4-99644-B-4.wav-r 32000 ESC-50-prathikrao/audio_32k/4-99644-B-4.wav\n",
      "sox ESC-50-prathikrao/audio/5-248341-B-6.wav-r 32000 ESC-50-prathikrao/audio_32k/5-248341-B-6.wav\n",
      "sox ESC-50-prathikrao/audio/4-212604-C-15.wav-r 32000 ESC-50-prathikrao/audio_32k/4-212604-C-15.wav\n"
     ]
    },
    {
     "name": "stderr",
     "output_type": "stream",
     "text": [
      "sox WARN rate: rate clipped 57 samples; decrease volume?\n",
      "sox WARN dither: dither clipped 53 samples; decrease volume?\n"
     ]
    },
    {
     "name": "stdout",
     "output_type": "stream",
     "text": [
      "sox ESC-50-prathikrao/audio/5-218196-B-27.wav-r 32000 ESC-50-prathikrao/audio_32k/5-218196-B-27.wav\n",
      "sox ESC-50-prathikrao/audio/2-132157-B-11.wav-r 32000 ESC-50-prathikrao/audio_32k/2-132157-B-11.wav\n",
      "sox ESC-50-prathikrao/audio/2-96460-A-1.wav-r 32000 ESC-50-prathikrao/audio_32k/2-96460-A-1.wav\n",
      "sox ESC-50-prathikrao/audio/3-170377-A-38.wav-r 32000 ESC-50-prathikrao/audio_32k/3-170377-A-38.wav\n",
      "sox ESC-50-prathikrao/audio/4-150364-B-46.wav-r 32000 ESC-50-prathikrao/audio_32k/4-150364-B-46.wav\n",
      "sox ESC-50-prathikrao/audio/4-188703-D-8.wav-r 32000 ESC-50-prathikrao/audio_32k/4-188703-D-8.wav\n"
     ]
    },
    {
     "name": "stderr",
     "output_type": "stream",
     "text": [
      "sox WARN rate: rate clipped 108 samples; decrease volume?\n",
      "sox WARN dither: dither clipped 97 samples; decrease volume?\n"
     ]
    },
    {
     "name": "stdout",
     "output_type": "stream",
     "text": [
      "sox ESC-50-prathikrao/audio/5-195710-A-10.wav-r 32000 ESC-50-prathikrao/audio_32k/5-195710-A-10.wav\n",
      "sox ESC-50-prathikrao/audio/4-161127-A-10.wav-r 32000 ESC-50-prathikrao/audio_32k/4-161127-A-10.wav\n",
      "sox ESC-50-prathikrao/audio/3-102583-C-49.wav-r 32000 ESC-50-prathikrao/audio_32k/3-102583-C-49.wav\n",
      "sox ESC-50-prathikrao/audio/4-165845-A-45.wav-r 32000 ESC-50-prathikrao/audio_32k/4-165845-A-45.wav\n",
      "sox ESC-50-prathikrao/audio/1-49409-B-8.wav-r 32000 ESC-50-prathikrao/audio_32k/1-49409-B-8.wav\n",
      "sox ESC-50-prathikrao/audio/2-108767-B-9.wav-r 32000 ESC-50-prathikrao/audio_32k/2-108767-B-9.wav\n"
     ]
    },
    {
     "name": "stderr",
     "output_type": "stream",
     "text": [
      "sox WARN rate: rate clipped 341 samples; decrease volume?\n",
      "sox WARN dither: dither clipped 300 samples; decrease volume?\n"
     ]
    },
    {
     "name": "stdout",
     "output_type": "stream",
     "text": [
      "sox ESC-50-prathikrao/audio/3-216280-A-39.wav-r 32000 ESC-50-prathikrao/audio_32k/3-216280-A-39.wav\n",
      "sox ESC-50-prathikrao/audio/5-204352-B-13.wav-r 32000 ESC-50-prathikrao/audio_32k/5-204352-B-13.wav\n",
      "sox ESC-50-prathikrao/audio/1-51436-A-17.wav-r 32000 ESC-50-prathikrao/audio_32k/1-51436-A-17.wav\n",
      "sox ESC-50-prathikrao/audio/5-179294-A-46.wav-r 32000 ESC-50-prathikrao/audio_32k/5-179294-A-46.wav\n",
      "sox ESC-50-prathikrao/audio/3-216281-A-39.wav-r 32000 ESC-50-prathikrao/audio_32k/3-216281-A-39.wav\n",
      "sox ESC-50-prathikrao/audio/3-98193-A-46.wav-r 32000 ESC-50-prathikrao/audio_32k/3-98193-A-46.wav\n"
     ]
    },
    {
     "name": "stderr",
     "output_type": "stream",
     "text": [
      "sox WARN rate: rate clipped 110 samples; decrease volume?\n",
      "sox WARN dither: dither clipped 98 samples; decrease volume?\n",
      "sox WARN rate: rate clipped 3 samples; decrease volume?\n",
      "sox WARN dither: dither clipped 2 samples; decrease volume?\n"
     ]
    },
    {
     "name": "stdout",
     "output_type": "stream",
     "text": [
      "sox ESC-50-prathikrao/audio/4-197454-A-28.wav-r 32000 ESC-50-prathikrao/audio_32k/4-197454-A-28.wav\n",
      "sox ESC-50-prathikrao/audio/2-109371-C-16.wav-r 32000 ESC-50-prathikrao/audio_32k/2-109371-C-16.wav\n",
      "sox ESC-50-prathikrao/audio/4-149940-B-5.wav-r 32000 ESC-50-prathikrao/audio_32k/4-149940-B-5.wav\n",
      "sox ESC-50-prathikrao/audio/whistle8.wav-r 32000 ESC-50-prathikrao/audio_32k/whistle8.wav\n",
      "sox ESC-50-prathikrao/audio/2-32515-C-4.wav-r 32000 ESC-50-prathikrao/audio_32k/2-32515-C-4.wav\n",
      "sox ESC-50-prathikrao/audio/4-132816-A-26.wav-r 32000 ESC-50-prathikrao/audio_32k/4-132816-A-26.wav\n"
     ]
    },
    {
     "name": "stderr",
     "output_type": "stream",
     "text": [
      "sox WARN rate: rate clipped 442 samples; decrease volume?\n",
      "sox WARN dither: dither clipped 387 samples; decrease volume?\n",
      "sox WARN rate: rate clipped 253 samples; decrease volume?\n",
      "sox WARN dither: dither clipped 217 samples; decrease volume?\n",
      "sox WARN rate: rate clipped 1936 samples; decrease volume?\n",
      "sox WARN dither: dither clipped 1709 samples; decrease volume?\n"
     ]
    },
    {
     "name": "stdout",
     "output_type": "stream",
     "text": [
      "sox ESC-50-prathikrao/audio/1-72195-B-37.wav-r 32000 ESC-50-prathikrao/audio_32k/1-72195-B-37.wav\n",
      "sox ESC-50-prathikrao/audio/1-69760-A-16.wav-r 32000 ESC-50-prathikrao/audio_32k/1-69760-A-16.wav\n",
      "sox ESC-50-prathikrao/audio/2-120587-A-6.wav-r 32000 ESC-50-prathikrao/audio_32k/2-120587-A-6.wav\n"
     ]
    },
    {
     "name": "stderr",
     "output_type": "stream",
     "text": [
      "sox WARN rate: rate clipped 141 samples; decrease volume?\n",
      "sox WARN dither: dither clipped 119 samples; decrease volume?\n"
     ]
    },
    {
     "name": "stdout",
     "output_type": "stream",
     "text": [
      "sox ESC-50-prathikrao/audio/2-79775-A-26.wav-r 32000 ESC-50-prathikrao/audio_32k/2-79775-A-26.wav\n",
      "sox ESC-50-prathikrao/audio/2-120218-A-30.wav-r 32000 ESC-50-prathikrao/audio_32k/2-120218-A-30.wav\n",
      "sox ESC-50-prathikrao/audio/5-242932-B-26.wav-r 32000 ESC-50-prathikrao/audio_32k/5-242932-B-26.wav\n",
      "sox ESC-50-prathikrao/audio/4-223127-A-14.wav-r 32000 ESC-50-prathikrao/audio_32k/4-223127-A-14.wav\n",
      "sox ESC-50-prathikrao/audio/2-121909-A-35.wav-r 32000 ESC-50-prathikrao/audio_32k/2-121909-A-35.wav\n",
      "sox ESC-50-prathikrao/audio/2-77945-B-41.wav-r 32000 ESC-50-prathikrao/audio_32k/2-77945-B-41.wav\n",
      "sox ESC-50-prathikrao/audio/5-243773-A-44.wav-r 32000 ESC-50-prathikrao/audio_32k/5-243773-A-44.wav\n",
      "sox ESC-50-prathikrao/audio/2-102414-E-17.wav-r 32000 ESC-50-prathikrao/audio_32k/2-102414-E-17.wav\n",
      "sox ESC-50-prathikrao/audio/2-30322-A-12.wav-r 32000 ESC-50-prathikrao/audio_32k/2-30322-A-12.wav\n",
      "sox ESC-50-prathikrao/audio/2-118459-A-32.wav-r 32000 ESC-50-prathikrao/audio_32k/2-118459-A-32.wav\n",
      "sox ESC-50-prathikrao/audio/1-43807-C-47.wav-r 32000 ESC-50-prathikrao/audio_32k/1-43807-C-47.wav\n",
      "sox ESC-50-prathikrao/audio/3-94355-A-33.wav-r 32000 ESC-50-prathikrao/audio_32k/3-94355-A-33.wav\n",
      "sox ESC-50-prathikrao/audio/5-204114-A-29.wav-r 32000 ESC-50-prathikrao/audio_32k/5-204114-A-29.wav\n",
      "sox ESC-50-prathikrao/audio/4-125929-A-40.wav-r 32000 ESC-50-prathikrao/audio_32k/4-125929-A-40.wav\n",
      "sox ESC-50-prathikrao/audio/4-172500-D-27.wav-r 32000 ESC-50-prathikrao/audio_32k/4-172500-D-27.wav\n",
      "sox ESC-50-prathikrao/audio/5-250258-A-49.wav-r 32000 ESC-50-prathikrao/audio_32k/5-250258-A-49.wav\n",
      "sox ESC-50-prathikrao/audio/2-18766-B-12.wav-r 32000 ESC-50-prathikrao/audio_32k/2-18766-B-12.wav\n",
      "sox ESC-50-prathikrao/audio/2-102568-A-35.wav-r 32000 ESC-50-prathikrao/audio_32k/2-102568-A-35.wav\n"
     ]
    },
    {
     "name": "stderr",
     "output_type": "stream",
     "text": [
      "sox WARN rate: rate clipped 2 samples; decrease volume?\n",
      "sox WARN dither: dither clipped 2 samples; decrease volume?\n"
     ]
    },
    {
     "name": "stdout",
     "output_type": "stream",
     "text": [
      "sox ESC-50-prathikrao/audio/1-47819-C-5.wav-r 32000 ESC-50-prathikrao/audio_32k/1-47819-C-5.wav\n",
      "sox ESC-50-prathikrao/audio/4-132383-A-2.wav-r 32000 ESC-50-prathikrao/audio_32k/4-132383-A-2.wav\n",
      "sox ESC-50-prathikrao/audio/4-133895-A-7.wav-r 32000 ESC-50-prathikrao/audio_32k/4-133895-A-7.wav\n",
      "sox ESC-50-prathikrao/audio/4-169127-A-41.wav-r 32000 ESC-50-prathikrao/audio_32k/4-169127-A-41.wav\n",
      "sox ESC-50-prathikrao/audio/2-140841-A-30.wav-r 32000 ESC-50-prathikrao/audio_32k/2-140841-A-30.wav\n",
      "sox ESC-50-prathikrao/audio/2-98676-A-24.wav-r 32000 ESC-50-prathikrao/audio_32k/2-98676-A-24.wav\n",
      "sox ESC-50-prathikrao/audio/3-166324-A-15.wav-r 32000 ESC-50-prathikrao/audio_32k/3-166324-A-15.wav\n",
      "sox ESC-50-prathikrao/audio/1-50625-A-17.wav-r 32000 ESC-50-prathikrao/audio_32k/1-50625-A-17.wav\n",
      "sox ESC-50-prathikrao/audio/2-135649-C-45.wav-r 32000 ESC-50-prathikrao/audio_32k/2-135649-C-45.wav\n"
     ]
    },
    {
     "name": "stderr",
     "output_type": "stream",
     "text": [
      "sox WARN rate: rate clipped 34 samples; decrease volume?\n",
      "sox WARN dither: dither clipped 29 samples; decrease volume?\n",
      "sox WARN rate: rate clipped 519 samples; decrease volume?\n",
      "sox WARN dither: dither clipped 460 samples; decrease volume?\n"
     ]
    },
    {
     "name": "stdout",
     "output_type": "stream",
     "text": [
      "sox ESC-50-prathikrao/audio/1-24796-A-47.wav-r 32000 ESC-50-prathikrao/audio_32k/1-24796-A-47.wav\n",
      "sox ESC-50-prathikrao/audio/5-263902-A-36.wav-r 32000 ESC-50-prathikrao/audio_32k/5-263902-A-36.wav\n",
      "sox ESC-50-prathikrao/audio/4-163264-A-10.wav-r 32000 ESC-50-prathikrao/audio_32k/4-163264-A-10.wav\n",
      "sox ESC-50-prathikrao/audio/5-253085-B-3.wav-r 32000 ESC-50-prathikrao/audio_32k/5-253085-B-3.wav\n",
      "sox ESC-50-prathikrao/audio/4-196672-A-8.wav-r 32000 ESC-50-prathikrao/audio_32k/4-196672-A-8.wav\n",
      "sox ESC-50-prathikrao/audio/1-59513-A-0.wav-r 32000 ESC-50-prathikrao/audio_32k/1-59513-A-0.wav\n"
     ]
    },
    {
     "name": "stderr",
     "output_type": "stream",
     "text": [
      "sox WARN rate: rate clipped 1834 samples; decrease volume?\n",
      "sox WARN dither: dither clipped 1606 samples; decrease volume?\n"
     ]
    },
    {
     "name": "stdout",
     "output_type": "stream",
     "text": [
      "sox ESC-50-prathikrao/audio/3-51376-A-42.wav-r 32000 ESC-50-prathikrao/audio_32k/3-51376-A-42.wav\n",
      "sox ESC-50-prathikrao/audio/4-185575-C-20.wav-r 32000 ESC-50-prathikrao/audio_32k/4-185575-C-20.wav\n",
      "sox ESC-50-prathikrao/audio/3-142005-A-10.wav-r 32000 ESC-50-prathikrao/audio_32k/3-142005-A-10.wav\n",
      "sox ESC-50-prathikrao/audio/1-30039-A-26.wav-r 32000 ESC-50-prathikrao/audio_32k/1-30039-A-26.wav\n",
      "sox ESC-50-prathikrao/audio/3-110913-B-7.wav-r 32000 ESC-50-prathikrao/audio_32k/3-110913-B-7.wav\n",
      "sox ESC-50-prathikrao/audio/3-170312-A-31.wav-r 32000 ESC-50-prathikrao/audio_32k/3-170312-A-31.wav\n"
     ]
    },
    {
     "name": "stderr",
     "output_type": "stream",
     "text": [
      "sox WARN rate: rate clipped 8 samples; decrease volume?\n",
      "sox WARN dither: dither clipped 6 samples; decrease volume?\n",
      "sox WARN rate: rate clipped 4 samples; decrease volume?\n",
      "sox WARN dither: dither clipped 4 samples; decrease volume?\n"
     ]
    },
    {
     "name": "stdout",
     "output_type": "stream",
     "text": [
      "sox ESC-50-prathikrao/audio/1-196660-A-8.wav-r 32000 ESC-50-prathikrao/audio_32k/1-196660-A-8.wav\n",
      "sox ESC-50-prathikrao/audio/2-122104-A-0.wav-r 32000 ESC-50-prathikrao/audio_32k/2-122104-A-0.wav\n",
      "sox ESC-50-prathikrao/audio/5-222894-A-32.wav-r 32000 ESC-50-prathikrao/audio_32k/5-222894-A-32.wav\n",
      "sox ESC-50-prathikrao/audio/4-164661-B-12.wav-r 32000 ESC-50-prathikrao/audio_32k/4-164661-B-12.wav\n",
      "sox ESC-50-prathikrao/audio/4-151242-A-37.wav-r 32000 ESC-50-prathikrao/audio_32k/4-151242-A-37.wav\n",
      "sox ESC-50-prathikrao/audio/4-212604-A-15.wav-r 32000 ESC-50-prathikrao/audio_32k/4-212604-A-15.wav\n"
     ]
    },
    {
     "name": "stderr",
     "output_type": "stream",
     "text": [
      "sox WARN rate: rate clipped 9093 samples; decrease volume?\n",
      "sox WARN dither: dither clipped 7962 samples; decrease volume?\n"
     ]
    },
    {
     "name": "stdout",
     "output_type": "stream",
     "text": [
      "sox ESC-50-prathikrao/audio/1-18631-A-23.wav-r 32000 ESC-50-prathikrao/audio_32k/1-18631-A-23.wav\n",
      "sox ESC-50-prathikrao/audio/1-76831-E-42.wav-r 32000 ESC-50-prathikrao/audio_32k/1-76831-E-42.wav\n",
      "sox ESC-50-prathikrao/audio/2-82077-A-7.wav-r 32000 ESC-50-prathikrao/audio_32k/2-82077-A-7.wav\n"
     ]
    },
    {
     "name": "stderr",
     "output_type": "stream",
     "text": [
      "sox WARN rate: rate clipped 38 samples; decrease volume?\n",
      "sox WARN dither: dither clipped 34 samples; decrease volume?\n",
      "sox WARN rate: rate clipped 126 samples; decrease volume?\n",
      "sox WARN dither: dither clipped 113 samples; decrease volume?\n"
     ]
    },
    {
     "name": "stdout",
     "output_type": "stream",
     "text": [
      "sox ESC-50-prathikrao/audio/3-68630-C-40.wav-r 32000 ESC-50-prathikrao/audio_32k/3-68630-C-40.wav\n",
      "sox ESC-50-prathikrao/audio/3-197408-C-8.wav-r 32000 ESC-50-prathikrao/audio_32k/3-197408-C-8.wav\n",
      "sox ESC-50-prathikrao/audio/2-138465-A-43.wav-r 32000 ESC-50-prathikrao/audio_32k/2-138465-A-43.wav\n",
      "sox ESC-50-prathikrao/audio/2-102852-A-11.wav-r 32000 ESC-50-prathikrao/audio_32k/2-102852-A-11.wav\n",
      "sox ESC-50-prathikrao/audio/4-156827-A-46.wav-r 32000 ESC-50-prathikrao/audio_32k/4-156827-A-46.wav\n",
      "sox ESC-50-prathikrao/audio/3-118972-B-41.wav-r 32000 ESC-50-prathikrao/audio_32k/3-118972-B-41.wav\n"
     ]
    },
    {
     "name": "stderr",
     "output_type": "stream",
     "text": [
      "sox WARN rate: rate clipped 108 samples; decrease volume?\n",
      "sox WARN dither: dither clipped 87 samples; decrease volume?\n"
     ]
    },
    {
     "name": "stdout",
     "output_type": "stream",
     "text": [
      "sox ESC-50-prathikrao/audio/3-136608-A-16.wav-r 32000 ESC-50-prathikrao/audio_32k/3-136608-A-16.wav\n",
      "sox ESC-50-prathikrao/audio/3-120526-A-37.wav-r 32000 ESC-50-prathikrao/audio_32k/3-120526-A-37.wav\n",
      "sox ESC-50-prathikrao/audio/2-87780-A-33.wav-r 32000 ESC-50-prathikrao/audio_32k/2-87780-A-33.wav\n",
      "sox ESC-50-prathikrao/audio/5-201274-A-21.wav-r 32000 ESC-50-prathikrao/audio_32k/5-201274-A-21.wav\n",
      "sox ESC-50-prathikrao/audio/2-72547-C-14.wav-r 32000 ESC-50-prathikrao/audio_32k/2-72547-C-14.wav\n",
      "sox ESC-50-prathikrao/audio/4-167063-B-11.wav-r 32000 ESC-50-prathikrao/audio_32k/4-167063-B-11.wav\n"
     ]
    },
    {
     "name": "stderr",
     "output_type": "stream",
     "text": [
      "sox WARN rate: rate clipped 2 samples; decrease volume?\n",
      "sox WARN dither: dither clipped 2 samples; decrease volume?\n"
     ]
    },
    {
     "name": "stdout",
     "output_type": "stream",
     "text": [
      "sox ESC-50-prathikrao/audio/4-204683-A-31.wav-r 32000 ESC-50-prathikrao/audio_32k/4-204683-A-31.wav\n",
      "sox ESC-50-prathikrao/audio/3-94343-A-25.wav-r 32000 ESC-50-prathikrao/audio_32k/3-94343-A-25.wav\n",
      "sox ESC-50-prathikrao/audio/3-94342-A-25.wav-r 32000 ESC-50-prathikrao/audio_32k/3-94342-A-25.wav\n",
      "sox ESC-50-prathikrao/audio/3-157695-A-0.wav-r 32000 ESC-50-prathikrao/audio_32k/3-157695-A-0.wav\n",
      "sox ESC-50-prathikrao/audio/2-158746-C-2.wav-r 32000 ESC-50-prathikrao/audio_32k/2-158746-C-2.wav\n",
      "sox ESC-50-prathikrao/audio/4-180337-A-28.wav-r 32000 ESC-50-prathikrao/audio_32k/4-180337-A-28.wav\n"
     ]
    },
    {
     "name": "stderr",
     "output_type": "stream",
     "text": [
      "sox WARN rate: rate clipped 507 samples; decrease volume?\n",
      "sox WARN dither: dither clipped 440 samples; decrease volume?\n"
     ]
    },
    {
     "name": "stdout",
     "output_type": "stream",
     "text": [
      "sox ESC-50-prathikrao/audio/5-263490-A-25.wav-r 32000 ESC-50-prathikrao/audio_32k/5-263490-A-25.wav\n",
      "sox ESC-50-prathikrao/audio/4-143118-A-7.wav-r 32000 ESC-50-prathikrao/audio_32k/4-143118-A-7.wav\n",
      "sox ESC-50-prathikrao/audio/2-114280-A-0.wav-r 32000 ESC-50-prathikrao/audio_32k/2-114280-A-0.wav\n"
     ]
    },
    {
     "name": "stderr",
     "output_type": "stream",
     "text": [
      "sox WARN rate: rate clipped 12 samples; decrease volume?\n",
      "sox WARN dither: dither clipped 8 samples; decrease volume?\n"
     ]
    },
    {
     "name": "stdout",
     "output_type": "stream",
     "text": [
      "sox ESC-50-prathikrao/audio/5-263491-A-25.wav-r 32000 ESC-50-prathikrao/audio_32k/5-263491-A-25.wav\n",
      "sox ESC-50-prathikrao/audio/5-233605-A-39.wav-r 32000 ESC-50-prathikrao/audio_32k/5-233605-A-39.wav\n",
      "sox ESC-50-prathikrao/audio/5-200461-A-11.wav-r 32000 ESC-50-prathikrao/audio_32k/5-200461-A-11.wav\n"
     ]
    },
    {
     "name": "stderr",
     "output_type": "stream",
     "text": [
      "sox WARN rate: rate clipped 203 samples; decrease volume?\n",
      "sox WARN dither: dither clipped 172 samples; decrease volume?\n"
     ]
    },
    {
     "name": "stdout",
     "output_type": "stream",
     "text": [
      "sox ESC-50-prathikrao/audio/2-109231-B-9.wav-r 32000 ESC-50-prathikrao/audio_32k/2-109231-B-9.wav\n",
      "sox ESC-50-prathikrao/audio/2-117116-A-37.wav-r 32000 ESC-50-prathikrao/audio_32k/2-117116-A-37.wav\n",
      "sox ESC-50-prathikrao/audio/2-106019-A-13.wav-r 32000 ESC-50-prathikrao/audio_32k/2-106019-A-13.wav\n",
      "sox ESC-50-prathikrao/audio/3-97909-A-49.wav-r 32000 ESC-50-prathikrao/audio_32k/3-97909-A-49.wav\n",
      "sox ESC-50-prathikrao/audio/4-147657-A-46.wav-r 32000 ESC-50-prathikrao/audio_32k/4-147657-A-46.wav\n",
      "sox ESC-50-prathikrao/audio/3-152007-E-20.wav-r 32000 ESC-50-prathikrao/audio_32k/3-152007-E-20.wav\n"
     ]
    },
    {
     "name": "stderr",
     "output_type": "stream",
     "text": [
      "sox WARN rate: rate clipped 6 samples; decrease volume?\n",
      "sox WARN dither: dither clipped 6 samples; decrease volume?\n"
     ]
    },
    {
     "name": "stdout",
     "output_type": "stream",
     "text": [
      "sox ESC-50-prathikrao/audio/1-172649-B-40.wav-r 32000 ESC-50-prathikrao/audio_32k/1-172649-B-40.wav\n",
      "sox ESC-50-prathikrao/audio/1-54505-A-21.wav-r 32000 ESC-50-prathikrao/audio_32k/1-54505-A-21.wav\n",
      "sox ESC-50-prathikrao/audio/5-170338-B-41.wav-r 32000 ESC-50-prathikrao/audio_32k/5-170338-B-41.wav\n",
      "sox ESC-50-prathikrao/audio/1-137-A-32.wav-r 32000 ESC-50-prathikrao/audio_32k/1-137-A-32.wav\n",
      "sox ESC-50-prathikrao/audio/4-250869-B-2.wav-r 32000 ESC-50-prathikrao/audio_32k/4-250869-B-2.wav\n",
      "sox ESC-50-prathikrao/audio/5-244327-A-34.wav-r 32000 ESC-50-prathikrao/audio_32k/5-244327-A-34.wav\n"
     ]
    },
    {
     "name": "stderr",
     "output_type": "stream",
     "text": [
      "sox WARN rate: rate clipped 7 samples; decrease volume?\n",
      "sox WARN dither: dither clipped 6 samples; decrease volume?\n",
      "sox WARN rate: rate clipped 74 samples; decrease volume?\n",
      "sox WARN dither: dither clipped 65 samples; decrease volume?\n"
     ]
    },
    {
     "name": "stdout",
     "output_type": "stream",
     "text": [
      "sox ESC-50-prathikrao/audio/3-115387-C-47.wav-r 32000 ESC-50-prathikrao/audio_32k/3-115387-C-47.wav\n",
      "sox ESC-50-prathikrao/audio/2-209478-A-25.wav-r 32000 ESC-50-prathikrao/audio_32k/2-209478-A-25.wav\n",
      "sox ESC-50-prathikrao/audio/4-218304-B-25.wav-r 32000 ESC-50-prathikrao/audio_32k/4-218304-B-25.wav\n"
     ]
    },
    {
     "name": "stderr",
     "output_type": "stream",
     "text": [
      "sox WARN rate: rate clipped 8 samples; decrease volume?\n",
      "sox WARN dither: dither clipped 8 samples; decrease volume?\n"
     ]
    },
    {
     "name": "stdout",
     "output_type": "stream",
     "text": [
      "sox ESC-50-prathikrao/audio/1-51805-A-33.wav-r 32000 ESC-50-prathikrao/audio_32k/1-51805-A-33.wav\n",
      "sox ESC-50-prathikrao/audio/3-118657-B-41.wav-r 32000 ESC-50-prathikrao/audio_32k/3-118657-B-41.wav\n",
      "sox ESC-50-prathikrao/audio/4-188293-B-15.wav-r 32000 ESC-50-prathikrao/audio_32k/4-188293-B-15.wav\n",
      "sox ESC-50-prathikrao/audio/2-76408-B-22.wav-r 32000 ESC-50-prathikrao/audio_32k/2-76408-B-22.wav\n",
      "sox ESC-50-prathikrao/audio/4-261068-A-30.wav-r 32000 ESC-50-prathikrao/audio_32k/4-261068-A-30.wav\n",
      "sox ESC-50-prathikrao/audio/4-119647-B-48.wav-r 32000 ESC-50-prathikrao/audio_32k/4-119647-B-48.wav\n"
     ]
    },
    {
     "name": "stderr",
     "output_type": "stream",
     "text": [
      "sox WARN rate: rate clipped 100 samples; decrease volume?\n",
      "sox WARN dither: dither clipped 87 samples; decrease volume?\n",
      "sox WARN rate: rate clipped 13 samples; decrease volume?\n",
      "sox WARN dither: dither clipped 12 samples; decrease volume?\n"
     ]
    },
    {
     "name": "stdout",
     "output_type": "stream",
     "text": [
      "sox ESC-50-prathikrao/audio/2-188822-C-40.wav-r 32000 ESC-50-prathikrao/audio_32k/2-188822-C-40.wav\n",
      "sox ESC-50-prathikrao/audio/1-70300-A-45.wav-r 32000 ESC-50-prathikrao/audio_32k/1-70300-A-45.wav\n",
      "sox ESC-50-prathikrao/audio/1-17367-A-10.wav-r 32000 ESC-50-prathikrao/audio_32k/1-17367-A-10.wav\n"
     ]
    },
    {
     "name": "stderr",
     "output_type": "stream",
     "text": [
      "sox WARN rate: rate clipped 1 samples; decrease volume?\n",
      "sox WARN dither: dither clipped 1 samples; decrease volume?\n",
      "sox WARN rate: rate clipped 4 samples; decrease volume?\n",
      "sox WARN dither: dither clipped 4 samples; decrease volume?\n"
     ]
    },
    {
     "name": "stdout",
     "output_type": "stream",
     "text": [
      "sox ESC-50-prathikrao/audio/4-176631-A-43.wav-r 32000 ESC-50-prathikrao/audio_32k/4-176631-A-43.wav\n",
      "sox ESC-50-prathikrao/audio/2-135649-A-45.wav-r 32000 ESC-50-prathikrao/audio_32k/2-135649-A-45.wav\n",
      "sox ESC-50-prathikrao/audio/2-120586-A-6.wav-r 32000 ESC-50-prathikrao/audio_32k/2-120586-A-6.wav\n"
     ]
    },
    {
     "name": "stderr",
     "output_type": "stream",
     "text": [
      "sox WARN rate: rate clipped 4507 samples; decrease volume?\n",
      "sox WARN dither: dither clipped 4585 samples; decrease volume?\n",
      "sox WARN rate: rate clipped 59 samples; decrease volume?\n",
      "sox WARN dither: dither clipped 53 samples; decrease volume?\n"
     ]
    },
    {
     "name": "stdout",
     "output_type": "stream",
     "text": [
      "sox ESC-50-prathikrao/audio/4-167642-A-21.wav-r 32000 ESC-50-prathikrao/audio_32k/4-167642-A-21.wav\n",
      "sox ESC-50-prathikrao/audio/4-255371-A-47.wav-r 32000 ESC-50-prathikrao/audio_32k/4-255371-A-47.wav\n",
      "sox ESC-50-prathikrao/audio/4-165791-B-45.wav-r 32000 ESC-50-prathikrao/audio_32k/4-165791-B-45.wav\n"
     ]
    },
    {
     "name": "stderr",
     "output_type": "stream",
     "text": [
      "sox WARN rate: rate clipped 224 samples; decrease volume?\n",
      "sox WARN dither: dither clipped 200 samples; decrease volume?\n"
     ]
    },
    {
     "name": "stdout",
     "output_type": "stream",
     "text": [
      "sox ESC-50-prathikrao/audio/5-187201-B-4.wav-r 32000 ESC-50-prathikrao/audio_32k/5-187201-B-4.wav\n",
      "sox ESC-50-prathikrao/audio/4-189836-A-22.wav-r 32000 ESC-50-prathikrao/audio_32k/4-189836-A-22.wav\n",
      "sox ESC-50-prathikrao/audio/5-207836-D-29.wav-r 32000 ESC-50-prathikrao/audio_32k/5-207836-D-29.wav\n",
      "sox ESC-50-prathikrao/audio/2-69131-A-5.wav-r 32000 ESC-50-prathikrao/audio_32k/2-69131-A-5.wav\n",
      "sox ESC-50-prathikrao/audio/3-101381-B-33.wav-r 32000 ESC-50-prathikrao/audio_32k/3-101381-B-33.wav\n",
      "sox ESC-50-prathikrao/audio/2-79769-A-26.wav-r 32000 ESC-50-prathikrao/audio_32k/2-79769-A-26.wav\n"
     ]
    },
    {
     "name": "stderr",
     "output_type": "stream",
     "text": [
      "sox WARN rate: rate clipped 11 samples; decrease volume?\n",
      "sox WARN dither: dither clipped 8 samples; decrease volume?\n",
      "sox WARN rate: rate clipped 16 samples; decrease volume?\n",
      "sox WARN dither: dither clipped 16 samples; decrease volume?\n"
     ]
    },
    {
     "name": "stdout",
     "output_type": "stream",
     "text": [
      "sox ESC-50-prathikrao/audio/3-118069-A-27.wav-r 32000 ESC-50-prathikrao/audio_32k/3-118069-A-27.wav\n",
      "sox ESC-50-prathikrao/audio/2-78381-A-46.wav-r 32000 ESC-50-prathikrao/audio_32k/2-78381-A-46.wav\n",
      "sox ESC-50-prathikrao/audio/2-102414-G-17.wav-r 32000 ESC-50-prathikrao/audio_32k/2-102414-G-17.wav\n"
     ]
    },
    {
     "name": "stderr",
     "output_type": "stream",
     "text": [
      "sox WARN rate: rate clipped 209 samples; decrease volume?\n",
      "sox WARN dither: dither clipped 187 samples; decrease volume?\n"
     ]
    },
    {
     "name": "stdout",
     "output_type": "stream",
     "text": [
      "sox ESC-50-prathikrao/audio/5-151085-A-20.wav-r 32000 ESC-50-prathikrao/audio_32k/5-151085-A-20.wav\n",
      "sox ESC-50-prathikrao/audio/4-178881-A-45.wav-r 32000 ESC-50-prathikrao/audio_32k/4-178881-A-45.wav\n",
      "sox ESC-50-prathikrao/audio/1-88574-A-8.wav-r 32000 ESC-50-prathikrao/audio_32k/1-88574-A-8.wav\n",
      "sox ESC-50-prathikrao/audio/1-61221-A-17.wav-r 32000 ESC-50-prathikrao/audio_32k/1-61221-A-17.wav\n",
      "sox ESC-50-prathikrao/audio/3-166125-B-23.wav-r 32000 ESC-50-prathikrao/audio_32k/3-166125-B-23.wav\n",
      "sox ESC-50-prathikrao/audio/1-43807-A-47.wav-r 32000 ESC-50-prathikrao/audio_32k/1-43807-A-47.wav\n"
     ]
    },
    {
     "name": "stderr",
     "output_type": "stream",
     "text": [
      "sox WARN rate: rate clipped 12 samples; decrease volume?\n",
      "sox WARN dither: dither clipped 11 samples; decrease volume?\n"
     ]
    },
    {
     "name": "stdout",
     "output_type": "stream",
     "text": [
      "sox ESC-50-prathikrao/audio/2-134049-A-6.wav-r 32000 ESC-50-prathikrao/audio_32k/2-134049-A-6.wav\n",
      "sox ESC-50-prathikrao/audio/2-141681-A-36.wav-r 32000 ESC-50-prathikrao/audio_32k/2-141681-A-36.wav\n",
      "sox ESC-50-prathikrao/audio/1-53501-A-32.wav-r 32000 ESC-50-prathikrao/audio_32k/1-53501-A-32.wav\n",
      "sox ESC-50-prathikrao/audio/1-60460-A-36.wav-r 32000 ESC-50-prathikrao/audio_32k/1-60460-A-36.wav\n",
      "sox ESC-50-prathikrao/audio/3-151557-A-28.wav-r 32000 ESC-50-prathikrao/audio_32k/3-151557-A-28.wav\n",
      "sox ESC-50-prathikrao/audio/2-39443-B-19.wav-r 32000 ESC-50-prathikrao/audio_32k/2-39443-B-19.wav\n"
     ]
    },
    {
     "name": "stderr",
     "output_type": "stream",
     "text": [
      "sox WARN rate: rate clipped 29 samples; decrease volume?\n",
      "sox WARN dither: dither clipped 27 samples; decrease volume?\n",
      "sox WARN rate: rate clipped 6 samples; decrease volume?\n",
      "sox WARN dither: dither clipped 6 samples; decrease volume?\n"
     ]
    },
    {
     "name": "stdout",
     "output_type": "stream",
     "text": [
      "sox ESC-50-prathikrao/audio/1-74517-A-37.wav-r 32000 ESC-50-prathikrao/audio_32k/1-74517-A-37.wav\n",
      "sox ESC-50-prathikrao/audio/3-126358-A-3.wav-r 32000 ESC-50-prathikrao/audio_32k/3-126358-A-3.wav\n",
      "sox ESC-50-prathikrao/audio/2-60791-A-26.wav-r 32000 ESC-50-prathikrao/audio_32k/2-60791-A-26.wav\n",
      "sox ESC-50-prathikrao/audio/5-194533-A-21.wav-r 32000 ESC-50-prathikrao/audio_32k/5-194533-A-21.wav\n",
      "sox ESC-50-prathikrao/audio/1-88807-A-39.wav-r 32000 ESC-50-prathikrao/audio_32k/1-88807-A-39.wav\n",
      "sox ESC-50-prathikrao/audio/5-219379-B-11.wav-r 32000 ESC-50-prathikrao/audio_32k/5-219379-B-11.wav\n",
      "sox ESC-50-prathikrao/audio/2-102567-D-35.wav-r 32000 ESC-50-prathikrao/audio_32k/2-102567-D-35.wav\n",
      "sox ESC-50-prathikrao/audio/1-28808-A-43.wav-r 32000 ESC-50-prathikrao/audio_32k/1-28808-A-43.wav\n",
      "sox ESC-50-prathikrao/audio/1-94036-A-22.wav-r 32000 ESC-50-prathikrao/audio_32k/1-94036-A-22.wav\n"
     ]
    },
    {
     "name": "stderr",
     "output_type": "stream",
     "text": [
      "sox WARN rate: rate clipped 1 samples; decrease volume?\n",
      "sox WARN dither: dither clipped 1 samples; decrease volume?\n",
      "sox WARN rate: rate clipped 66 samples; decrease volume?\n",
      "sox WARN dither: dither clipped 61 samples; decrease volume?\n",
      "sox WARN rate: rate clipped 19 samples; decrease volume?\n",
      "sox WARN dither: dither clipped 17 samples; decrease volume?\n"
     ]
    },
    {
     "name": "stdout",
     "output_type": "stream",
     "text": [
      "sox ESC-50-prathikrao/audio/4-211502-A-30.wav-r 32000 ESC-50-prathikrao/audio_32k/4-211502-A-30.wav\n",
      "sox ESC-50-prathikrao/audio/2-99955-C-7.wav-r 32000 ESC-50-prathikrao/audio_32k/2-99955-C-7.wav\n",
      "sox ESC-50-prathikrao/audio/5-212181-A-38.wav-r 32000 ESC-50-prathikrao/audio_32k/5-212181-A-38.wav\n",
      "sox ESC-50-prathikrao/audio/1-64473-A-45.wav-r 32000 ESC-50-prathikrao/audio_32k/1-64473-A-45.wav\n",
      "sox ESC-50-prathikrao/audio/4-232495-A-6.wav-r 32000 ESC-50-prathikrao/audio_32k/4-232495-A-6.wav\n",
      "sox ESC-50-prathikrao/audio/4-181707-A-32.wav-r 32000 ESC-50-prathikrao/audio_32k/4-181707-A-32.wav\n"
     ]
    },
    {
     "name": "stderr",
     "output_type": "stream",
     "text": [
      "sox WARN rate: rate clipped 2775 samples; decrease volume?\n",
      "sox WARN dither: dither clipped 2577 samples; decrease volume?\n",
      "sox WARN rate: rate clipped 1 samples; decrease volume?\n",
      "sox WARN dither: dither clipped 1 samples; decrease volume?\n"
     ]
    },
    {
     "name": "stdout",
     "output_type": "stream",
     "text": [
      "sox ESC-50-prathikrao/audio/3-119120-B-48.wav-r 32000 ESC-50-prathikrao/audio_32k/3-119120-B-48.wav\n",
      "sox ESC-50-prathikrao/audio/3-127890-C-9.wav-r 32000 ESC-50-prathikrao/audio_32k/3-127890-C-9.wav\n",
      "sox ESC-50-prathikrao/audio/3-102583-A-49.wav-r 32000 ESC-50-prathikrao/audio_32k/3-102583-A-49.wav\n",
      "sox ESC-50-prathikrao/audio/5-244651-A-31.wav-r 32000 ESC-50-prathikrao/audio_32k/5-244651-A-31.wav\n",
      "sox ESC-50-prathikrao/audio/4-156993-A-19.wav-r 32000 ESC-50-prathikrao/audio_32k/4-156993-A-19.wav\n",
      "sox ESC-50-prathikrao/audio/3-155577-A-14.wav-r 32000 ESC-50-prathikrao/audio_32k/3-155577-A-14.wav\n",
      "sox ESC-50-prathikrao/audio/1-155858-E-25.wav-r 32000 ESC-50-prathikrao/audio_32k/1-155858-E-25.wav\n",
      "sox ESC-50-prathikrao/audio/5-259640-A-29.wav-r 32000 ESC-50-prathikrao/audio_32k/5-259640-A-29.wav\n",
      "sox ESC-50-prathikrao/audio/2-50665-A-20.wav-r 32000 ESC-50-prathikrao/audio_32k/2-50665-A-20.wav\n",
      "sox ESC-50-prathikrao/audio/2-109371-A-16.wav-r 32000 ESC-50-prathikrao/audio_32k/2-109371-A-16.wav\n",
      "sox ESC-50-prathikrao/audio/3-174866-A-29.wav-r 32000 ESC-50-prathikrao/audio_32k/3-174866-A-29.wav\n",
      "sox ESC-50-prathikrao/audio/1-31836-A-4.wav-r 32000 ESC-50-prathikrao/audio_32k/1-31836-A-4.wav\n",
      "sox ESC-50-prathikrao/audio/2-262579-A-45.wav-r 32000 ESC-50-prathikrao/audio_32k/2-262579-A-45.wav\n",
      "sox ESC-50-prathikrao/audio/4-191246-B-7.wav-r 32000 ESC-50-prathikrao/audio_32k/4-191246-B-7.wav\n",
      "sox ESC-50-prathikrao/audio/2-99955-A-7.wav-r 32000 ESC-50-prathikrao/audio_32k/2-99955-A-7.wav\n",
      "sox ESC-50-prathikrao/audio/2-209473-A-25.wav-r 32000 ESC-50-prathikrao/audio_32k/2-209473-A-25.wav\n",
      "sox ESC-50-prathikrao/audio/2-51630-A-49.wav-r 32000 ESC-50-prathikrao/audio_32k/2-51630-A-49.wav\n",
      "sox ESC-50-prathikrao/audio/2-37806-D-40.wav-r 32000 ESC-50-prathikrao/audio_32k/2-37806-D-40.wav\n",
      "sox ESC-50-prathikrao/audio/2-209472-A-25.wav-r 32000 ESC-50-prathikrao/audio_32k/2-209472-A-25.wav\n",
      "sox ESC-50-prathikrao/audio/3-154758-A-44.wav-r 32000 ESC-50-prathikrao/audio_32k/3-154758-A-44.wav\n",
      "sox ESC-50-prathikrao/audio/3-127890-A-9.wav-r 32000 ESC-50-prathikrao/audio_32k/3-127890-A-9.wav\n"
     ]
    },
    {
     "name": "stderr",
     "output_type": "stream",
     "text": [
      "sox WARN rate: rate clipped 31 samples; decrease volume?\n",
      "sox WARN dither: dither clipped 29 samples; decrease volume?\n"
     ]
    },
    {
     "name": "stdout",
     "output_type": "stream",
     "text": [
      "sox ESC-50-prathikrao/audio/1-23094-B-15.wav-r 32000 ESC-50-prathikrao/audio_32k/1-23094-B-15.wav\n",
      "sox ESC-50-prathikrao/audio/4-102844-A-49.wav-r 32000 ESC-50-prathikrao/audio_32k/4-102844-A-49.wav\n",
      "sox ESC-50-prathikrao/audio/3-166546-B-34.wav-r 32000 ESC-50-prathikrao/audio_32k/3-166546-B-34.wav\n"
     ]
    },
    {
     "name": "stderr",
     "output_type": "stream",
     "text": [
      "sox WARN rate: rate clipped 26 samples; decrease volume?\n",
      "sox WARN dither: dither clipped 26 samples; decrease volume?\n",
      "sox WARN rate: rate clipped 2004 samples; decrease volume?\n",
      "sox WARN dither: dither clipped 1789 samples; decrease volume?\n"
     ]
    },
    {
     "name": "stdout",
     "output_type": "stream",
     "text": [
      "sox ESC-50-prathikrao/audio/1-61534-A-27.wav-r 32000 ESC-50-prathikrao/audio_32k/1-61534-A-27.wav\n",
      "sox ESC-50-prathikrao/audio/1-46744-A-36.wav-r 32000 ESC-50-prathikrao/audio_32k/1-46744-A-36.wav\n",
      "sox ESC-50-prathikrao/audio/5-156999-E-19.wav-r 32000 ESC-50-prathikrao/audio_32k/5-156999-E-19.wav\n"
     ]
    },
    {
     "name": "stderr",
     "output_type": "stream",
     "text": [
      "sox WARN rate: rate clipped 3498 samples; decrease volume?\n",
      "sox WARN dither: dither clipped 3340 samples; decrease volume?\n",
      "sox WARN rate: rate clipped 12 samples; decrease volume?\n",
      "sox WARN dither: dither clipped 19 samples; decrease volume?\n"
     ]
    },
    {
     "name": "stdout",
     "output_type": "stream",
     "text": [
      "sox ESC-50-prathikrao/audio/1-24074-A-43.wav-r 32000 ESC-50-prathikrao/audio_32k/1-24074-A-43.wav\n",
      "sox ESC-50-prathikrao/audio/4-154405-A-27.wav-r 32000 ESC-50-prathikrao/audio_32k/4-154405-A-27.wav\n",
      "sox ESC-50-prathikrao/audio/5-197118-A-45.wav-r 32000 ESC-50-prathikrao/audio_32k/5-197118-A-45.wav\n",
      "sox ESC-50-prathikrao/audio/4-160036-B-33.wav-r 32000 ESC-50-prathikrao/audio_32k/4-160036-B-33.wav\n",
      "sox ESC-50-prathikrao/audio/4-99644-D-4.wav-r 32000 ESC-50-prathikrao/audio_32k/4-99644-D-4.wav\n",
      "sox ESC-50-prathikrao/audio/2-28314-A-12.wav-r 32000 ESC-50-prathikrao/audio_32k/2-28314-A-12.wav\n"
     ]
    },
    {
     "name": "stderr",
     "output_type": "stream",
     "text": [
      "sox WARN rate: rate clipped 2 samples; decrease volume?\n",
      "sox WARN dither: dither clipped 2 samples; decrease volume?\n"
     ]
    },
    {
     "name": "stdout",
     "output_type": "stream",
     "text": [
      "sox ESC-50-prathikrao/audio/1-18074-A-6.wav-r 32000 ESC-50-prathikrao/audio_32k/1-18074-A-6.wav\n",
      "sox ESC-50-prathikrao/audio/4-204777-C-39.wav-r 32000 ESC-50-prathikrao/audio_32k/4-204777-C-39.wav\n",
      "sox ESC-50-prathikrao/audio/4-204830-A-6.wav-r 32000 ESC-50-prathikrao/audio_32k/4-204830-A-6.wav\n"
     ]
    },
    {
     "name": "stderr",
     "output_type": "stream",
     "text": [
      "sox WARN rate: rate clipped 11388 samples; decrease volume?\n",
      "sox WARN dither: dither clipped 9899 samples; decrease volume?\n"
     ]
    },
    {
     "name": "stdout",
     "output_type": "stream",
     "text": [
      "sox ESC-50-prathikrao/audio/3-167096-A-31.wav-r 32000 ESC-50-prathikrao/audio_32k/3-167096-A-31.wav\n",
      "sox ESC-50-prathikrao/audio/5-205898-A-40.wav-r 32000 ESC-50-prathikrao/audio_32k/5-205898-A-40.wav\n",
      "sox ESC-50-prathikrao/audio/5-256512-A-30.wav-r 32000 ESC-50-prathikrao/audio_32k/5-256512-A-30.wav\n"
     ]
    },
    {
     "name": "stderr",
     "output_type": "stream",
     "text": [
      "sox WARN rate: rate clipped 1384 samples; decrease volume?\n",
      "sox WARN dither: dither clipped 1893 samples; decrease volume?\n"
     ]
    },
    {
     "name": "stdout",
     "output_type": "stream",
     "text": [
      "sox ESC-50-prathikrao/audio/2-61618-A-46.wav-r 32000 ESC-50-prathikrao/audio_32k/2-61618-A-46.wav\n",
      "sox ESC-50-prathikrao/audio/4-204119-A-39.wav-r 32000 ESC-50-prathikrao/audio_32k/4-204119-A-39.wav\n",
      "sox ESC-50-prathikrao/audio/4-149294-B-41.wav-r 32000 ESC-50-prathikrao/audio_32k/4-149294-B-41.wav\n",
      "sox ESC-50-prathikrao/audio/5-184871-A-24.wav-r 32000 ESC-50-prathikrao/audio_32k/5-184871-A-24.wav\n",
      "sox ESC-50-prathikrao/audio/1-115545-C-48.wav-r 32000 ESC-50-prathikrao/audio_32k/1-115545-C-48.wav\n",
      "sox ESC-50-prathikrao/audio/5-191497-A-33.wav-r 32000 ESC-50-prathikrao/audio_32k/5-191497-A-33.wav\n"
     ]
    },
    {
     "name": "stderr",
     "output_type": "stream",
     "text": [
      "sox WARN rate: rate clipped 90 samples; decrease volume?\n",
      "sox WARN dither: dither clipped 81 samples; decrease volume?\n"
     ]
    },
    {
     "name": "stdout",
     "output_type": "stream",
     "text": [
      "sox ESC-50-prathikrao/audio/5-212734-A-17.wav-r 32000 ESC-50-prathikrao/audio_32k/5-212734-A-17.wav\n",
      "sox ESC-50-prathikrao/audio/5-263501-A-25.wav-r 32000 ESC-50-prathikrao/audio_32k/5-263501-A-25.wav\n",
      "sox ESC-50-prathikrao/audio/5-236288-A-28.wav-r 32000 ESC-50-prathikrao/audio_32k/5-236288-A-28.wav\n"
     ]
    },
    {
     "name": "stderr",
     "output_type": "stream",
     "text": [
      "sox WARN rate: rate clipped 29 samples; decrease volume?\n",
      "sox WARN dither: dither clipped 24 samples; decrease volume?\n"
     ]
    },
    {
     "name": "stdout",
     "output_type": "stream",
     "text": [
      "sox ESC-50-prathikrao/audio/1-46938-B-7.wav-r 32000 ESC-50-prathikrao/audio_32k/1-46938-B-7.wav\n",
      "sox ESC-50-prathikrao/audio/3-142349-A-17.wav-r 32000 ESC-50-prathikrao/audio_32k/3-142349-A-17.wav\n",
      "sox ESC-50-prathikrao/audio/5-256452-A-5.wav-r 32000 ESC-50-prathikrao/audio_32k/5-256452-A-5.wav\n",
      "sox ESC-50-prathikrao/audio/3-158476-A-12.wav-r 32000 ESC-50-prathikrao/audio_32k/3-158476-A-12.wav\n",
      "sox ESC-50-prathikrao/audio/3-182025-A-30.wav-r 32000 ESC-50-prathikrao/audio_32k/3-182025-A-30.wav\n",
      "sox ESC-50-prathikrao/audio/3-253084-B-2.wav-r 32000 ESC-50-prathikrao/audio_32k/3-253084-B-2.wav\n"
     ]
    },
    {
     "name": "stderr",
     "output_type": "stream",
     "text": [
      "sox WARN rate: rate clipped 2 samples; decrease volume?\n",
      "sox WARN dither: dither clipped 2 samples; decrease volume?\n",
      "sox WARN rate: rate clipped 5 samples; decrease volume?\n",
      "sox WARN dither: dither clipped 4 samples; decrease volume?\n"
     ]
    },
    {
     "name": "stdout",
     "output_type": "stream",
     "text": [
      "sox ESC-50-prathikrao/audio/2-140147-A-38.wav-r 32000 ESC-50-prathikrao/audio_32k/2-140147-A-38.wav\n",
      "sox ESC-50-prathikrao/audio/2-85292-A-24.wav-r 32000 ESC-50-prathikrao/audio_32k/2-85292-A-24.wav\n",
      "sox ESC-50-prathikrao/audio/5-241846-A-15.wav-r 32000 ESC-50-prathikrao/audio_32k/5-241846-A-15.wav\n"
     ]
    },
    {
     "name": "stderr",
     "output_type": "stream",
     "text": [
      "sox WARN rate: rate clipped 46 samples; decrease volume?\n",
      "sox WARN dither: dither clipped 40 samples; decrease volume?\n"
     ]
    },
    {
     "name": "stdout",
     "output_type": "stream",
     "text": [
      "sox ESC-50-prathikrao/audio/5-172639-A-5.wav-r 32000 ESC-50-prathikrao/audio_32k/5-172639-A-5.wav\n",
      "sox ESC-50-prathikrao/audio/1-19026-A-43.wav-r 32000 ESC-50-prathikrao/audio_32k/1-19026-A-43.wav\n",
      "sox ESC-50-prathikrao/audio/4-136381-A-9.wav-r 32000 ESC-50-prathikrao/audio_32k/4-136381-A-9.wav\n"
     ]
    },
    {
     "name": "stderr",
     "output_type": "stream",
     "text": [
      "sox WARN rate: rate clipped 8 samples; decrease volume?\n",
      "sox WARN dither: dither clipped 6 samples; decrease volume?\n",
      "sox WARN rate: rate clipped 1 samples; decrease volume?\n",
      "sox WARN dither: dither clipped 1 samples; decrease volume?\n"
     ]
    },
    {
     "name": "stdout",
     "output_type": "stream",
     "text": [
      "sox ESC-50-prathikrao/audio/1-51035-A-16.wav-r 32000 ESC-50-prathikrao/audio_32k/1-51035-A-16.wav\n",
      "sox ESC-50-prathikrao/audio/5-198411-B-20.wav-r 32000 ESC-50-prathikrao/audio_32k/5-198411-B-20.wav\n",
      "sox ESC-50-prathikrao/audio/5-51149-A-25.wav-r 32000 ESC-50-prathikrao/audio_32k/5-51149-A-25.wav\n",
      "sox ESC-50-prathikrao/audio/1-69641-A-3.wav-r 32000 ESC-50-prathikrao/audio_32k/1-69641-A-3.wav\n",
      "sox ESC-50-prathikrao/audio/5-245040-A-35.wav-r 32000 ESC-50-prathikrao/audio_32k/5-245040-A-35.wav\n",
      "sox ESC-50-prathikrao/audio/2-141682-B-36.wav-r 32000 ESC-50-prathikrao/audio_32k/2-141682-B-36.wav\n"
     ]
    },
    {
     "name": "stderr",
     "output_type": "stream",
     "text": [
      "sox WARN rate: rate clipped 13 samples; decrease volume?\n",
      "sox WARN dither: dither clipped 11 samples; decrease volume?\n",
      "sox WARN rate: rate clipped 5 samples; decrease volume?\n",
      "sox WARN dither: dither clipped 4 samples; decrease volume?\n"
     ]
    },
    {
     "name": "stdout",
     "output_type": "stream",
     "text": [
      "sox ESC-50-prathikrao/audio/2-39441-A-19.wav-r 32000 ESC-50-prathikrao/audio_32k/2-39441-A-19.wav\n",
      "sox ESC-50-prathikrao/audio/2-102435-A-37.wav-r 32000 ESC-50-prathikrao/audio_32k/2-102435-A-37.wav\n",
      "sox ESC-50-prathikrao/audio/2-135728-A-38.wav-r 32000 ESC-50-prathikrao/audio_32k/2-135728-A-38.wav\n"
     ]
    },
    {
     "name": "stderr",
     "output_type": "stream",
     "text": [
      "sox WARN rate: rate clipped 112 samples; decrease volume?\n",
      "sox WARN dither: dither clipped 99 samples; decrease volume?\n"
     ]
    },
    {
     "name": "stdout",
     "output_type": "stream",
     "text": [
      "sox ESC-50-prathikrao/audio/1-7974-B-49.wav-r 32000 ESC-50-prathikrao/audio_32k/1-7974-B-49.wav\n",
      "sox ESC-50-prathikrao/audio/3-62878-B-42.wav-r 32000 ESC-50-prathikrao/audio_32k/3-62878-B-42.wav\n",
      "sox ESC-50-prathikrao/audio/5-209992-B-44.wav-r 32000 ESC-50-prathikrao/audio_32k/5-209992-B-44.wav\n"
     ]
    },
    {
     "name": "stderr",
     "output_type": "stream",
     "text": [
      "sox WARN rate: rate clipped 5 samples; decrease volume?\n",
      "sox WARN dither: dither clipped 5 samples; decrease volume?\n",
      "sox WARN rate: rate clipped 9 samples; decrease volume?\n",
      "sox WARN dither: dither clipped 8 samples; decrease volume?\n"
     ]
    },
    {
     "name": "stdout",
     "output_type": "stream",
     "text": [
      "sox ESC-50-prathikrao/audio/2-72970-A-10.wav-r 32000 ESC-50-prathikrao/audio_32k/2-72970-A-10.wav\n",
      "sox ESC-50-prathikrao/audio/3-130998-B-28.wav-r 32000 ESC-50-prathikrao/audio_32k/3-130998-B-28.wav\n",
      "sox ESC-50-prathikrao/audio/3-142604-A-24.wav-r 32000 ESC-50-prathikrao/audio_32k/3-142604-A-24.wav\n",
      "sox ESC-50-prathikrao/audio/5-262641-A-15.wav-r 32000 ESC-50-prathikrao/audio_32k/5-262641-A-15.wav\n",
      "sox ESC-50-prathikrao/audio/4-213193-A-29.wav-r 32000 ESC-50-prathikrao/audio_32k/4-213193-A-29.wav\n",
      "sox ESC-50-prathikrao/audio/4-181865-A-38.wav-r 32000 ESC-50-prathikrao/audio_32k/4-181865-A-38.wav\n",
      "sox ESC-50-prathikrao/audio/4-130891-A-7.wav-r 32000 ESC-50-prathikrao/audio_32k/4-130891-A-7.wav\n",
      "sox ESC-50-prathikrao/audio/2-123896-A-24.wav-r 32000 ESC-50-prathikrao/audio_32k/2-123896-A-24.wav\n",
      "sox ESC-50-prathikrao/audio/3-134802-A-13.wav-r 32000 ESC-50-prathikrao/audio_32k/3-134802-A-13.wav\n"
     ]
    },
    {
     "name": "stderr",
     "output_type": "stream",
     "text": [
      "sox WARN rate: rate clipped 41 samples; decrease volume?\n",
      "sox WARN dither: dither clipped 39 samples; decrease volume?\n"
     ]
    },
    {
     "name": "stdout",
     "output_type": "stream",
     "text": [
      "sox ESC-50-prathikrao/audio/5-177779-A-33.wav-r 32000 ESC-50-prathikrao/audio_32k/5-177779-A-33.wav\n",
      "sox ESC-50-prathikrao/audio/2-158746-A-2.wav-r 32000 ESC-50-prathikrao/audio_32k/2-158746-A-2.wav\n",
      "sox ESC-50-prathikrao/audio/5-171653-A-41.wav-r 32000 ESC-50-prathikrao/audio_32k/5-171653-A-41.wav\n"
     ]
    },
    {
     "name": "stderr",
     "output_type": "stream",
     "text": [
      "sox WARN rate: rate clipped 3393 samples; decrease volume?\n",
      "sox WARN dither: dither clipped 3050 samples; decrease volume?\n",
      "sox WARN rate: rate clipped 8349 samples; decrease volume?\n",
      "sox WARN dither: dither clipped 7277 samples; decrease volume?\n"
     ]
    },
    {
     "name": "stdout",
     "output_type": "stream",
     "text": [
      "sox ESC-50-prathikrao/audio/4-205738-A-22.wav-r 32000 ESC-50-prathikrao/audio_32k/4-205738-A-22.wav\n",
      "sox ESC-50-prathikrao/audio/1-94231-A-32.wav-r 32000 ESC-50-prathikrao/audio_32k/1-94231-A-32.wav\n",
      "sox ESC-50-prathikrao/audio/1-18527-B-44.wav-r 32000 ESC-50-prathikrao/audio_32k/1-18527-B-44.wav\n",
      "sox ESC-50-prathikrao/audio/5-254832-B-15.wav-r 32000 ESC-50-prathikrao/audio_32k/5-254832-B-15.wav\n",
      "sox ESC-50-prathikrao/audio/5-234145-A-28.wav-r 32000 ESC-50-prathikrao/audio_32k/5-234145-A-28.wav\n",
      "sox ESC-50-prathikrao/audio/2-107351-B-20.wav-r 32000 ESC-50-prathikrao/audio_32k/2-107351-B-20.wav\n"
     ]
    },
    {
     "name": "stderr",
     "output_type": "stream",
     "text": [
      "sox WARN rate: rate clipped 148 samples; decrease volume?\n",
      "sox WARN dither: dither clipped 133 samples; decrease volume?\n",
      "sox WARN rate: rate clipped 52 samples; decrease volume?\n",
      "sox WARN dither: dither clipped 47 samples; decrease volume?\n"
     ]
    },
    {
     "name": "stdout",
     "output_type": "stream",
     "text": [
      "sox ESC-50-prathikrao/audio/2-120333-A-32.wav-r 32000 ESC-50-prathikrao/audio_32k/2-120333-A-32.wav\n",
      "sox ESC-50-prathikrao/audio/1-61261-A-44.wav-r 32000 ESC-50-prathikrao/audio_32k/1-61261-A-44.wav\n",
      "sox ESC-50-prathikrao/audio/3-203371-A-39.wav-r 32000 ESC-50-prathikrao/audio_32k/3-203371-A-39.wav\n"
     ]
    },
    {
     "name": "stderr",
     "output_type": "stream",
     "text": [
      "sox WARN rate: rate clipped 71 samples; decrease volume?\n",
      "sox WARN dither: dither clipped 62 samples; decrease volume?\n"
     ]
    },
    {
     "name": "stdout",
     "output_type": "stream",
     "text": [
      "sox ESC-50-prathikrao/audio/1-7973-A-7.wav-r 32000 ESC-50-prathikrao/audio_32k/1-7973-A-7.wav\n",
      "sox ESC-50-prathikrao/audio/2-107228-B-44.wav-r 32000 ESC-50-prathikrao/audio_32k/2-107228-B-44.wav\n",
      "sox ESC-50-prathikrao/audio/4-189332-A-37.wav-r 32000 ESC-50-prathikrao/audio_32k/4-189332-A-37.wav\n",
      "sox ESC-50-prathikrao/audio/4-218199-A-35.wav-r 32000 ESC-50-prathikrao/audio_32k/4-218199-A-35.wav\n",
      "sox ESC-50-prathikrao/audio/2-128631-A-21.wav-r 32000 ESC-50-prathikrao/audio_32k/2-128631-A-21.wav\n",
      "sox ESC-50-prathikrao/audio/5-193473-A-12.wav-r 32000 ESC-50-prathikrao/audio_32k/5-193473-A-12.wav\n",
      "sox ESC-50-prathikrao/audio/3-181132-A-14.wav-r 32000 ESC-50-prathikrao/audio_32k/3-181132-A-14.wav\n",
      "sox ESC-50-prathikrao/audio/1-101404-A-34.wav-r 32000 ESC-50-prathikrao/audio_32k/1-101404-A-34.wav\n",
      "sox ESC-50-prathikrao/audio/4-182039-A-30.wav-r 32000 ESC-50-prathikrao/audio_32k/4-182039-A-30.wav\n"
     ]
    },
    {
     "name": "stderr",
     "output_type": "stream",
     "text": [
      "sox WARN rate: rate clipped 40 samples; decrease volume?\n",
      "sox WARN dither: dither clipped 32 samples; decrease volume?\n",
      "sox WARN rate: rate clipped 41 samples; decrease volume?\n",
      "sox WARN dither: dither clipped 47 samples; decrease volume?\n",
      "sox WARN rate: rate clipped 2 samples; decrease volume?\n",
      "sox WARN dither: dither clipped 2 samples; decrease volume?\n"
     ]
    },
    {
     "name": "stdout",
     "output_type": "stream",
     "text": [
      "sox ESC-50-prathikrao/audio/5-260434-A-39.wav-r 32000 ESC-50-prathikrao/audio_32k/5-260434-A-39.wav\n",
      "sox ESC-50-prathikrao/audio/3-164594-A-15.wav-r 32000 ESC-50-prathikrao/audio_32k/3-164594-A-15.wav\n",
      "sox ESC-50-prathikrao/audio/1-67230-A-29.wav-r 32000 ESC-50-prathikrao/audio_32k/1-67230-A-29.wav\n",
      "sox ESC-50-prathikrao/audio/3-151089-A-30.wav-r 32000 ESC-50-prathikrao/audio_32k/3-151089-A-30.wav\n",
      "sox ESC-50-prathikrao/audio/3-164595-A-15.wav-r 32000 ESC-50-prathikrao/audio_32k/3-164595-A-15.wav\n",
      "sox ESC-50-prathikrao/audio/4-181628-A-17.wav-r 32000 ESC-50-prathikrao/audio_32k/4-181628-A-17.wav\n"
     ]
    },
    {
     "name": "stderr",
     "output_type": "stream",
     "text": [
      "sox WARN rate: rate clipped 7 samples; decrease volume?\n",
      "sox WARN dither: dither clipped 5 samples; decrease volume?\n"
     ]
    },
    {
     "name": "stdout",
     "output_type": "stream",
     "text": [
      "sox ESC-50-prathikrao/audio/3-108160-A-23.wav-r 32000 ESC-50-prathikrao/audio_32k/3-108160-A-23.wav\n",
      "sox ESC-50-prathikrao/audio/4-172736-A-36.wav-r 32000 ESC-50-prathikrao/audio_32k/4-172736-A-36.wav\n",
      "sox ESC-50-prathikrao/audio/5-216214-A-13.wav-r 32000 ESC-50-prathikrao/audio_32k/5-216214-A-13.wav\n"
     ]
    },
    {
     "name": "stderr",
     "output_type": "stream",
     "text": [
      "sox WARN rate: rate clipped 6 samples; decrease volume?\n",
      "sox WARN dither: dither clipped 5 samples; decrease volume?\n"
     ]
    },
    {
     "name": "stdout",
     "output_type": "stream",
     "text": [
      "sox ESC-50-prathikrao/audio/4-196671-B-8.wav-r 32000 ESC-50-prathikrao/audio_32k/4-196671-B-8.wav\n",
      "sox ESC-50-prathikrao/audio/2-110417-A-28.wav-r 32000 ESC-50-prathikrao/audio_32k/2-110417-A-28.wav\n",
      "sox ESC-50-prathikrao/audio/1-62594-A-32.wav-r 32000 ESC-50-prathikrao/audio_32k/1-62594-A-32.wav\n"
     ]
    },
    {
     "name": "stderr",
     "output_type": "stream",
     "text": [
      "sox WARN rate: rate clipped 60 samples; decrease volume?\n",
      "sox WARN dither: dither clipped 52 samples; decrease volume?\n",
      "sox WARN rate: rate clipped 52 samples; decrease volume?\n",
      "sox WARN dither: dither clipped 44 samples; decrease volume?\n"
     ]
    },
    {
     "name": "stdout",
     "output_type": "stream",
     "text": [
      "sox ESC-50-prathikrao/audio/1-75189-A-7.wav-r 32000 ESC-50-prathikrao/audio_32k/1-75189-A-7.wav\n",
      "sox ESC-50-prathikrao/audio/4-183992-A-0.wav-r 32000 ESC-50-prathikrao/audio_32k/4-183992-A-0.wav\n",
      "sox ESC-50-prathikrao/audio/5-253094-C-49.wav-r 32000 ESC-50-prathikrao/audio_32k/5-253094-C-49.wav\n",
      "sox ESC-50-prathikrao/audio/1-32373-B-35.wav-r 32000 ESC-50-prathikrao/audio_32k/1-32373-B-35.wav\n",
      "sox ESC-50-prathikrao/audio/1-27405-A-28.wav-r 32000 ESC-50-prathikrao/audio_32k/1-27405-A-28.wav\n",
      "sox ESC-50-prathikrao/audio/4-210000-A-23.wav-r 32000 ESC-50-prathikrao/audio_32k/4-210000-A-23.wav\n",
      "sox ESC-50-prathikrao/audio/4-194680-A-36.wav-r 32000 ESC-50-prathikrao/audio_32k/4-194680-A-36.wav\n",
      "sox ESC-50-prathikrao/audio/2-54961-A-23.wav-r 32000 ESC-50-prathikrao/audio_32k/2-54961-A-23.wav\n",
      "sox ESC-50-prathikrao/audio/4-164064-B-1.wav-r 32000 ESC-50-prathikrao/audio_32k/4-164064-B-1.wav\n",
      "sox ESC-50-prathikrao/audio/4-188703-B-8.wav-r 32000 ESC-50-prathikrao/audio_32k/4-188703-B-8.wav\n",
      "sox ESC-50-prathikrao/audio/4-181286-A-10.wav-r 32000 ESC-50-prathikrao/audio_32k/4-181286-A-10.wav\n",
      "sox ESC-50-prathikrao/audio/5-244459-A-28.wav-r 32000 ESC-50-prathikrao/audio_32k/5-244459-A-28.wav\n"
     ]
    },
    {
     "name": "stderr",
     "output_type": "stream",
     "text": [
      "sox WARN rate: rate clipped 16 samples; decrease volume?\n",
      "sox WARN dither: dither clipped 21 samples; decrease volume?\n"
     ]
    },
    {
     "name": "stdout",
     "output_type": "stream",
     "text": [
      "sox ESC-50-prathikrao/audio/1-22694-A-20.wav-r 32000 ESC-50-prathikrao/audio_32k/1-22694-A-20.wav\n",
      "sox ESC-50-prathikrao/audio/2-152895-A-31.wav-r 32000 ESC-50-prathikrao/audio_32k/2-152895-A-31.wav\n",
      "sox ESC-50-prathikrao/audio/2-61311-A-12.wav-r 32000 ESC-50-prathikrao/audio_32k/2-61311-A-12.wav\n",
      "sox ESC-50-prathikrao/audio/5-210540-A-13.wav-r 32000 ESC-50-prathikrao/audio_32k/5-210540-A-13.wav\n",
      "sox ESC-50-prathikrao/audio/3-134049-A-1.wav-r 32000 ESC-50-prathikrao/audio_32k/3-134049-A-1.wav\n",
      "sox ESC-50-prathikrao/audio/1-24524-B-19.wav-r 32000 ESC-50-prathikrao/audio_32k/1-24524-B-19.wav\n"
     ]
    },
    {
     "name": "stderr",
     "output_type": "stream",
     "text": [
      "sox WARN rate: rate clipped 99 samples; decrease volume?\n",
      "sox WARN dither: dither clipped 89 samples; decrease volume?\n"
     ]
    },
    {
     "name": "stdout",
     "output_type": "stream",
     "text": [
      "sox ESC-50-prathikrao/audio/2-117271-A-0.wav-r 32000 ESC-50-prathikrao/audio_32k/2-117271-A-0.wav\n",
      "sox ESC-50-prathikrao/audio/3-103401-D-33.wav-r 32000 ESC-50-prathikrao/audio_32k/3-103401-D-33.wav\n",
      "sox ESC-50-prathikrao/audio/3-197408-A-8.wav-r 32000 ESC-50-prathikrao/audio_32k/3-197408-A-8.wav\n"
     ]
    },
    {
     "name": "stderr",
     "output_type": "stream",
     "text": [
      "sox WARN rate: rate clipped 232 samples; decrease volume?\n",
      "sox WARN dither: dither clipped 204 samples; decrease volume?\n"
     ]
    },
    {
     "name": "stdout",
     "output_type": "stream",
     "text": [
      "sox ESC-50-prathikrao/audio/3-166422-A-11.wav-r 32000 ESC-50-prathikrao/audio_32k/3-166422-A-11.wav\n",
      "sox ESC-50-prathikrao/audio/1-97392-A-0.wav-r 32000 ESC-50-prathikrao/audio_32k/1-97392-A-0.wav\n",
      "sox ESC-50-prathikrao/audio/5-204741-A-46.wav-r 32000 ESC-50-prathikrao/audio_32k/5-204741-A-46.wav\n",
      "sox ESC-50-prathikrao/audio/3-155659-A-34.wav-r 32000 ESC-50-prathikrao/audio_32k/3-155659-A-34.wav\n",
      "sox ESC-50-prathikrao/audio/1-52290-A-30.wav-r 32000 ESC-50-prathikrao/audio_32k/1-52290-A-30.wav\n",
      "sox ESC-50-prathikrao/audio/4-161519-A-19.wav-r 32000 ESC-50-prathikrao/audio_32k/4-161519-A-19.wav\n"
     ]
    },
    {
     "name": "stderr",
     "output_type": "stream",
     "text": [
      "sox WARN rate: rate clipped 266 samples; decrease volume?\n",
      "sox WARN dither: dither clipped 229 samples; decrease volume?\n"
     ]
    },
    {
     "name": "stdout",
     "output_type": "stream",
     "text": [
      "sox ESC-50-prathikrao/audio/5-223176-A-37.wav-r 32000 ESC-50-prathikrao/audio_32k/5-223176-A-37.wav\n",
      "sox ESC-50-prathikrao/audio/5-251957-A-47.wav-r 32000 ESC-50-prathikrao/audio_32k/5-251957-A-47.wav\n",
      "sox ESC-50-prathikrao/audio/4-99644-C-4.wav-r 32000 ESC-50-prathikrao/audio_32k/4-99644-C-4.wav\n"
     ]
    },
    {
     "name": "stderr",
     "output_type": "stream",
     "text": [
      "sox WARN rate: rate clipped 5601 samples; decrease volume?\n",
      "sox WARN dither: dither clipped 4941 samples; decrease volume?\n"
     ]
    },
    {
     "name": "stdout",
     "output_type": "stream",
     "text": [
      "sox ESC-50-prathikrao/audio/3-95698-A-5.wav-r 32000 ESC-50-prathikrao/audio_32k/3-95698-A-5.wav\n",
      "sox ESC-50-prathikrao/audio/5-248341-C-6.wav-r 32000 ESC-50-prathikrao/audio_32k/5-248341-C-6.wav\n",
      "sox ESC-50-prathikrao/audio/1-19111-A-24.wav-r 32000 ESC-50-prathikrao/audio_32k/1-19111-A-24.wav\n"
     ]
    },
    {
     "name": "stderr",
     "output_type": "stream",
     "text": [
      "sox WARN rate: rate clipped 57 samples; decrease volume?\n",
      "sox WARN dither: dither clipped 50 samples; decrease volume?\n"
     ]
    },
    {
     "name": "stdout",
     "output_type": "stream",
     "text": [
      "sox ESC-50-prathikrao/audio/3-155568-A-32.wav-r 32000 ESC-50-prathikrao/audio_32k/3-155568-A-32.wav\n",
      "sox ESC-50-prathikrao/audio/1-43382-A-1.wav-r 32000 ESC-50-prathikrao/audio_32k/1-43382-A-1.wav\n",
      "sox ESC-50-prathikrao/audio/3-155642-B-11.wav-r 32000 ESC-50-prathikrao/audio_32k/3-155642-B-11.wav\n",
      "sox ESC-50-prathikrao/audio/5-195517-A-7.wav-r 32000 ESC-50-prathikrao/audio_32k/5-195517-A-7.wav\n",
      "sox ESC-50-prathikrao/audio/3-259622-A-44.wav-r 32000 ESC-50-prathikrao/audio_32k/3-259622-A-44.wav\n",
      "sox ESC-50-prathikrao/audio/4-125825-B-46.wav-r 32000 ESC-50-prathikrao/audio_32k/4-125825-B-46.wav\n",
      "sox ESC-50-prathikrao/audio/5-221950-A-22.wav-r 32000 ESC-50-prathikrao/audio_32k/5-221950-A-22.wav\n",
      "sox ESC-50-prathikrao/audio/3-148330-A-21.wav-r 32000 ESC-50-prathikrao/audio_32k/3-148330-A-21.wav\n",
      "sox ESC-50-prathikrao/audio/5-257642-A-39.wav-r 32000 ESC-50-prathikrao/audio_32k/5-257642-A-39.wav\n",
      "sox ESC-50-prathikrao/audio/3-152594-A-30.wav-r 32000 ESC-50-prathikrao/audio_32k/3-152594-A-30.wav\n",
      "sox ESC-50-prathikrao/audio/5-205589-B-17.wav-r 32000 ESC-50-prathikrao/audio_32k/5-205589-B-17.wav\n",
      "sox ESC-50-prathikrao/audio/2-125520-A-43.wav-r 32000 ESC-50-prathikrao/audio_32k/2-125520-A-43.wav\n",
      "sox ESC-50-prathikrao/audio/3-138114-A-22.wav-r 32000 ESC-50-prathikrao/audio_32k/3-138114-A-22.wav\n",
      "sox ESC-50-prathikrao/audio/1-15689-B-4.wav-r 32000 ESC-50-prathikrao/audio_32k/1-15689-B-4.wav\n",
      "sox ESC-50-prathikrao/audio/4-180380-A-10.wav-r 32000 ESC-50-prathikrao/audio_32k/4-180380-A-10.wav\n"
     ]
    },
    {
     "name": "stderr",
     "output_type": "stream",
     "text": [
      "sox WARN rate: rate clipped 2 samples; decrease volume?\n",
      "sox WARN dither: dither clipped 2 samples; decrease volume?\n"
     ]
    },
    {
     "name": "stdout",
     "output_type": "stream",
     "text": [
      "sox ESC-50-prathikrao/audio/5-237795-A-34.wav-r 32000 ESC-50-prathikrao/audio_32k/5-237795-A-34.wav\n",
      "sox ESC-50-prathikrao/audio/4-138344-A-9.wav-r 32000 ESC-50-prathikrao/audio_32k/4-138344-A-9.wav\n",
      "sox ESC-50-prathikrao/audio/1-53663-A-24.wav-r 32000 ESC-50-prathikrao/audio_32k/1-53663-A-24.wav\n"
     ]
    },
    {
     "name": "stderr",
     "output_type": "stream",
     "text": [
      "sox WARN rate: rate clipped 204 samples; decrease volume?\n",
      "sox WARN dither: dither clipped 176 samples; decrease volume?\n"
     ]
    },
    {
     "name": "stdout",
     "output_type": "stream",
     "text": [
      "sox ESC-50-prathikrao/audio/1-5996-A-6.wav-r 32000 ESC-50-prathikrao/audio_32k/1-5996-A-6.wav\n",
      "sox ESC-50-prathikrao/audio/1-155858-A-25.wav-r 32000 ESC-50-prathikrao/audio_32k/1-155858-A-25.wav\n",
      "sox ESC-50-prathikrao/audio/2-77347-A-46.wav-r 32000 ESC-50-prathikrao/audio_32k/2-77347-A-46.wav\n"
     ]
    },
    {
     "name": "stderr",
     "output_type": "stream",
     "text": [
      "sox WARN rate: rate clipped 113 samples; decrease volume?\n",
      "sox WARN dither: dither clipped 104 samples; decrease volume?\n"
     ]
    },
    {
     "name": "stdout",
     "output_type": "stream",
     "text": [
      "sox ESC-50-prathikrao/audio/3-144891-B-19.wav-r 32000 ESC-50-prathikrao/audio_32k/3-144891-B-19.wav\n",
      "sox ESC-50-prathikrao/audio/3-174840-A-43.wav-r 32000 ESC-50-prathikrao/audio_32k/3-174840-A-43.wav\n",
      "sox ESC-50-prathikrao/audio/2-77346-A-46.wav-r 32000 ESC-50-prathikrao/audio_32k/2-77346-A-46.wav\n"
     ]
    },
    {
     "name": "stderr",
     "output_type": "stream",
     "text": [
      "sox WARN rate: rate clipped 112 samples; decrease volume?\n",
      "sox WARN dither: dither clipped 100 samples; decrease volume?\n"
     ]
    },
    {
     "name": "stdout",
     "output_type": "stream",
     "text": [
      "sox ESC-50-prathikrao/audio/3-164630-A-11.wav-r 32000 ESC-50-prathikrao/audio_32k/3-164630-A-11.wav\n",
      "sox ESC-50-prathikrao/audio/1-68734-A-34.wav-r 32000 ESC-50-prathikrao/audio_32k/1-68734-A-34.wav\n",
      "sox ESC-50-prathikrao/audio/4-199261-A-0.wav-r 32000 ESC-50-prathikrao/audio_32k/4-199261-A-0.wav\n"
     ]
    },
    {
     "name": "stderr",
     "output_type": "stream",
     "text": [
      "sox WARN rate: rate clipped 155 samples; decrease volume?\n",
      "sox WARN dither: dither clipped 138 samples; decrease volume?\n"
     ]
    },
    {
     "name": "stdout",
     "output_type": "stream",
     "text": [
      "sox ESC-50-prathikrao/audio/5-103418-A-2.wav-r 32000 ESC-50-prathikrao/audio_32k/5-103418-A-2.wav\n",
      "sox ESC-50-prathikrao/audio/3-156393-A-35.wav-r 32000 ESC-50-prathikrao/audio_32k/3-156393-A-35.wav\n",
      "sox ESC-50-prathikrao/audio/4-172366-A-37.wav-r 32000 ESC-50-prathikrao/audio_32k/4-172366-A-37.wav\n",
      "sox ESC-50-prathikrao/audio/5-200329-C-8.wav-r 32000 ESC-50-prathikrao/audio_32k/5-200329-C-8.wav\n",
      "sox ESC-50-prathikrao/audio/3-144120-A-32.wav-r 32000 ESC-50-prathikrao/audio_32k/3-144120-A-32.wav\n",
      "sox ESC-50-prathikrao/audio/4-144468-A-27.wav-r 32000 ESC-50-prathikrao/audio_32k/4-144468-A-27.wav\n",
      "sox ESC-50-prathikrao/audio/3-253084-E-2.wav-r 32000 ESC-50-prathikrao/audio_32k/3-253084-E-2.wav\n",
      "sox ESC-50-prathikrao/audio/5-220939-A-27.wav-r 32000 ESC-50-prathikrao/audio_32k/5-220939-A-27.wav\n",
      "sox ESC-50-prathikrao/audio/4-80761-A-42.wav-r 32000 ESC-50-prathikrao/audio_32k/4-80761-A-42.wav\n"
     ]
    },
    {
     "name": "stderr",
     "output_type": "stream",
     "text": [
      "sox WARN rate: rate clipped 1862 samples; decrease volume?\n",
      "sox WARN dither: dither clipped 1660 samples; decrease volume?\n"
     ]
    },
    {
     "name": "stdout",
     "output_type": "stream",
     "text": [
      "sox ESC-50-prathikrao/audio/2-95258-A-1.wav-r 32000 ESC-50-prathikrao/audio_32k/2-95258-A-1.wav\n",
      "sox ESC-50-prathikrao/audio/4-172500-B-27.wav-r 32000 ESC-50-prathikrao/audio_32k/4-172500-B-27.wav\n",
      "sox ESC-50-prathikrao/audio/4-204115-A-39.wav-r 32000 ESC-50-prathikrao/audio_32k/4-204115-A-39.wav\n",
      "sox ESC-50-prathikrao/audio/3-94344-A-25.wav-r 32000 ESC-50-prathikrao/audio_32k/3-94344-A-25.wav\n",
      "sox ESC-50-prathikrao/audio/3-154439-A-17.wav-r 32000 ESC-50-prathikrao/audio_32k/3-154439-A-17.wav\n",
      "sox ESC-50-prathikrao/audio/5-263831-B-6.wav-r 32000 ESC-50-prathikrao/audio_32k/5-263831-B-6.wav\n"
     ]
    },
    {
     "name": "stderr",
     "output_type": "stream",
     "text": [
      "sox WARN rate: rate clipped 3 samples; decrease volume?\n",
      "sox WARN dither: dither clipped 3 samples; decrease volume?\n"
     ]
    },
    {
     "name": "stdout",
     "output_type": "stream",
     "text": [
      "sox ESC-50-prathikrao/audio/1-44831-A-1.wav-r 32000 ESC-50-prathikrao/audio_32k/1-44831-A-1.wav\n",
      "sox ESC-50-prathikrao/audio/2-52085-B-4.wav-r 32000 ESC-50-prathikrao/audio_32k/2-52085-B-4.wav\n",
      "sox ESC-50-prathikrao/audio/3-180256-A-0.wav-r 32000 ESC-50-prathikrao/audio_32k/3-180256-A-0.wav\n",
      "sox ESC-50-prathikrao/audio/3-107123-A-26.wav-r 32000 ESC-50-prathikrao/audio_32k/3-107123-A-26.wav\n",
      "sox ESC-50-prathikrao/audio/3-112557-A-23.wav-r 32000 ESC-50-prathikrao/audio_32k/3-112557-A-23.wav\n",
      "sox ESC-50-prathikrao/audio/5-212050-A-27.wav-r 32000 ESC-50-prathikrao/audio_32k/5-212050-A-27.wav\n"
     ]
    },
    {
     "name": "stderr",
     "output_type": "stream",
     "text": [
      "sox WARN rate: rate clipped 4 samples; decrease volume?\n",
      "sox WARN dither: dither clipped 3 samples; decrease volume?\n"
     ]
    },
    {
     "name": "stdout",
     "output_type": "stream",
     "text": [
      "sox ESC-50-prathikrao/audio/2-102414-C-17.wav-r 32000 ESC-50-prathikrao/audio_32k/2-102414-C-17.wav\n",
      "sox ESC-50-prathikrao/audio/5-233160-A-1.wav-r 32000 ESC-50-prathikrao/audio_32k/5-233160-A-1.wav\n",
      "sox ESC-50-prathikrao/audio/1-260640-B-2.wav-r 32000 ESC-50-prathikrao/audio_32k/1-260640-B-2.wav\n",
      "sox ESC-50-prathikrao/audio/whistle17.wav-r 32000 ESC-50-prathikrao/audio_32k/whistle17.wav\n"
     ]
    },
    {
     "name": "stderr",
     "output_type": "stream",
     "text": [
      "sox WARN rate: rate clipped 217 samples; decrease volume?\n",
      "sox WARN dither: dither clipped 186 samples; decrease volume?\n",
      "sox WARN rate: rate clipped 44 samples; decrease volume?\n",
      "sox WARN dither: dither clipped 38 samples; decrease volume?\n"
     ]
    },
    {
     "name": "stdout",
     "output_type": "stream",
     "text": [
      "sox ESC-50-prathikrao/audio/5-200334-A-1.wav-r 32000 ESC-50-prathikrao/audio_32k/5-200334-A-1.wav\n",
      "sox ESC-50-prathikrao/audio/2-72268-A-6.wav-r 32000 ESC-50-prathikrao/audio_32k/2-72268-A-6.wav\n",
      "sox ESC-50-prathikrao/audio/1-31482-A-42.wav-r 32000 ESC-50-prathikrao/audio_32k/1-31482-A-42.wav\n"
     ]
    },
    {
     "name": "stderr",
     "output_type": "stream",
     "text": [
      "sox WARN rate: rate clipped 219 samples; decrease volume?\n",
      "sox WARN dither: dither clipped 199 samples; decrease volume?\n"
     ]
    },
    {
     "name": "stdout",
     "output_type": "stream",
     "text": [
      "sox ESC-50-prathikrao/audio/3-108677-A-18.wav-r 32000 ESC-50-prathikrao/audio_32k/3-108677-A-18.wav\n",
      "sox ESC-50-prathikrao/audio/whistle16.wav-r 32000 ESC-50-prathikrao/audio_32k/whistle16.wav\n",
      "sox ESC-50-prathikrao/audio/1-47819-B-5.wav-r 32000 ESC-50-prathikrao/audio_32k/1-47819-B-5.wav\n",
      "sox ESC-50-prathikrao/audio/2-100786-A-1.wav-r 32000 ESC-50-prathikrao/audio_32k/2-100786-A-1.wav\n",
      "sox ESC-50-prathikrao/audio/5-213802-A-12.wav-r 32000 ESC-50-prathikrao/audio_32k/5-213802-A-12.wav\n",
      "sox ESC-50-prathikrao/audio/4-171207-A-12.wav-r 32000 ESC-50-prathikrao/audio_32k/4-171207-A-12.wav\n",
      "sox ESC-50-prathikrao/audio/3-87936-B-46.wav-r 32000 ESC-50-prathikrao/audio_32k/3-87936-B-46.wav\n",
      "sox ESC-50-prathikrao/audio/1-103298-A-9.wav-r 32000 ESC-50-prathikrao/audio_32k/1-103298-A-9.wav\n",
      "sox ESC-50-prathikrao/audio/2-7321-A-33.wav-r 32000 ESC-50-prathikrao/audio_32k/2-7321-A-33.wav\n",
      "sox ESC-50-prathikrao/audio/4-195707-A-13.wav-r 32000 ESC-50-prathikrao/audio_32k/4-195707-A-13.wav\n"
     ]
    },
    {
     "name": "stderr",
     "output_type": "stream",
     "text": [
      "sox WARN rate: rate clipped 6 samples; decrease volume?\n",
      "sox WARN dither: dither clipped 5 samples; decrease volume?\n"
     ]
    },
    {
     "name": "stdout",
     "output_type": "stream",
     "text": [
      "sox ESC-50-prathikrao/audio/2-141563-A-39.wav-r 32000 ESC-50-prathikrao/audio_32k/2-141563-A-39.wav\n",
      "sox ESC-50-prathikrao/audio/1-51805-E-33.wav-r 32000 ESC-50-prathikrao/audio_32k/1-51805-E-33.wav\n",
      "sox ESC-50-prathikrao/audio/4-164206-A-10.wav-r 32000 ESC-50-prathikrao/audio_32k/4-164206-A-10.wav\n",
      "sox ESC-50-prathikrao/audio/5-216131-A-32.wav-r 32000 ESC-50-prathikrao/audio_32k/5-216131-A-32.wav\n",
      "sox ESC-50-prathikrao/audio/4-198360-C-49.wav-r 32000 ESC-50-prathikrao/audio_32k/4-198360-C-49.wav\n",
      "sox ESC-50-prathikrao/audio/2-70938-A-42.wav-r 32000 ESC-50-prathikrao/audio_32k/2-70938-A-42.wav\n"
     ]
    },
    {
     "name": "stderr",
     "output_type": "stream",
     "text": [
      "sox WARN rate: rate clipped 6 samples; decrease volume?\n",
      "sox WARN dither: dither clipped 6 samples; decrease volume?\n",
      "sox WARN rate: rate clipped 278 samples; decrease volume?\n",
      "sox WARN dither: dither clipped 278 samples; decrease volume?\n",
      "sox WARN rate: rate clipped 13 samples; decrease volume?\n",
      "sox WARN dither: dither clipped 12 samples; decrease volume?\n"
     ]
    },
    {
     "name": "stdout",
     "output_type": "stream",
     "text": [
      "sox ESC-50-prathikrao/audio/2-160888-A-47.wav-r 32000 ESC-50-prathikrao/audio_32k/2-160888-A-47.wav\n",
      "sox ESC-50-prathikrao/audio/4-194808-A-29.wav-r 32000 ESC-50-prathikrao/audio_32k/4-194808-A-29.wav\n",
      "sox ESC-50-prathikrao/audio/2-70939-A-42.wav-r 32000 ESC-50-prathikrao/audio_32k/2-70939-A-42.wav\n"
     ]
    },
    {
     "name": "stderr",
     "output_type": "stream",
     "text": [
      "sox WARN rate: rate clipped 18 samples; decrease volume?\n",
      "sox WARN dither: dither clipped 18 samples; decrease volume?\n",
      "sox WARN rate: rate clipped 97 samples; decrease volume?\n",
      "sox WARN dither: dither clipped 83 samples; decrease volume?\n"
     ]
    },
    {
     "name": "stdout",
     "output_type": "stream",
     "text": [
      "sox ESC-50-prathikrao/audio/5-242492-A-3.wav-r 32000 ESC-50-prathikrao/audio_32k/5-242492-A-3.wav\n",
      "sox ESC-50-prathikrao/audio/3-145387-A-29.wav-r 32000 ESC-50-prathikrao/audio_32k/3-145387-A-29.wav\n",
      "sox ESC-50-prathikrao/audio/3-152007-A-20.wav-r 32000 ESC-50-prathikrao/audio_32k/3-152007-A-20.wav\n",
      "sox ESC-50-prathikrao/audio/3-117504-B-16.wav-r 32000 ESC-50-prathikrao/audio_32k/3-117504-B-16.wav\n",
      "sox ESC-50-prathikrao/audio/4-189830-A-22.wav-r 32000 ESC-50-prathikrao/audio_32k/4-189830-A-22.wav\n",
      "sox ESC-50-prathikrao/audio/1-172649-F-40.wav-r 32000 ESC-50-prathikrao/audio_32k/1-172649-F-40.wav\n",
      "sox ESC-50-prathikrao/audio/1-96950-A-9.wav-r 32000 ESC-50-prathikrao/audio_32k/1-96950-A-9.wav\n",
      "sox ESC-50-prathikrao/audio/4-155650-B-24.wav-r 32000 ESC-50-prathikrao/audio_32k/4-155650-B-24.wav\n",
      "sox ESC-50-prathikrao/audio/4-161303-A-5.wav-r 32000 ESC-50-prathikrao/audio_32k/4-161303-A-5.wav\n",
      "sox ESC-50-prathikrao/audio/3-51909-B-42.wav-r 32000 ESC-50-prathikrao/audio_32k/3-51909-B-42.wav\n",
      "sox ESC-50-prathikrao/audio/2-119102-A-21.wav-r 32000 ESC-50-prathikrao/audio_32k/2-119102-A-21.wav\n",
      "sox ESC-50-prathikrao/audio/5-209698-A-38.wav-r 32000 ESC-50-prathikrao/audio_32k/5-209698-A-38.wav\n"
     ]
    },
    {
     "name": "stderr",
     "output_type": "stream",
     "text": [
      "sox WARN rate: rate clipped 12561 samples; decrease volume?\n",
      "sox WARN dither: dither clipped 11101 samples; decrease volume?\n",
      "sox WARN rate: rate clipped 1 samples; decrease volume?\n",
      "sox WARN dither: dither clipped 1 samples; decrease volume?\n"
     ]
    },
    {
     "name": "stdout",
     "output_type": "stream",
     "text": [
      "sox ESC-50-prathikrao/audio/4-167077-B-20.wav-r 32000 ESC-50-prathikrao/audio_32k/4-167077-B-20.wav\n",
      "sox ESC-50-prathikrao/audio/3-83527-A-4.wav-r 32000 ESC-50-prathikrao/audio_32k/3-83527-A-4.wav\n",
      "sox ESC-50-prathikrao/audio/5-214759-A-5.wav-r 32000 ESC-50-prathikrao/audio_32k/5-214759-A-5.wav\n",
      "sox ESC-50-prathikrao/audio/2-32515-B-4.wav-r 32000 ESC-50-prathikrao/audio_32k/2-32515-B-4.wav\n",
      "sox ESC-50-prathikrao/audio/4-184575-A-0.wav-r 32000 ESC-50-prathikrao/audio_32k/4-184575-A-0.wav\n",
      "sox ESC-50-prathikrao/audio/5-259169-A-5.wav-r 32000 ESC-50-prathikrao/audio_32k/5-259169-A-5.wav\n"
     ]
    },
    {
     "name": "stderr",
     "output_type": "stream",
     "text": [
      "sox WARN rate: rate clipped 273 samples; decrease volume?\n",
      "sox WARN dither: dither clipped 246 samples; decrease volume?\n",
      "sox WARN rate: rate clipped 238 samples; decrease volume?\n",
      "sox WARN dither: dither clipped 206 samples; decrease volume?\n"
     ]
    },
    {
     "name": "stdout",
     "output_type": "stream",
     "text": [
      "sox ESC-50-prathikrao/audio/3-146873-A-24.wav-r 32000 ESC-50-prathikrao/audio_32k/3-146873-A-24.wav\n",
      "sox ESC-50-prathikrao/audio/4-144083-B-16.wav-r 32000 ESC-50-prathikrao/audio_32k/4-144083-B-16.wav\n",
      "sox ESC-50-prathikrao/audio/5-188716-A-46.wav-r 32000 ESC-50-prathikrao/audio_32k/5-188716-A-46.wav\n",
      "sox ESC-50-prathikrao/audio/3-118658-A-41.wav-r 32000 ESC-50-prathikrao/audio_32k/3-118658-A-41.wav\n",
      "sox ESC-50-prathikrao/audio/4-182034-A-30.wav-r 32000 ESC-50-prathikrao/audio_32k/4-182034-A-30.wav\n",
      "sox ESC-50-prathikrao/audio/4-119648-A-48.wav-r 32000 ESC-50-prathikrao/audio_32k/4-119648-A-48.wav\n"
     ]
    },
    {
     "name": "stderr",
     "output_type": "stream",
     "text": [
      "sox WARN rate: rate clipped 10 samples; decrease volume?\n",
      "sox WARN dither: dither clipped 9 samples; decrease volume?\n",
      "sox WARN rate: rate clipped 17 samples; decrease volume?\n",
      "sox WARN dither: dither clipped 15 samples; decrease volume?\n"
     ]
    },
    {
     "name": "stdout",
     "output_type": "stream",
     "text": [
      "sox ESC-50-prathikrao/audio/2-106487-A-44.wav-r 32000 ESC-50-prathikrao/audio_32k/2-106487-A-44.wav\n",
      "sox ESC-50-prathikrao/audio/4-157611-B-41.wav-r 32000 ESC-50-prathikrao/audio_32k/4-157611-B-41.wav\n",
      "sox ESC-50-prathikrao/audio/2-104952-B-16.wav-r 32000 ESC-50-prathikrao/audio_32k/2-104952-B-16.wav\n",
      "sox ESC-50-prathikrao/audio/4-204618-A-11.wav-r 32000 ESC-50-prathikrao/audio_32k/4-204618-A-11.wav\n",
      "sox ESC-50-prathikrao/audio/2-108767-C-9.wav-r 32000 ESC-50-prathikrao/audio_32k/2-108767-C-9.wav\n",
      "sox ESC-50-prathikrao/audio/1-46040-A-14.wav-r 32000 ESC-50-prathikrao/audio_32k/1-46040-A-14.wav\n",
      "sox ESC-50-prathikrao/audio/2-106486-A-44.wav-r 32000 ESC-50-prathikrao/audio_32k/2-106486-A-44.wav\n",
      "sox ESC-50-prathikrao/audio/1-76831-A-42.wav-r 32000 ESC-50-prathikrao/audio_32k/1-76831-A-42.wav\n",
      "sox ESC-50-prathikrao/audio/1-79236-A-36.wav-r 32000 ESC-50-prathikrao/audio_32k/1-79236-A-36.wav\n"
     ]
    },
    {
     "name": "stderr",
     "output_type": "stream",
     "text": [
      "sox WARN rate: rate clipped 112 samples; decrease volume?\n",
      "sox WARN dither: dither clipped 103 samples; decrease volume?\n",
      "sox WARN rate: rate clipped 13 samples; decrease volume?\n",
      "sox WARN dither: dither clipped 11 samples; decrease volume?\n"
     ]
    },
    {
     "name": "stdout",
     "output_type": "stream",
     "text": [
      "sox ESC-50-prathikrao/audio/5-231762-A-0.wav-r 32000 ESC-50-prathikrao/audio_32k/5-231762-A-0.wav\n",
      "sox ESC-50-prathikrao/audio/4-194981-A-25.wav-r 32000 ESC-50-prathikrao/audio_32k/4-194981-A-25.wav\n",
      "sox ESC-50-prathikrao/audio/3-154957-A-1.wav-r 32000 ESC-50-prathikrao/audio_32k/3-154957-A-1.wav\n"
     ]
    },
    {
     "name": "stderr",
     "output_type": "stream",
     "text": [
      "sox WARN rate: rate clipped 341 samples; decrease volume?\n",
      "sox WARN dither: dither clipped 290 samples; decrease volume?\n"
     ]
    },
    {
     "name": "stdout",
     "output_type": "stream",
     "text": [
      "sox ESC-50-prathikrao/audio/3-157149-A-10.wav-r 32000 ESC-50-prathikrao/audio_32k/3-157149-A-10.wav\n",
      "sox ESC-50-prathikrao/audio/1-63871-A-10.wav-r 32000 ESC-50-prathikrao/audio_32k/1-63871-A-10.wav\n",
      "sox ESC-50-prathikrao/audio/4-175000-A-40.wav-r 32000 ESC-50-prathikrao/audio_32k/4-175000-A-40.wav\n",
      "sox ESC-50-prathikrao/audio/1-17092-A-27.wav-r 32000 ESC-50-prathikrao/audio_32k/1-17092-A-27.wav\n",
      "sox ESC-50-prathikrao/audio/5-182010-A-36.wav-r 32000 ESC-50-prathikrao/audio_32k/5-182010-A-36.wav\n",
      "sox ESC-50-prathikrao/audio/2-84943-A-18.wav-r 32000 ESC-50-prathikrao/audio_32k/2-84943-A-18.wav\n"
     ]
    },
    {
     "name": "stderr",
     "output_type": "stream",
     "text": [
      "sox WARN rate: rate clipped 38 samples; decrease volume?\n",
      "sox WARN dither: dither clipped 34 samples; decrease volume?\n"
     ]
    },
    {
     "name": "stdout",
     "output_type": "stream",
     "text": [
      "sox ESC-50-prathikrao/audio/2-94807-A-29.wav-r 32000 ESC-50-prathikrao/audio_32k/2-94807-A-29.wav\n",
      "sox ESC-50-prathikrao/audio/5-222041-A-9.wav-r 32000 ESC-50-prathikrao/audio_32k/5-222041-A-9.wav\n",
      "sox ESC-50-prathikrao/audio/2-118625-A-30.wav-r 32000 ESC-50-prathikrao/audio_32k/2-118625-A-30.wav\n"
     ]
    },
    {
     "name": "stderr",
     "output_type": "stream",
     "text": [
      "sox WARN rate: rate clipped 330 samples; decrease volume?\n",
      "sox WARN dither: dither clipped 293 samples; decrease volume?\n"
     ]
    },
    {
     "name": "stdout",
     "output_type": "stream",
     "text": [
      "sox ESC-50-prathikrao/audio/1-56311-A-10.wav-r 32000 ESC-50-prathikrao/audio_32k/1-56311-A-10.wav\n",
      "sox ESC-50-prathikrao/audio/5-215447-A-47.wav-r 32000 ESC-50-prathikrao/audio_32k/5-215447-A-47.wav\n",
      "sox ESC-50-prathikrao/audio/2-118624-A-30.wav-r 32000 ESC-50-prathikrao/audio_32k/2-118624-A-30.wav\n",
      "sox ESC-50-prathikrao/audio/4-170247-A-12.wav-r 32000 ESC-50-prathikrao/audio_32k/4-170247-A-12.wav\n",
      "sox ESC-50-prathikrao/audio/5-195557-A-19.wav-r 32000 ESC-50-prathikrao/audio_32k/5-195557-A-19.wav\n",
      "sox ESC-50-prathikrao/audio/2-209474-A-25.wav-r 32000 ESC-50-prathikrao/audio_32k/2-209474-A-25.wav\n"
     ]
    },
    {
     "name": "stderr",
     "output_type": "stream",
     "text": [
      "sox WARN rate: rate clipped 93 samples; decrease volume?\n",
      "sox WARN dither: dither clipped 85 samples; decrease volume?\n",
      "sox WARN rate: rate clipped 4 samples; decrease volume?\n",
      "sox WARN dither: dither clipped 3 samples; decrease volume?\n"
     ]
    },
    {
     "name": "stdout",
     "output_type": "stream",
     "text": [
      "sox ESC-50-prathikrao/audio/3-108791-A-18.wav-r 32000 ESC-50-prathikrao/audio_32k/3-108791-A-18.wav\n",
      "sox ESC-50-prathikrao/audio/3-111102-B-46.wav-r 32000 ESC-50-prathikrao/audio_32k/3-111102-B-46.wav\n",
      "sox ESC-50-prathikrao/audio/2-66637-B-20.wav-r 32000 ESC-50-prathikrao/audio_32k/2-66637-B-20.wav\n"
     ]
    },
    {
     "name": "stderr",
     "output_type": "stream",
     "text": [
      "sox WARN rate: rate clipped 3 samples; decrease volume?\n",
      "sox WARN dither: dither clipped 3 samples; decrease volume?\n"
     ]
    },
    {
     "name": "stdout",
     "output_type": "stream",
     "text": [
      "sox ESC-50-prathikrao/audio/2-209475-A-25.wav-r 32000 ESC-50-prathikrao/audio_32k/2-209475-A-25.wav\n",
      "sox ESC-50-prathikrao/audio/5-208810-A-11.wav-r 32000 ESC-50-prathikrao/audio_32k/5-208810-A-11.wav\n",
      "sox ESC-50-prathikrao/audio/4-149940-A-5.wav-r 32000 ESC-50-prathikrao/audio_32k/4-149940-A-5.wav\n",
      "sox ESC-50-prathikrao/audio/2-103427-A-3.wav-r 32000 ESC-50-prathikrao/audio_32k/2-103427-A-3.wav\n",
      "sox ESC-50-prathikrao/audio/4-205526-B-23.wav-r 32000 ESC-50-prathikrao/audio_32k/4-205526-B-23.wav\n",
      "sox ESC-50-prathikrao/audio/2-68595-B-15.wav-r 32000 ESC-50-prathikrao/audio_32k/2-68595-B-15.wav\n"
     ]
    },
    {
     "name": "stderr",
     "output_type": "stream",
     "text": [
      "sox WARN rate: rate clipped 833 samples; decrease volume?\n",
      "sox WARN dither: dither clipped 724 samples; decrease volume?\n"
     ]
    },
    {
     "name": "stdout",
     "output_type": "stream",
     "text": [
      "sox ESC-50-prathikrao/audio/3-20861-A-8.wav-r 32000 ESC-50-prathikrao/audio_32k/3-20861-A-8.wav\n",
      "sox ESC-50-prathikrao/audio/4-181563-A-12.wav-r 32000 ESC-50-prathikrao/audio_32k/4-181563-A-12.wav\n",
      "sox ESC-50-prathikrao/audio/5-250026-A-30.wav-r 32000 ESC-50-prathikrao/audio_32k/5-250026-A-30.wav\n",
      "sox ESC-50-prathikrao/audio/1-49409-A-8.wav-r 32000 ESC-50-prathikrao/audio_32k/1-49409-A-8.wav\n",
      "sox ESC-50-prathikrao/audio/1-115521-A-19.wav-r 32000 ESC-50-prathikrao/audio_32k/1-115521-A-19.wav\n",
      "sox ESC-50-prathikrao/audio/2-117615-C-48.wav-r 32000 ESC-50-prathikrao/audio_32k/2-117615-C-48.wav\n"
     ]
    },
    {
     "name": "stderr",
     "output_type": "stream",
     "text": [
      "sox WARN rate: rate clipped 43 samples; decrease volume?\n",
      "sox WARN dither: dither clipped 39 samples; decrease volume?\n"
     ]
    },
    {
     "name": "stdout",
     "output_type": "stream",
     "text": [
      "sox ESC-50-prathikrao/audio/2-108767-A-9.wav-r 32000 ESC-50-prathikrao/audio_32k/2-108767-A-9.wav\n",
      "sox ESC-50-prathikrao/audio/1-27166-A-35.wav-r 32000 ESC-50-prathikrao/audio_32k/1-27166-A-35.wav\n",
      "sox ESC-50-prathikrao/audio/2-78562-B-37.wav-r 32000 ESC-50-prathikrao/audio_32k/2-78562-B-37.wav\n"
     ]
    },
    {
     "name": "stderr",
     "output_type": "stream",
     "text": [
      "sox WARN rate: rate clipped 277 samples; decrease volume?\n",
      "sox WARN dither: dither clipped 243 samples; decrease volume?\n",
      "sox WARN rate: rate clipped 5 samples; decrease volume?\n",
      "sox WARN dither: dither clipped 4 samples; decrease volume?\n",
      "sox WARN rate: rate clipped 332 samples; decrease volume?\n",
      "sox WARN dither: dither clipped 295 samples; decrease volume?\n"
     ]
    },
    {
     "name": "stdout",
     "output_type": "stream",
     "text": [
      "sox ESC-50-prathikrao/audio/2-123712-A-33.wav-r 32000 ESC-50-prathikrao/audio_32k/2-123712-A-33.wav\n",
      "sox ESC-50-prathikrao/audio/1-58277-A-3.wav-r 32000 ESC-50-prathikrao/audio_32k/1-58277-A-3.wav\n",
      "sox ESC-50-prathikrao/audio/3-153444-A-32.wav-r 32000 ESC-50-prathikrao/audio_32k/3-153444-A-32.wav\n",
      "sox ESC-50-prathikrao/audio/1-67152-A-17.wav-r 32000 ESC-50-prathikrao/audio_32k/1-67152-A-17.wav\n",
      "sox ESC-50-prathikrao/audio/3-170383-A-38.wav-r 32000 ESC-50-prathikrao/audio_32k/3-170383-A-38.wav\n",
      "sox ESC-50-prathikrao/audio/1-48413-A-38.wav-r 32000 ESC-50-prathikrao/audio_32k/1-48413-A-38.wav\n",
      "sox ESC-50-prathikrao/audio/4-171519-A-21.wav-r 32000 ESC-50-prathikrao/audio_32k/4-171519-A-21.wav\n",
      "sox ESC-50-prathikrao/audio/5-219342-A-38.wav-r 32000 ESC-50-prathikrao/audio_32k/5-219342-A-38.wav\n",
      "sox ESC-50-prathikrao/audio/5-261325-A-9.wav-r 32000 ESC-50-prathikrao/audio_32k/5-261325-A-9.wav\n",
      "sox ESC-50-prathikrao/audio/1-91359-B-11.wav-r 32000 ESC-50-prathikrao/audio_32k/1-91359-B-11.wav\n",
      "sox ESC-50-prathikrao/audio/4-132383-B-2.wav-r 32000 ESC-50-prathikrao/audio_32k/4-132383-B-2.wav\n",
      "sox ESC-50-prathikrao/audio/4-197103-A-6.wav-r 32000 ESC-50-prathikrao/audio_32k/4-197103-A-6.wav\n",
      "sox ESC-50-prathikrao/audio/2-173607-A-39.wav-r 32000 ESC-50-prathikrao/audio_32k/2-173607-A-39.wav\n",
      "sox ESC-50-prathikrao/audio/2-158746-D-2.wav-r 32000 ESC-50-prathikrao/audio_32k/2-158746-D-2.wav\n",
      "sox ESC-50-prathikrao/audio/5-199284-B-45.wav-r 32000 ESC-50-prathikrao/audio_32k/5-199284-B-45.wav\n"
     ]
    },
    {
     "name": "stderr",
     "output_type": "stream",
     "text": [
      "sox WARN rate: rate clipped 17 samples; decrease volume?\n",
      "sox WARN dither: dither clipped 14 samples; decrease volume?\n",
      "sox WARN rate: rate clipped 430 samples; decrease volume?\n",
      "sox WARN dither: dither clipped 369 samples; decrease volume?\n",
      "sox WARN rate: rate clipped 1 samples; decrease volume?\n",
      "sox WARN dither: dither clipped 1 samples; decrease volume?\n"
     ]
    },
    {
     "name": "stdout",
     "output_type": "stream",
     "text": [
      "sox ESC-50-prathikrao/audio/4-166661-A-10.wav-r 32000 ESC-50-prathikrao/audio_32k/4-166661-A-10.wav\n",
      "sox ESC-50-prathikrao/audio/5-207811-B-35.wav-r 32000 ESC-50-prathikrao/audio_32k/5-207811-B-35.wav\n",
      "sox ESC-50-prathikrao/audio/2-78799-A-47.wav-r 32000 ESC-50-prathikrao/audio_32k/2-78799-A-47.wav\n",
      "sox ESC-50-prathikrao/audio/3-141240-B-44.wav-r 32000 ESC-50-prathikrao/audio_32k/3-141240-B-44.wav\n",
      "sox ESC-50-prathikrao/audio/1-54065-A-45.wav-r 32000 ESC-50-prathikrao/audio_32k/1-54065-A-45.wav\n",
      "sox ESC-50-prathikrao/audio/2-43806-A-42.wav-r 32000 ESC-50-prathikrao/audio_32k/2-43806-A-42.wav\n",
      "sox ESC-50-prathikrao/audio/3-182023-A-30.wav-r 32000 ESC-50-prathikrao/audio_32k/3-182023-A-30.wav\n",
      "sox ESC-50-prathikrao/audio/3-153057-A-43.wav-r 32000 ESC-50-prathikrao/audio_32k/3-153057-A-43.wav\n",
      "sox ESC-50-prathikrao/audio/4-218199-E-35.wav-r 32000 ESC-50-prathikrao/audio_32k/4-218199-E-35.wav\n",
      "sox ESC-50-prathikrao/audio/whistle28.wav-r 32000 ESC-50-prathikrao/audio_32k/whistle28.wav\n"
     ]
    },
    {
     "name": "stderr",
     "output_type": "stream",
     "text": [
      "sox WARN rate: rate clipped 54 samples; decrease volume?\n",
      "sox WARN dither: dither clipped 46 samples; decrease volume?\n"
     ]
    },
    {
     "name": "stdout",
     "output_type": "stream",
     "text": [
      "sox ESC-50-prathikrao/audio/3-146965-A-5.wav-r 32000 ESC-50-prathikrao/audio_32k/3-146965-A-5.wav\n",
      "sox ESC-50-prathikrao/audio/3-128512-B-47.wav-r 32000 ESC-50-prathikrao/audio_32k/3-128512-B-47.wav\n",
      "sox ESC-50-prathikrao/audio/3-134699-A-16.wav-r 32000 ESC-50-prathikrao/audio_32k/3-134699-A-16.wav\n",
      "sox ESC-50-prathikrao/audio/4-189832-B-22.wav-r 32000 ESC-50-prathikrao/audio_32k/4-189832-B-22.wav\n",
      "sox ESC-50-prathikrao/audio/2-54086-A-43.wav-r 32000 ESC-50-prathikrao/audio_32k/2-54086-A-43.wav\n",
      "sox ESC-50-prathikrao/audio/4-175855-A-43.wav-r 32000 ESC-50-prathikrao/audio_32k/4-175855-A-43.wav\n",
      "sox ESC-50-prathikrao/audio/whistle14.wav-r 32000 ESC-50-prathikrao/audio_32k/whistle14.wav\n",
      "sox ESC-50-prathikrao/audio/2-122820-B-36.wav-r 32000 ESC-50-prathikrao/audio_32k/2-122820-B-36.wav\n",
      "sox ESC-50-prathikrao/audio/4-210309-A-31.wav-r 32000 ESC-50-prathikrao/audio_32k/4-210309-A-31.wav\n",
      "sox ESC-50-prathikrao/audio/5-185579-A-41.wav-r 32000 ESC-50-prathikrao/audio_32k/5-185579-A-41.wav\n",
      "sox ESC-50-prathikrao/audio/whistle15.wav-r 32000 ESC-50-prathikrao/audio_32k/whistle15.wav\n",
      "sox ESC-50-prathikrao/audio/4-132839-A-33.wav-r 32000 ESC-50-prathikrao/audio_32k/4-132839-A-33.wav\n",
      "sox ESC-50-prathikrao/audio/1-30043-A-26.wav-r 32000 ESC-50-prathikrao/audio_32k/1-30043-A-26.wav\n",
      "sox ESC-50-prathikrao/audio/5-117122-A-42.wav-r 32000 ESC-50-prathikrao/audio_32k/5-117122-A-42.wav\n",
      "sox ESC-50-prathikrao/audio/2-146877-B-31.wav-r 32000 ESC-50-prathikrao/audio_32k/2-146877-B-31.wav\n",
      "sox ESC-50-prathikrao/audio/1-9887-B-49.wav-r 32000 ESC-50-prathikrao/audio_32k/1-9887-B-49.wav\n",
      "sox ESC-50-prathikrao/audio/whistle29.wav-r 32000 ESC-50-prathikrao/audio_32k/whistle29.wav\n",
      "sox ESC-50-prathikrao/audio/5-217186-A-16.wav-r 32000 ESC-50-prathikrao/audio_32k/5-217186-A-16.wav\n",
      "sox ESC-50-prathikrao/audio/3-155556-A-31.wav-r 32000 ESC-50-prathikrao/audio_32k/3-155556-A-31.wav\n",
      "sox ESC-50-prathikrao/audio/3-65748-A-12.wav-r 32000 ESC-50-prathikrao/audio_32k/3-65748-A-12.wav\n",
      "sox ESC-50-prathikrao/audio/4-202749-A-13.wav-r 32000 ESC-50-prathikrao/audio_32k/4-202749-A-13.wav\n",
      "sox ESC-50-prathikrao/audio/5-200329-A-8.wav-r 32000 ESC-50-prathikrao/audio_32k/5-200329-A-8.wav\n",
      "sox ESC-50-prathikrao/audio/4-204121-A-39.wav-r 32000 ESC-50-prathikrao/audio_32k/4-204121-A-39.wav\n",
      "sox ESC-50-prathikrao/audio/2-56926-A-46.wav-r 32000 ESC-50-prathikrao/audio_32k/2-56926-A-46.wav\n"
     ]
    },
    {
     "name": "stderr",
     "output_type": "stream",
     "text": [
      "sox WARN rate: rate clipped 1 samples; decrease volume?\n",
      "sox WARN dither: dither clipped 1 samples; decrease volume?\n"
     ]
    },
    {
     "name": "stdout",
     "output_type": "stream",
     "text": [
      "sox ESC-50-prathikrao/audio/3-164593-A-15.wav-r 32000 ESC-50-prathikrao/audio_32k/3-164593-A-15.wav\n",
      "sox ESC-50-prathikrao/audio/5-260433-A-39.wav-r 32000 ESC-50-prathikrao/audio_32k/5-260433-A-39.wav\n",
      "sox ESC-50-prathikrao/audio/3-164592-A-15.wav-r 32000 ESC-50-prathikrao/audio_32k/3-164592-A-15.wav\n",
      "sox ESC-50-prathikrao/audio/5-260432-A-39.wav-r 32000 ESC-50-prathikrao/audio_32k/5-260432-A-39.wav\n",
      "sox ESC-50-prathikrao/audio/5-160614-H-48.wav-r 32000 ESC-50-prathikrao/audio_32k/5-160614-H-48.wav\n",
      "sox ESC-50-prathikrao/audio/1-80841-A-13.wav-r 32000 ESC-50-prathikrao/audio_32k/1-80841-A-13.wav\n"
     ]
    },
    {
     "name": "stderr",
     "output_type": "stream",
     "text": [
      "sox WARN rate: rate clipped 1 samples; decrease volume?\n",
      "sox WARN dither: dither clipped 1 samples; decrease volume?\n"
     ]
    },
    {
     "name": "stdout",
     "output_type": "stream",
     "text": [
      "sox ESC-50-prathikrao/audio/2-117330-A-28.wav-r 32000 ESC-50-prathikrao/audio_32k/2-117330-A-28.wav\n",
      "sox ESC-50-prathikrao/audio/1-46272-A-12.wav-r 32000 ESC-50-prathikrao/audio_32k/1-46272-A-12.wav\n",
      "sox ESC-50-prathikrao/audio/1-80840-A-13.wav-r 32000 ESC-50-prathikrao/audio_32k/1-80840-A-13.wav\n",
      "sox ESC-50-prathikrao/audio/1-60676-A-34.wav-r 32000 ESC-50-prathikrao/audio_32k/1-60676-A-34.wav\n",
      "sox ESC-50-prathikrao/audio/5-238926-A-31.wav-r 32000 ESC-50-prathikrao/audio_32k/5-238926-A-31.wav\n",
      "sox ESC-50-prathikrao/audio/4-175025-A-34.wav-r 32000 ESC-50-prathikrao/audio_32k/4-175025-A-34.wav\n"
     ]
    },
    {
     "name": "stderr",
     "output_type": "stream",
     "text": [
      "sox WARN rate: rate clipped 19 samples; decrease volume?\n",
      "sox WARN dither: dither clipped 18 samples; decrease volume?\n",
      "sox WARN rate: rate clipped 200 samples; decrease volume?\n",
      "sox WARN dither: dither clipped 176 samples; decrease volume?\n"
     ]
    },
    {
     "name": "stdout",
     "output_type": "stream",
     "text": [
      "sox ESC-50-prathikrao/audio/5-197913-A-18.wav-r 32000 ESC-50-prathikrao/audio_32k/5-197913-A-18.wav\n",
      "sox ESC-50-prathikrao/audio/1-7057-A-12.wav-r 32000 ESC-50-prathikrao/audio_32k/1-7057-A-12.wav\n",
      "sox ESC-50-prathikrao/audio/1-118206-A-31.wav-r 32000 ESC-50-prathikrao/audio_32k/1-118206-A-31.wav\n"
     ]
    },
    {
     "name": "stderr",
     "output_type": "stream",
     "text": [
      "sox WARN rate: rate clipped 56 samples; decrease volume?\n",
      "sox WARN dither: dither clipped 48 samples; decrease volume?\n"
     ]
    },
    {
     "name": "stdout",
     "output_type": "stream",
     "text": [
      "sox ESC-50-prathikrao/audio/5-197121-A-45.wav-r 32000 ESC-50-prathikrao/audio_32k/5-197121-A-45.wav\n",
      "sox ESC-50-prathikrao/audio/5-219044-A-46.wav-r 32000 ESC-50-prathikrao/audio_32k/5-219044-A-46.wav\n",
      "sox ESC-50-prathikrao/audio/1-19898-B-41.wav-r 32000 ESC-50-prathikrao/audio_32k/1-19898-B-41.wav\n"
     ]
    },
    {
     "name": "stderr",
     "output_type": "stream",
     "text": [
      "sox WARN rate: rate clipped 5 samples; decrease volume?\n",
      "sox WARN dither: dither clipped 4 samples; decrease volume?\n"
     ]
    },
    {
     "name": "stdout",
     "output_type": "stream",
     "text": [
      "sox ESC-50-prathikrao/audio/5-198411-F-20.wav-r 32000 ESC-50-prathikrao/audio_32k/5-198411-F-20.wav\n",
      "sox ESC-50-prathikrao/audio/2-70344-A-33.wav-r 32000 ESC-50-prathikrao/audio_32k/2-70344-A-33.wav\n",
      "sox ESC-50-prathikrao/audio/2-60900-A-22.wav-r 32000 ESC-50-prathikrao/audio_32k/2-60900-A-22.wav\n",
      "sox ESC-50-prathikrao/audio/3-203377-A-39.wav-r 32000 ESC-50-prathikrao/audio_32k/3-203377-A-39.wav\n",
      "sox ESC-50-prathikrao/audio/5-221567-A-22.wav-r 32000 ESC-50-prathikrao/audio_32k/5-221567-A-22.wav\n",
      "sox ESC-50-prathikrao/audio/1-57318-A-13.wav-r 32000 ESC-50-prathikrao/audio_32k/1-57318-A-13.wav\n"
     ]
    },
    {
     "name": "stderr",
     "output_type": "stream",
     "text": [
      "sox WARN rate: rate clipped 5 samples; decrease volume?\n",
      "sox WARN dither: dither clipped 5 samples; decrease volume?\n",
      "sox WARN rate: rate clipped 1 samples; decrease volume?\n",
      "sox WARN dither: dither clipped 1 samples; decrease volume?\n"
     ]
    },
    {
     "name": "stdout",
     "output_type": "stream",
     "text": [
      "sox ESC-50-prathikrao/audio/4-99644-A-4.wav-r 32000 ESC-50-prathikrao/audio_32k/4-99644-A-4.wav\n",
      "sox ESC-50-prathikrao/audio/2-70052-B-42.wav-r 32000 ESC-50-prathikrao/audio_32k/2-70052-B-42.wav\n",
      "sox ESC-50-prathikrao/audio/5-248341-A-6.wav-r 32000 ESC-50-prathikrao/audio_32k/5-248341-A-6.wav\n"
     ]
    },
    {
     "name": "stderr",
     "output_type": "stream",
     "text": [
      "sox WARN rate: rate clipped 70 samples; decrease volume?\n",
      "sox WARN dither: dither clipped 64 samples; decrease volume?\n"
     ]
    },
    {
     "name": "stdout",
     "output_type": "stream",
     "text": [
      "sox ESC-50-prathikrao/audio/3-243726-A-43.wav-r 32000 ESC-50-prathikrao/audio_32k/3-243726-A-43.wav\n",
      "sox ESC-50-prathikrao/audio/4-111671-A-42.wav-r 32000 ESC-50-prathikrao/audio_32k/4-111671-A-42.wav\n",
      "sox ESC-50-prathikrao/audio/3-124376-A-3.wav-r 32000 ESC-50-prathikrao/audio_32k/3-124376-A-3.wav\n",
      "sox ESC-50-prathikrao/audio/3-127874-A-17.wav-r 32000 ESC-50-prathikrao/audio_32k/3-127874-A-17.wav\n",
      "sox ESC-50-prathikrao/audio/3-150979-B-40.wav-r 32000 ESC-50-prathikrao/audio_32k/3-150979-B-40.wav\n",
      "sox ESC-50-prathikrao/audio/4-167155-A-32.wav-r 32000 ESC-50-prathikrao/audio_32k/4-167155-A-32.wav\n",
      "sox ESC-50-prathikrao/audio/1-36164-A-26.wav-r 32000 ESC-50-prathikrao/audio_32k/1-36164-A-26.wav\n",
      "sox ESC-50-prathikrao/audio/5-177957-B-40.wav-r 32000 ESC-50-prathikrao/audio_32k/5-177957-B-40.wav\n",
      "sox ESC-50-prathikrao/audio/5-156999-A-19.wav-r 32000 ESC-50-prathikrao/audio_32k/5-156999-A-19.wav\n"
     ]
    },
    {
     "name": "stderr",
     "output_type": "stream",
     "text": [
      "sox WARN rate: rate clipped 568 samples; decrease volume?\n",
      "sox WARN dither: dither clipped 525 samples; decrease volume?\n"
     ]
    },
    {
     "name": "stdout",
     "output_type": "stream",
     "text": [
      "sox ESC-50-prathikrao/audio/2-108761-A-14.wav-r 32000 ESC-50-prathikrao/audio_32k/2-108761-A-14.wav\n",
      "sox ESC-50-prathikrao/audio/2-108760-A-14.wav-r 32000 ESC-50-prathikrao/audio_32k/2-108760-A-14.wav\n",
      "sox ESC-50-prathikrao/audio/5-216213-A-13.wav-r 32000 ESC-50-prathikrao/audio_32k/5-216213-A-13.wav\n",
      "sox ESC-50-prathikrao/audio/3-152997-A-26.wav-r 32000 ESC-50-prathikrao/audio_32k/3-152997-A-26.wav\n",
      "sox ESC-50-prathikrao/audio/5-160614-D-48.wav-r 32000 ESC-50-prathikrao/audio_32k/5-160614-D-48.wav\n",
      "sox ESC-50-prathikrao/audio/1-17565-A-12.wav-r 32000 ESC-50-prathikrao/audio_32k/1-17565-A-12.wav\n"
     ]
    },
    {
     "name": "stderr",
     "output_type": "stream",
     "text": [
      "sox WARN rate: rate clipped 503 samples; decrease volume?\n",
      "sox WARN dither: dither clipped 451 samples; decrease volume?\n",
      "sox WARN rate: rate clipped 3 samples; decrease volume?\n",
      "sox WARN dither: dither clipped 3 samples; decrease volume?\n"
     ]
    },
    {
     "name": "stdout",
     "output_type": "stream",
     "text": [
      "sox ESC-50-prathikrao/audio/5-257349-A-15.wav-r 32000 ESC-50-prathikrao/audio_32k/5-257349-A-15.wav\n",
      "sox ESC-50-prathikrao/audio/3-132340-A-37.wav-r 32000 ESC-50-prathikrao/audio_32k/3-132340-A-37.wav\n",
      "sox ESC-50-prathikrao/audio/5-251963-A-47.wav-r 32000 ESC-50-prathikrao/audio_32k/5-251963-A-47.wav\n",
      "sox ESC-50-prathikrao/audio/4-164021-A-1.wav-r 32000 ESC-50-prathikrao/audio_32k/4-164021-A-1.wav\n",
      "sox ESC-50-prathikrao/audio/1-27403-A-28.wav-r 32000 ESC-50-prathikrao/audio_32k/1-27403-A-28.wav\n",
      "sox ESC-50-prathikrao/audio/3-154926-A-40.wav-r 32000 ESC-50-prathikrao/audio_32k/3-154926-A-40.wav\n",
      "sox ESC-50-prathikrao/audio/2-39945-B-19.wav-r 32000 ESC-50-prathikrao/audio_32k/2-39945-B-19.wav\n",
      "sox ESC-50-prathikrao/audio/3-158056-B-31.wav-r 32000 ESC-50-prathikrao/audio_32k/3-158056-B-31.wav\n",
      "sox ESC-50-prathikrao/audio/5-251962-A-47.wav-r 32000 ESC-50-prathikrao/audio_32k/5-251962-A-47.wav\n",
      "sox ESC-50-prathikrao/audio/3-93010-A-18.wav-r 32000 ESC-50-prathikrao/audio_32k/3-93010-A-18.wav\n",
      "sox ESC-50-prathikrao/audio/1-49098-A-35.wav-r 32000 ESC-50-prathikrao/audio_32k/1-49098-A-35.wav\n",
      "sox ESC-50-prathikrao/audio/4-186938-A-44.wav-r 32000 ESC-50-prathikrao/audio_32k/4-186938-A-44.wav\n"
     ]
    },
    {
     "name": "stderr",
     "output_type": "stream",
     "text": [
      "sox WARN rate: rate clipped 245 samples; decrease volume?\n",
      "sox WARN dither: dither clipped 225 samples; decrease volume?\n",
      "sox WARN rate: rate clipped 5 samples; decrease volume?\n",
      "sox WARN dither: dither clipped 4 samples; decrease volume?\n"
     ]
    },
    {
     "name": "stdout",
     "output_type": "stream",
     "text": [
      "sox ESC-50-prathikrao/audio/2-103426-A-3.wav-r 32000 ESC-50-prathikrao/audio_32k/2-103426-A-3.wav\n",
      "sox ESC-50-prathikrao/audio/4-165813-B-19.wav-r 32000 ESC-50-prathikrao/audio_32k/4-165813-B-19.wav\n",
      "sox ESC-50-prathikrao/audio/4-198025-A-23.wav-r 32000 ESC-50-prathikrao/audio_32k/4-198025-A-23.wav\n"
     ]
    },
    {
     "name": "stderr",
     "output_type": "stream",
     "text": [
      "sox WARN rate: rate clipped 5747 samples; decrease volume?\n",
      "sox WARN dither: dither clipped 5386 samples; decrease volume?\n",
      "sox WARN rate: rate clipped 233 samples; decrease volume?\n",
      "sox WARN dither: dither clipped 218 samples; decrease volume?\n"
     ]
    },
    {
     "name": "stdout",
     "output_type": "stream",
     "text": [
      "sox ESC-50-prathikrao/audio/2-155801-A-11.wav-r 32000 ESC-50-prathikrao/audio_32k/2-155801-A-11.wav\n",
      "sox ESC-50-prathikrao/audio/1-56233-A-9.wav-r 32000 ESC-50-prathikrao/audio_32k/1-56233-A-9.wav\n",
      "sox ESC-50-prathikrao/audio/4-161099-B-47.wav-r 32000 ESC-50-prathikrao/audio_32k/4-161099-B-47.wav\n"
     ]
    },
    {
     "name": "stderr",
     "output_type": "stream",
     "text": [
      "sox WARN rate: rate clipped 18 samples; decrease volume?\n",
      "sox WARN dither: dither clipped 15 samples; decrease volume?\n",
      "sox WARN rate: rate clipped 7174 samples; decrease volume?\n",
      "sox WARN dither: dither clipped 6296 samples; decrease volume?\n"
     ]
    },
    {
     "name": "stdout",
     "output_type": "stream",
     "text": [
      "sox ESC-50-prathikrao/audio/5-250629-A-37.wav-r 32000 ESC-50-prathikrao/audio_32k/5-250629-A-37.wav\n",
      "sox ESC-50-prathikrao/audio/4-251645-A-49.wav-r 32000 ESC-50-prathikrao/audio_32k/4-251645-A-49.wav\n",
      "sox ESC-50-prathikrao/audio/4-201300-A-31.wav-r 32000 ESC-50-prathikrao/audio_32k/4-201300-A-31.wav\n",
      "sox ESC-50-prathikrao/audio/2-109759-A-26.wav-r 32000 ESC-50-prathikrao/audio_32k/2-109759-A-26.wav\n",
      "sox ESC-50-prathikrao/audio/4-187504-A-17.wav-r 32000 ESC-50-prathikrao/audio_32k/4-187504-A-17.wav\n",
      "sox ESC-50-prathikrao/audio/4-218199-G-35.wav-r 32000 ESC-50-prathikrao/audio_32k/4-218199-G-35.wav\n"
     ]
    },
    {
     "name": "stderr",
     "output_type": "stream",
     "text": [
      "sox WARN rate: rate clipped 33 samples; decrease volume?\n",
      "sox WARN dither: dither clipped 29 samples; decrease volume?\n"
     ]
    },
    {
     "name": "stdout",
     "output_type": "stream",
     "text": [
      "sox ESC-50-prathikrao/audio/2-108766-A-9.wav-r 32000 ESC-50-prathikrao/audio_32k/2-108766-A-9.wav\n",
      "sox ESC-50-prathikrao/audio/5-220027-A-21.wav-r 32000 ESC-50-prathikrao/audio_32k/5-220027-A-21.wav\n",
      "sox ESC-50-prathikrao/audio/5-223099-B-32.wav-r 32000 ESC-50-prathikrao/audio_32k/5-223099-B-32.wav\n"
     ]
    },
    {
     "name": "stderr",
     "output_type": "stream",
     "text": [
      "sox WARN rate: rate clipped 2 samples; decrease volume?\n",
      "sox WARN dither: dither clipped 2 samples; decrease volume?\n",
      "sox WARN rate: rate clipped 74 samples; decrease volume?\n",
      "sox WARN dither: dither clipped 69 samples; decrease volume?\n",
      "sox WARN rate: rate clipped 171 samples; decrease volume?\n",
      "sox WARN dither: dither clipped 205 samples; decrease volume?\n"
     ]
    },
    {
     "name": "stdout",
     "output_type": "stream",
     "text": [
      "sox ESC-50-prathikrao/audio/3-134699-C-16.wav-r 32000 ESC-50-prathikrao/audio_32k/3-134699-C-16.wav\n",
      "sox ESC-50-prathikrao/audio/5-220026-A-21.wav-r 32000 ESC-50-prathikrao/audio_32k/5-220026-A-21.wav\n",
      "sox ESC-50-prathikrao/audio/1-50623-A-15.wav-r 32000 ESC-50-prathikrao/audio_32k/1-50623-A-15.wav\n"
     ]
    },
    {
     "name": "stderr",
     "output_type": "stream",
     "text": [
      "sox WARN rate: rate clipped 5 samples; decrease volume?\n",
      "sox WARN dither: dither clipped 4 samples; decrease volume?\n",
      "sox WARN rate: rate clipped 62 samples; decrease volume?\n",
      "sox WARN dither: dither clipped 54 samples; decrease volume?\n"
     ]
    },
    {
     "name": "stdout",
     "output_type": "stream",
     "text": [
      "sox ESC-50-prathikrao/audio/2-69131-B-5.wav-r 32000 ESC-50-prathikrao/audio_32k/2-69131-B-5.wav\n",
      "sox ESC-50-prathikrao/audio/1-25781-A-48.wav-r 32000 ESC-50-prathikrao/audio_32k/1-25781-A-48.wav\n",
      "sox ESC-50-prathikrao/audio/5-187201-A-4.wav-r 32000 ESC-50-prathikrao/audio_32k/5-187201-A-4.wav\n"
     ]
    },
    {
     "name": "stderr",
     "output_type": "stream",
     "text": [
      "sox WARN rate: rate clipped 2 samples; decrease volume?\n"
     ]
    },
    {
     "name": "stdout",
     "output_type": "stream",
     "text": [
      "sox ESC-50-prathikrao/audio/1-47274-A-21.wav-r 32000 ESC-50-prathikrao/audio_32k/1-47274-A-21.wav\n",
      "sox ESC-50-prathikrao/audio/3-159346-B-36.wav-r 32000 ESC-50-prathikrao/audio_32k/3-159346-B-36.wav\n",
      "sox ESC-50-prathikrao/audio/5-243459-B-14.wav-r 32000 ESC-50-prathikrao/audio_32k/5-243459-B-14.wav\n",
      "sox ESC-50-prathikrao/audio/4-163608-B-16.wav-r 32000 ESC-50-prathikrao/audio_32k/4-163608-B-16.wav\n",
      "sox ESC-50-prathikrao/audio/3-159347-B-36.wav-r 32000 ESC-50-prathikrao/audio_32k/3-159347-B-36.wav\n",
      "sox ESC-50-prathikrao/audio/1-115920-B-22.wav-r 32000 ESC-50-prathikrao/audio_32k/1-115920-B-22.wav\n",
      "sox ESC-50-prathikrao/audio/3-253084-C-2.wav-r 32000 ESC-50-prathikrao/audio_32k/3-253084-C-2.wav\n",
      "sox ESC-50-prathikrao/audio/4-163609-B-16.wav-r 32000 ESC-50-prathikrao/audio_32k/4-163609-B-16.wav\n",
      "sox ESC-50-prathikrao/audio/5-201170-A-46.wav-r 32000 ESC-50-prathikrao/audio_32k/5-201170-A-46.wav\n"
     ]
    },
    {
     "name": "stderr",
     "output_type": "stream",
     "text": [
      "sox WARN rate: rate clipped 4 samples; decrease volume?\n",
      "sox WARN dither: dither clipped 2 samples; decrease volume?\n",
      "sox WARN rate: rate clipped 13 samples; decrease volume?\n",
      "sox WARN dither: dither clipped 12 samples; decrease volume?\n"
     ]
    },
    {
     "name": "stdout",
     "output_type": "stream",
     "text": [
      "sox ESC-50-prathikrao/audio/5-202898-A-10.wav-r 32000 ESC-50-prathikrao/audio_32k/5-202898-A-10.wav\n",
      "sox ESC-50-prathikrao/audio/5-253101-B-49.wav-r 32000 ESC-50-prathikrao/audio_32k/5-253101-B-49.wav\n",
      "sox ESC-50-prathikrao/audio/2-70367-A-33.wav-r 32000 ESC-50-prathikrao/audio_32k/2-70367-A-33.wav\n",
      "sox ESC-50-prathikrao/audio/3-118194-A-33.wav-r 32000 ESC-50-prathikrao/audio_32k/3-118194-A-33.wav\n",
      "sox ESC-50-prathikrao/audio/4-250864-A-8.wav-r 32000 ESC-50-prathikrao/audio_32k/4-250864-A-8.wav\n",
      "sox ESC-50-prathikrao/audio/2-70366-A-33.wav-r 32000 ESC-50-prathikrao/audio_32k/2-70366-A-33.wav\n",
      "sox ESC-50-prathikrao/audio/4-59579-B-20.wav-r 32000 ESC-50-prathikrao/audio_32k/4-59579-B-20.wav\n",
      "sox ESC-50-prathikrao/audio/3-103401-B-33.wav-r 32000 ESC-50-prathikrao/audio_32k/3-103401-B-33.wav\n",
      "sox ESC-50-prathikrao/audio/5-219318-A-31.wav-r 32000 ESC-50-prathikrao/audio_32k/5-219318-A-31.wav\n",
      "sox ESC-50-prathikrao/audio/4-191246-A-7.wav-r 32000 ESC-50-prathikrao/audio_32k/4-191246-A-7.wav\n",
      "sox ESC-50-prathikrao/audio/1-31836-B-4.wav-r 32000 ESC-50-prathikrao/audio_32k/1-31836-B-4.wav\n",
      "sox ESC-50-prathikrao/audio/5-191131-A-40.wav-r 32000 ESC-50-prathikrao/audio_32k/5-191131-A-40.wav\n"
     ]
    },
    {
     "name": "stderr",
     "output_type": "stream",
     "text": [
      "sox WARN rate: rate clipped 1 samples; decrease volume?\n",
      "sox WARN dither: dither clipped 1 samples; decrease volume?\n"
     ]
    },
    {
     "name": "stdout",
     "output_type": "stream",
     "text": [
      "sox ESC-50-prathikrao/audio/1-23996-A-35.wav-r 32000 ESC-50-prathikrao/audio_32k/1-23996-A-35.wav\n",
      "sox ESC-50-prathikrao/audio/4-264453-A-34.wav-r 32000 ESC-50-prathikrao/audio_32k/4-264453-A-34.wav\n",
      "sox ESC-50-prathikrao/audio/3-117293-A-9.wav-r 32000 ESC-50-prathikrao/audio_32k/3-117293-A-9.wav\n"
     ]
    },
    {
     "name": "stderr",
     "output_type": "stream",
     "text": [
      "sox WARN rate: rate clipped 165 samples; decrease volume?\n",
      "sox WARN dither: dither clipped 135 samples; decrease volume?\n",
      "sox WARN rate: rate clipped 70 samples; decrease volume?\n",
      "sox WARN dither: dither clipped 63 samples; decrease volume?\n"
     ]
    },
    {
     "name": "stdout",
     "output_type": "stream",
     "text": [
      "sox ESC-50-prathikrao/audio/1-73123-A-26.wav-r 32000 ESC-50-prathikrao/audio_32k/1-73123-A-26.wav\n",
      "sox ESC-50-prathikrao/audio/3-155583-A-14.wav-r 32000 ESC-50-prathikrao/audio_32k/3-155583-A-14.wav\n",
      "sox ESC-50-prathikrao/audio/4-207116-A-23.wav-r 32000 ESC-50-prathikrao/audio_32k/4-207116-A-23.wav\n",
      "sox ESC-50-prathikrao/audio/3-150231-A-21.wav-r 32000 ESC-50-prathikrao/audio_32k/3-150231-A-21.wav\n",
      "sox ESC-50-prathikrao/audio/1-54918-A-14.wav-r 32000 ESC-50-prathikrao/audio_32k/1-54918-A-14.wav\n",
      "sox ESC-50-prathikrao/audio/1-223162-A-25.wav-r 32000 ESC-50-prathikrao/audio_32k/1-223162-A-25.wav\n",
      "sox ESC-50-prathikrao/audio/2-117615-A-48.wav-r 32000 ESC-50-prathikrao/audio_32k/2-117615-A-48.wav\n",
      "sox ESC-50-prathikrao/audio/3-146964-A-5.wav-r 32000 ESC-50-prathikrao/audio_32k/3-146964-A-5.wav\n",
      "sox ESC-50-prathikrao/audio/1-119125-A-45.wav-r 32000 ESC-50-prathikrao/audio_32k/1-119125-A-45.wav\n"
     ]
    },
    {
     "name": "stderr",
     "output_type": "stream",
     "text": [
      "sox WARN rate: rate clipped 10 samples; decrease volume?\n",
      "sox WARN dither: dither clipped 7 samples; decrease volume?\n"
     ]
    },
    {
     "name": "stdout",
     "output_type": "stream",
     "text": [
      "sox ESC-50-prathikrao/audio/4-193480-B-40.wav-r 32000 ESC-50-prathikrao/audio_32k/4-193480-B-40.wav\n",
      "sox ESC-50-prathikrao/audio/3-103598-A-25.wav-r 32000 ESC-50-prathikrao/audio_32k/3-103598-A-25.wav\n",
      "sox ESC-50-prathikrao/audio/1-20133-A-39.wav-r 32000 ESC-50-prathikrao/audio_32k/1-20133-A-39.wav\n"
     ]
    },
    {
     "name": "stderr",
     "output_type": "stream",
     "text": [
      "sox WARN rate: rate clipped 25 samples; decrease volume?\n",
      "sox WARN dither: dither clipped 23 samples; decrease volume?\n"
     ]
    },
    {
     "name": "stdout",
     "output_type": "stream",
     "text": [
      "sox ESC-50-prathikrao/audio/3-103599-A-25.wav-r 32000 ESC-50-prathikrao/audio_32k/3-103599-A-25.wav\n",
      "sox ESC-50-prathikrao/audio/5-215634-A-17.wav-r 32000 ESC-50-prathikrao/audio_32k/5-215634-A-17.wav\n",
      "sox ESC-50-prathikrao/audio/3-182710-A-35.wav-r 32000 ESC-50-prathikrao/audio_32k/3-182710-A-35.wav\n",
      "sox ESC-50-prathikrao/audio/1-12654-A-15.wav-r 32000 ESC-50-prathikrao/audio_32k/1-12654-A-15.wav\n",
      "sox ESC-50-prathikrao/audio/4-175000-C-40.wav-r 32000 ESC-50-prathikrao/audio_32k/4-175000-C-40.wav\n",
      "sox ESC-50-prathikrao/audio/2-89516-A-37.wav-r 32000 ESC-50-prathikrao/audio_32k/2-89516-A-37.wav\n",
      "sox ESC-50-prathikrao/audio/4-187769-A-14.wav-r 32000 ESC-50-prathikrao/audio_32k/4-187769-A-14.wav\n",
      "sox ESC-50-prathikrao/audio/5-220955-A-40.wav-r 32000 ESC-50-prathikrao/audio_32k/5-220955-A-40.wav\n",
      "sox ESC-50-prathikrao/audio/4-126046-A-18.wav-r 32000 ESC-50-prathikrao/audio_32k/4-126046-A-18.wav\n",
      "sox ESC-50-prathikrao/audio/4-204684-A-37.wav-r 32000 ESC-50-prathikrao/audio_32k/4-204684-A-37.wav\n",
      "sox ESC-50-prathikrao/audio/2-122067-A-45.wav-r 32000 ESC-50-prathikrao/audio_32k/2-122067-A-45.wav\n",
      "sox ESC-50-prathikrao/audio/5-161270-B-33.wav-r 32000 ESC-50-prathikrao/audio_32k/5-161270-B-33.wav\n"
     ]
    },
    {
     "name": "stderr",
     "output_type": "stream",
     "text": [
      "sox WARN rate: rate clipped 33 samples; decrease volume?\n",
      "sox WARN dither: dither clipped 33 samples; decrease volume?\n",
      "sox WARN rate: rate clipped 71 samples; decrease volume?\n",
      "sox WARN dither: dither clipped 56 samples; decrease volume?\n"
     ]
    },
    {
     "name": "stdout",
     "output_type": "stream",
     "text": [
      "sox ESC-50-prathikrao/audio/2-144137-A-43.wav-r 32000 ESC-50-prathikrao/audio_32k/2-144137-A-43.wav\n",
      "sox ESC-50-prathikrao/audio/whistle11.wav-r 32000 ESC-50-prathikrao/audio_32k/whistle11.wav\n",
      "sox ESC-50-prathikrao/audio/2-122066-A-45.wav-r 32000 ESC-50-prathikrao/audio_32k/2-122066-A-45.wav\n",
      "sox ESC-50-prathikrao/audio/whistle39.wav-r 32000 ESC-50-prathikrao/audio_32k/whistle39.wav\n"
     ]
    },
    {
     "name": "stderr",
     "output_type": "stream",
     "text": [
      "sox WARN rate: rate clipped 369 samples; decrease volume?\n",
      "sox WARN dither: dither clipped 305 samples; decrease volume?\n"
     ]
    },
    {
     "name": "stdout",
     "output_type": "stream",
     "text": [
      "sox ESC-50-prathikrao/audio/4-194246-A-13.wav-r 32000 ESC-50-prathikrao/audio_32k/4-194246-A-13.wav\n",
      "sox ESC-50-prathikrao/audio/3-126358-B-3.wav-r 32000 ESC-50-prathikrao/audio_32k/3-126358-B-3.wav\n",
      "sox ESC-50-prathikrao/audio/1-75162-A-9.wav-r 32000 ESC-50-prathikrao/audio_32k/1-75162-A-9.wav\n",
      "sox ESC-50-prathikrao/audio/1-100038-A-14.wav-r 32000 ESC-50-prathikrao/audio_32k/1-100038-A-14.wav\n",
      "sox ESC-50-prathikrao/audio/1-103995-A-30.wav-r 32000 ESC-50-prathikrao/audio_32k/1-103995-A-30.wav\n",
      "sox ESC-50-prathikrao/audio/1-40967-A-28.wav-r 32000 ESC-50-prathikrao/audio_32k/1-40967-A-28.wav\n"
     ]
    },
    {
     "name": "stderr",
     "output_type": "stream",
     "text": [
      "sox WARN rate: rate clipped 5 samples; decrease volume?\n",
      "sox WARN dither: dither clipped 2 samples; decrease volume?\n",
      "sox WARN rate: rate clipped 2 samples; decrease volume?\n",
      "sox WARN dither: dither clipped 2 samples; decrease volume?\n"
     ]
    },
    {
     "name": "stdout",
     "output_type": "stream",
     "text": [
      "sox ESC-50-prathikrao/audio/1-88409-B-45.wav-r 32000 ESC-50-prathikrao/audio_32k/1-88409-B-45.wav\n",
      "sox ESC-50-prathikrao/audio/4-164064-C-1.wav-r 32000 ESC-50-prathikrao/audio_32k/4-164064-C-1.wav\n",
      "sox ESC-50-prathikrao/audio/5-61635-A-8.wav-r 32000 ESC-50-prathikrao/audio_32k/5-61635-A-8.wav\n"
     ]
    },
    {
     "name": "stderr",
     "output_type": "stream",
     "text": [
      "sox WARN rate: rate clipped 9 samples; decrease volume?\n",
      "sox WARN dither: dither clipped 7 samples; decrease volume?\n"
     ]
    },
    {
     "name": "stdout",
     "output_type": "stream",
     "text": [
      "sox ESC-50-prathikrao/audio/3-143562-A-47.wav-r 32000 ESC-50-prathikrao/audio_32k/3-143562-A-47.wav\n",
      "sox ESC-50-prathikrao/audio/whistle38.wav-r 32000 ESC-50-prathikrao/audio_32k/whistle38.wav\n",
      "sox ESC-50-prathikrao/audio/3-150363-A-38.wav-r 32000 ESC-50-prathikrao/audio_32k/3-150363-A-38.wav\n",
      "sox ESC-50-prathikrao/audio/4-188703-C-8.wav-r 32000 ESC-50-prathikrao/audio_32k/4-188703-C-8.wav\n",
      "sox ESC-50-prathikrao/audio/1-34497-A-14.wav-r 32000 ESC-50-prathikrao/audio_32k/1-34497-A-14.wav\n",
      "sox ESC-50-prathikrao/audio/whistle10.wav-r 32000 ESC-50-prathikrao/audio_32k/whistle10.wav\n",
      "sox ESC-50-prathikrao/audio/5-243450-A-14.wav-r 32000 ESC-50-prathikrao/audio_32k/5-243450-A-14.wav\n",
      "sox ESC-50-prathikrao/audio/1-26806-A-1.wav-r 32000 ESC-50-prathikrao/audio_32k/1-26806-A-1.wav\n",
      "sox ESC-50-prathikrao/audio/3-124958-A-28.wav-r 32000 ESC-50-prathikrao/audio_32k/3-124958-A-28.wav\n",
      "sox ESC-50-prathikrao/audio/2-157488-A-6.wav-r 32000 ESC-50-prathikrao/audio_32k/2-157488-A-6.wav\n",
      "sox ESC-50-prathikrao/audio/2-70280-A-18.wav-r 32000 ESC-50-prathikrao/audio_32k/2-70280-A-18.wav\n",
      "sox ESC-50-prathikrao/audio/2-122763-A-29.wav-r 32000 ESC-50-prathikrao/audio_32k/2-122763-A-29.wav\n",
      "sox ESC-50-prathikrao/audio/1-47250-A-41.wav-r 32000 ESC-50-prathikrao/audio_32k/1-47250-A-41.wav\n"
     ]
    },
    {
     "name": "stderr",
     "output_type": "stream",
     "text": [
      "sox WARN rate: rate clipped 1 samples; decrease volume?\n",
      "sox WARN dither: dither clipped 1 samples; decrease volume?\n",
      "sox WARN rate: rate clipped 8 samples; decrease volume?\n",
      "sox WARN dither: dither clipped 7 samples; decrease volume?\n"
     ]
    },
    {
     "name": "stdout",
     "output_type": "stream",
     "text": [
      "sox ESC-50-prathikrao/audio/4-107117-A-33.wav-r 32000 ESC-50-prathikrao/audio_32k/4-107117-A-33.wav\n",
      "sox ESC-50-prathikrao/audio/5-160614-F-48.wav-r 32000 ESC-50-prathikrao/audio_32k/5-160614-F-48.wav\n",
      "sox ESC-50-prathikrao/audio/5-202220-A-21.wav-r 32000 ESC-50-prathikrao/audio_32k/5-202220-A-21.wav\n"
     ]
    },
    {
     "name": "stderr",
     "output_type": "stream",
     "text": [
      "sox WARN rate: rate clipped 14 samples; decrease volume?\n",
      "sox WARN dither: dither clipped 12 samples; decrease volume?\n"
     ]
    },
    {
     "name": "stdout",
     "output_type": "stream",
     "text": [
      "sox ESC-50-prathikrao/audio/4-141365-A-18.wav-r 32000 ESC-50-prathikrao/audio_32k/4-141365-A-18.wav\n",
      "sox ESC-50-prathikrao/audio/5-233645-A-37.wav-r 32000 ESC-50-prathikrao/audio_32k/5-233645-A-37.wav\n",
      "sox ESC-50-prathikrao/audio/2-32515-D-4.wav-r 32000 ESC-50-prathikrao/audio_32k/2-32515-D-4.wav\n"
     ]
    },
    {
     "name": "stderr",
     "output_type": "stream",
     "text": [
      "sox WARN rate: rate clipped 35 samples; decrease volume?\n",
      "sox WARN dither: dither clipped 33 samples; decrease volume?\n",
      "sox WARN rate: rate clipped 329 samples; decrease volume?\n",
      "sox WARN dither: dither clipped 278 samples; decrease volume?\n"
     ]
    },
    {
     "name": "stdout",
     "output_type": "stream",
     "text": [
      "sox ESC-50-prathikrao/audio/3-110913-A-7.wav-r 32000 ESC-50-prathikrao/audio_32k/3-110913-A-7.wav\n",
      "sox ESC-50-prathikrao/audio/1-196660-B-8.wav-r 32000 ESC-50-prathikrao/audio_32k/1-196660-B-8.wav\n",
      "sox ESC-50-prathikrao/audio/2-68391-A-41.wav-r 32000 ESC-50-prathikrao/audio_32k/2-68391-A-41.wav\n",
      "sox ESC-50-prathikrao/audio/1-13572-A-46.wav-r 32000 ESC-50-prathikrao/audio_32k/1-13572-A-46.wav\n",
      "sox ESC-50-prathikrao/audio/2-122104-B-0.wav-r 32000 ESC-50-prathikrao/audio_32k/2-122104-B-0.wav\n",
      "sox ESC-50-prathikrao/audio/4-208021-A-1.wav-r 32000 ESC-50-prathikrao/audio_32k/4-208021-A-1.wav\n"
     ]
    },
    {
     "name": "stderr",
     "output_type": "stream",
     "text": [
      "sox WARN rate: rate clipped 10 samples; decrease volume?\n",
      "sox WARN dither: dither clipped 9 samples; decrease volume?\n"
     ]
    },
    {
     "name": "stdout",
     "output_type": "stream",
     "text": [
      "sox ESC-50-prathikrao/audio/5-179866-A-43.wav-r 32000 ESC-50-prathikrao/audio_32k/5-179866-A-43.wav\n",
      "sox ESC-50-prathikrao/audio/5-156999-C-19.wav-r 32000 ESC-50-prathikrao/audio_32k/5-156999-C-19.wav\n",
      "sox ESC-50-prathikrao/audio/3-141559-A-45.wav-r 32000 ESC-50-prathikrao/audio_32k/3-141559-A-45.wav\n"
     ]
    },
    {
     "name": "stderr",
     "output_type": "stream",
     "text": [
      "sox WARN rate: rate clipped 4486 samples; decrease volume?\n",
      "sox WARN dither: dither clipped 6503 samples; decrease volume?\n"
     ]
    },
    {
     "name": "stdout",
     "output_type": "stream",
     "text": [
      "sox ESC-50-prathikrao/audio/2-37806-B-40.wav-r 32000 ESC-50-prathikrao/audio_32k/2-37806-B-40.wav\n",
      "sox ESC-50-prathikrao/audio/5-253085-A-3.wav-r 32000 ESC-50-prathikrao/audio_32k/5-253085-A-3.wav\n",
      "sox ESC-50-prathikrao/audio/2-96904-A-27.wav-r 32000 ESC-50-prathikrao/audio_32k/2-96904-A-27.wav\n",
      "sox ESC-50-prathikrao/audio/2-50667-B-41.wav-r 32000 ESC-50-prathikrao/audio_32k/2-50667-B-41.wav\n",
      "sox ESC-50-prathikrao/audio/2-112213-B-39.wav-r 32000 ESC-50-prathikrao/audio_32k/2-112213-B-39.wav\n",
      "sox ESC-50-prathikrao/audio/5-244178-A-32.wav-r 32000 ESC-50-prathikrao/audio_32k/5-244178-A-32.wav\n"
     ]
    },
    {
     "name": "stderr",
     "output_type": "stream",
     "text": [
      "sox WARN rate: rate clipped 1 samples; decrease volume?\n",
      "sox WARN rate: rate clipped 5 samples; decrease volume?\n",
      "sox WARN dither: dither clipped 4 samples; decrease volume?\n"
     ]
    },
    {
     "name": "stdout",
     "output_type": "stream",
     "text": [
      "sox ESC-50-prathikrao/audio/4-250869-A-2.wav-r 32000 ESC-50-prathikrao/audio_32k/4-250869-A-2.wav\n",
      "sox ESC-50-prathikrao/audio/4-171652-A-44.wav-r 32000 ESC-50-prathikrao/audio_32k/4-171652-A-44.wav\n",
      "sox ESC-50-prathikrao/audio/5-198411-D-20.wav-r 32000 ESC-50-prathikrao/audio_32k/5-198411-D-20.wav\n"
     ]
    },
    {
     "name": "stderr",
     "output_type": "stream",
     "text": [
      "sox WARN rate: rate clipped 4 samples; decrease volume?\n",
      "sox WARN dither: dither clipped 4 samples; decrease volume?\n"
     ]
    },
    {
     "name": "stdout",
     "output_type": "stream",
     "text": [
      "sox ESC-50-prathikrao/audio/2-109231-A-9.wav-r 32000 ESC-50-prathikrao/audio_32k/2-109231-A-9.wav\n",
      "sox ESC-50-prathikrao/audio/1-110537-A-22.wav-r 32000 ESC-50-prathikrao/audio_32k/1-110537-A-22.wav\n",
      "sox ESC-50-prathikrao/audio/5-214362-A-17.wav-r 32000 ESC-50-prathikrao/audio_32k/5-214362-A-17.wav\n"
     ]
    },
    {
     "name": "stderr",
     "output_type": "stream",
     "text": [
      "sox WARN rate: rate clipped 2559 samples; decrease volume?\n",
      "sox WARN dither: dither clipped 2239 samples; decrease volume?\n"
     ]
    },
    {
     "name": "stdout",
     "output_type": "stream",
     "text": [
      "sox ESC-50-prathikrao/audio/5-208030-A-0.wav-r 32000 ESC-50-prathikrao/audio_32k/5-208030-A-0.wav\n",
      "sox ESC-50-prathikrao/audio/4-143118-B-7.wav-r 32000 ESC-50-prathikrao/audio_32k/4-143118-B-7.wav\n",
      "sox ESC-50-prathikrao/audio/5-217186-C-16.wav-r 32000 ESC-50-prathikrao/audio_32k/5-217186-C-16.wav\n",
      "sox ESC-50-prathikrao/audio/2-85139-A-13.wav-r 32000 ESC-50-prathikrao/audio_32k/2-85139-A-13.wav\n",
      "sox ESC-50-prathikrao/audio/2-25292-A-22.wav-r 32000 ESC-50-prathikrao/audio_32k/2-25292-A-22.wav\n",
      "sox ESC-50-prathikrao/audio/1-52323-A-24.wav-r 32000 ESC-50-prathikrao/audio_32k/1-52323-A-24.wav\n"
     ]
    },
    {
     "name": "stderr",
     "output_type": "stream",
     "text": [
      "sox WARN rate: rate clipped 198 samples; decrease volume?\n",
      "sox WARN dither: dither clipped 171 samples; decrease volume?\n",
      "sox WARN rate: rate clipped 28 samples; decrease volume?\n",
      "sox WARN dither: dither clipped 27 samples; decrease volume?\n"
     ]
    },
    {
     "name": "stdout",
     "output_type": "stream",
     "text": [
      "sox ESC-50-prathikrao/audio/4-191297-A-28.wav-r 32000 ESC-50-prathikrao/audio_32k/4-191297-A-28.wav\n",
      "sox ESC-50-prathikrao/audio/3-151206-A-23.wav-r 32000 ESC-50-prathikrao/audio_32k/3-151206-A-23.wav\n",
      "sox ESC-50-prathikrao/audio/2-25293-A-22.wav-r 32000 ESC-50-prathikrao/audio_32k/2-25293-A-22.wav\n"
     ]
    },
    {
     "name": "stderr",
     "output_type": "stream",
     "text": [
      "sox WARN rate: rate clipped 85 samples; decrease volume?\n",
      "sox WARN dither: dither clipped 76 samples; decrease volume?\n",
      "sox WARN rate: rate clipped 118 samples; decrease volume?\n",
      "sox WARN dither: dither clipped 103 samples; decrease volume?\n"
     ]
    },
    {
     "name": "stdout",
     "output_type": "stream",
     "text": [
      "sox ESC-50-prathikrao/audio/5-177614-A-5.wav-r 32000 ESC-50-prathikrao/audio_32k/5-177614-A-5.wav\n",
      "sox ESC-50-prathikrao/audio/4-165823-A-41.wav-r 32000 ESC-50-prathikrao/audio_32k/4-165823-A-41.wav\n",
      "sox ESC-50-prathikrao/audio/4-121532-A-42.wav-r 32000 ESC-50-prathikrao/audio_32k/4-121532-A-42.wav\n",
      "sox ESC-50-prathikrao/audio/5-213293-A-23.wav-r 32000 ESC-50-prathikrao/audio_32k/5-213293-A-23.wav\n",
      "sox ESC-50-prathikrao/audio/2-104476-A-37.wav-r 32000 ESC-50-prathikrao/audio_32k/2-104476-A-37.wav\n",
      "sox ESC-50-prathikrao/audio/5-188365-A-36.wav-r 32000 ESC-50-prathikrao/audio_32k/5-188365-A-36.wav\n"
     ]
    },
    {
     "name": "stderr",
     "output_type": "stream",
     "text": [
      "sox WARN rate: rate clipped 21 samples; decrease volume?\n",
      "sox WARN dither: dither clipped 19 samples; decrease volume?\n"
     ]
    },
    {
     "name": "stdout",
     "output_type": "stream",
     "text": [
      "sox ESC-50-prathikrao/audio/2-109231-C-9.wav-r 32000 ESC-50-prathikrao/audio_32k/2-109231-C-9.wav\n",
      "sox ESC-50-prathikrao/audio/4-155670-A-26.wav-r 32000 ESC-50-prathikrao/audio_32k/4-155670-A-26.wav\n",
      "sox ESC-50-prathikrao/audio/3-51731-A-42.wav-r 32000 ESC-50-prathikrao/audio_32k/3-51731-A-42.wav\n",
      "sox ESC-50-prathikrao/audio/4-250869-C-2.wav-r 32000 ESC-50-prathikrao/audio_32k/4-250869-C-2.wav\n",
      "sox ESC-50-prathikrao/audio/3-197435-B-22.wav-r 32000 ESC-50-prathikrao/audio_32k/3-197435-B-22.wav\n",
      "sox ESC-50-prathikrao/audio/4-194979-A-25.wav-r 32000 ESC-50-prathikrao/audio_32k/4-194979-A-25.wav\n"
     ]
    },
    {
     "name": "stderr",
     "output_type": "stream",
     "text": [
      "sox WARN rate: rate clipped 32 samples; decrease volume?\n",
      "sox WARN dither: dither clipped 28 samples; decrease volume?\n",
      "sox WARN rate: rate clipped 2 samples; decrease volume?\n",
      "sox WARN dither: dither clipped 1 samples; decrease volume?\n"
     ]
    },
    {
     "name": "stdout",
     "output_type": "stream",
     "text": [
      "sox ESC-50-prathikrao/audio/1-17585-A-7.wav-r 32000 ESC-50-prathikrao/audio_32k/1-17585-A-7.wav\n",
      "sox ESC-50-prathikrao/audio/5-9032-A-0.wav-r 32000 ESC-50-prathikrao/audio_32k/5-9032-A-0.wav\n",
      "sox ESC-50-prathikrao/audio/3-58772-A-42.wav-r 32000 ESC-50-prathikrao/audio_32k/3-58772-A-42.wav\n",
      "sox ESC-50-prathikrao/audio/2-106015-B-44.wav-r 32000 ESC-50-prathikrao/audio_32k/2-106015-B-44.wav\n",
      "sox ESC-50-prathikrao/audio/2-102414-A-17.wav-r 32000 ESC-50-prathikrao/audio_32k/2-102414-A-17.wav\n",
      "sox ESC-50-prathikrao/audio/3-161500-A-17.wav-r 32000 ESC-50-prathikrao/audio_32k/3-161500-A-17.wav\n",
      "sox ESC-50-prathikrao/audio/5-207836-B-29.wav-r 32000 ESC-50-prathikrao/audio_32k/5-207836-B-29.wav\n",
      "sox ESC-50-prathikrao/audio/2-99795-A-32.wav-r 32000 ESC-50-prathikrao/audio_32k/2-99795-A-32.wav\n",
      "sox ESC-50-prathikrao/audio/2-95035-A-1.wav-r 32000 ESC-50-prathikrao/audio_32k/2-95035-A-1.wav\n",
      "sox ESC-50-prathikrao/audio/1-29680-A-21.wav-r 32000 ESC-50-prathikrao/audio_32k/1-29680-A-21.wav\n",
      "sox ESC-50-prathikrao/audio/2-158746-B-2.wav-r 32000 ESC-50-prathikrao/audio_32k/2-158746-B-2.wav\n",
      "sox ESC-50-prathikrao/audio/3-171281-A-6.wav-r 32000 ESC-50-prathikrao/audio_32k/3-171281-A-6.wav\n"
     ]
    },
    {
     "name": "stderr",
     "output_type": "stream",
     "text": [
      "sox WARN rate: rate clipped 1452 samples; decrease volume?\n",
      "sox WARN dither: dither clipped 1289 samples; decrease volume?\n",
      "sox WARN rate: rate clipped 50 samples; decrease volume?\n",
      "sox WARN dither: dither clipped 46 samples; decrease volume?\n"
     ]
    },
    {
     "name": "stdout",
     "output_type": "stream",
     "text": [
      "sox ESC-50-prathikrao/audio/4-159609-A-14.wav-r 32000 ESC-50-prathikrao/audio_32k/4-159609-A-14.wav\n",
      "sox ESC-50-prathikrao/audio/5-222524-A-41.wav-r 32000 ESC-50-prathikrao/audio_32k/5-222524-A-41.wav\n",
      "sox ESC-50-prathikrao/audio/5-216370-B-41.wav-r 32000 ESC-50-prathikrao/audio_32k/5-216370-B-41.wav\n",
      "sox ESC-50-prathikrao/audio/1-85184-A-39.wav-r 32000 ESC-50-prathikrao/audio_32k/1-85184-A-39.wav\n",
      "sox ESC-50-prathikrao/audio/3-197408-B-8.wav-r 32000 ESC-50-prathikrao/audio_32k/3-197408-B-8.wav\n",
      "sox ESC-50-prathikrao/audio/5-240671-A-44.wav-r 32000 ESC-50-prathikrao/audio_32k/5-240671-A-44.wav\n"
     ]
    },
    {
     "name": "stderr",
     "output_type": "stream",
     "text": [
      "sox WARN rate: rate clipped 89 samples; decrease volume?\n",
      "sox WARN dither: dither clipped 80 samples; decrease volume?\n",
      "sox WARN rate: rate clipped 1831 samples; decrease volume?\n",
      "sox WARN dither: dither clipped 1616 samples; decrease volume?\n"
     ]
    },
    {
     "name": "stdout",
     "output_type": "stream",
     "text": [
      "sox ESC-50-prathikrao/audio/5-213855-A-0.wav-r 32000 ESC-50-prathikrao/audio_32k/5-213855-A-0.wav\n",
      "sox ESC-50-prathikrao/audio/4-188703-A-8.wav-r 32000 ESC-50-prathikrao/audio_32k/4-188703-A-8.wav\n",
      "sox ESC-50-prathikrao/audio/1-79113-A-5.wav-r 32000 ESC-50-prathikrao/audio_32k/1-79113-A-5.wav\n"
     ]
    },
    {
     "name": "stderr",
     "output_type": "stream",
     "text": [
      "sox WARN rate: rate clipped 31 samples; decrease volume?\n",
      "sox WARN dither: dither clipped 38 samples; decrease volume?\n"
     ]
    },
    {
     "name": "stdout",
     "output_type": "stream",
     "text": [
      "sox ESC-50-prathikrao/audio/3-185456-A-29.wav-r 32000 ESC-50-prathikrao/audio_32k/3-185456-A-29.wav\n",
      "sox ESC-50-prathikrao/audio/1-81851-A-31.wav-r 32000 ESC-50-prathikrao/audio_32k/1-81851-A-31.wav\n",
      "sox ESC-50-prathikrao/audio/1-60997-B-20.wav-r 32000 ESC-50-prathikrao/audio_32k/1-60997-B-20.wav\n",
      "sox ESC-50-prathikrao/audio/1-155858-C-25.wav-r 32000 ESC-50-prathikrao/audio_32k/1-155858-C-25.wav\n",
      "sox ESC-50-prathikrao/audio/2-205966-A-16.wav-r 32000 ESC-50-prathikrao/audio_32k/2-205966-A-16.wav\n",
      "sox ESC-50-prathikrao/audio/4-164064-A-1.wav-r 32000 ESC-50-prathikrao/audio_32k/4-164064-A-1.wav\n"
     ]
    },
    {
     "name": "stderr",
     "output_type": "stream",
     "text": [
      "sox WARN rate: rate clipped 5 samples; decrease volume?\n",
      "sox WARN dither: dither clipped 4 samples; decrease volume?\n",
      "sox WARN rate: rate clipped 1 samples; decrease volume?\n"
     ]
    },
    {
     "name": "stdout",
     "output_type": "stream",
     "text": [
      "sox ESC-50-prathikrao/audio/5-210612-A-37.wav-r 32000 ESC-50-prathikrao/audio_32k/5-210612-A-37.wav\n",
      "sox ESC-50-prathikrao/audio/1-160563-B-48.wav-r 32000 ESC-50-prathikrao/audio_32k/1-160563-B-48.wav\n",
      "sox ESC-50-prathikrao/audio/3-124925-A-9.wav-r 32000 ESC-50-prathikrao/audio_32k/3-124925-A-9.wav\n"
     ]
    },
    {
     "name": "stderr",
     "output_type": "stream",
     "text": [
      "sox WARN rate: rate clipped 1 samples; decrease volume?\n",
      "sox WARN dither: dither clipped 1 samples; decrease volume?\n"
     ]
    },
    {
     "name": "stdout",
     "output_type": "stream",
     "text": [
      "sox ESC-50-prathikrao/audio/3-119120-D-48.wav-r 32000 ESC-50-prathikrao/audio_32k/3-119120-D-48.wav\n",
      "sox ESC-50-prathikrao/audio/5-182404-A-18.wav-r 32000 ESC-50-prathikrao/audio_32k/5-182404-A-18.wav\n",
      "sox ESC-50-prathikrao/audio/5-182007-A-36.wav-r 32000 ESC-50-prathikrao/audio_32k/5-182007-A-36.wav\n"
     ]
    },
    {
     "name": "stderr",
     "output_type": "stream",
     "text": [
      "sox WARN rate: rate clipped 194 samples; decrease volume?\n",
      "sox WARN dither: dither clipped 169 samples; decrease volume?\n",
      "sox WARN rate: rate clipped 5 samples; decrease volume?\n",
      "sox WARN dither: dither clipped 4 samples; decrease volume?\n"
     ]
    },
    {
     "name": "stdout",
     "output_type": "stream",
     "text": [
      "sox ESC-50-prathikrao/audio/4-179984-A-38.wav-r 32000 ESC-50-prathikrao/audio_32k/4-179984-A-38.wav\n",
      "sox ESC-50-prathikrao/audio/5-235893-A-28.wav-r 32000 ESC-50-prathikrao/audio_32k/5-235893-A-28.wav\n",
      "sox ESC-50-prathikrao/audio/whistle12.wav-r 32000 ESC-50-prathikrao/audio_32k/whistle12.wav\n",
      "sox ESC-50-prathikrao/audio/3-110913-C-7.wav-r 32000 ESC-50-prathikrao/audio_32k/3-110913-C-7.wav\n",
      "sox ESC-50-prathikrao/audio/4-196671-A-8.wav-r 32000 ESC-50-prathikrao/audio_32k/4-196671-A-8.wav\n",
      "sox ESC-50-prathikrao/audio/2-102567-B-35.wav-r 32000 ESC-50-prathikrao/audio_32k/2-102567-B-35.wav\n",
      "sox ESC-50-prathikrao/audio/4-107122-A-33.wav-r 32000 ESC-50-prathikrao/audio_32k/4-107122-A-33.wav\n",
      "sox ESC-50-prathikrao/audio/1-85362-A-0.wav-r 32000 ESC-50-prathikrao/audio_32k/1-85362-A-0.wav\n",
      "sox ESC-50-prathikrao/audio/1-181071-B-40.wav-r 32000 ESC-50-prathikrao/audio_32k/1-181071-B-40.wav\n",
      "sox ESC-50-prathikrao/audio/4-171823-A-13.wav-r 32000 ESC-50-prathikrao/audio_32k/4-171823-A-13.wav\n",
      "sox ESC-50-prathikrao/audio/4-132810-A-26.wav-r 32000 ESC-50-prathikrao/audio_32k/4-132810-A-26.wav\n",
      "sox ESC-50-prathikrao/audio/3-154378-A-30.wav-r 32000 ESC-50-prathikrao/audio_32k/3-154378-A-30.wav\n"
     ]
    },
    {
     "name": "stderr",
     "output_type": "stream",
     "text": [
      "sox WARN rate: rate clipped 14 samples; decrease volume?\n",
      "sox WARN dither: dither clipped 13 samples; decrease volume?\n"
     ]
    },
    {
     "name": "stdout",
     "output_type": "stream",
     "text": [
      "sox ESC-50-prathikrao/audio/5-188655-A-10.wav-r 32000 ESC-50-prathikrao/audio_32k/5-188655-A-10.wav\n",
      "sox ESC-50-prathikrao/audio/5-133989-A-42.wav-r 32000 ESC-50-prathikrao/audio_32k/5-133989-A-42.wav\n",
      "sox ESC-50-prathikrao/audio/whistle13.wav-r 32000 ESC-50-prathikrao/audio_32k/whistle13.wav\n"
     ]
    },
    {
     "name": "stderr",
     "output_type": "stream",
     "text": [
      "sox WARN rate: rate clipped 2 samples; decrease volume?\n",
      "sox WARN dither: dither clipped 1 samples; decrease volume?\n",
      "sox WARN rate: rate clipped 2 samples; decrease volume?\n",
      "sox WARN dither: dither clipped 2 samples; decrease volume?\n",
      "sox WARN rate: rate clipped 7 samples; decrease volume?\n",
      "sox WARN dither: dither clipped 6 samples; decrease volume?\n"
     ]
    },
    {
     "name": "stdout",
     "output_type": "stream",
     "text": [
      "sox ESC-50-prathikrao/audio/4-119648-C-48.wav-r 32000 ESC-50-prathikrao/audio_32k/4-119648-C-48.wav\n",
      "sox ESC-50-prathikrao/audio/5-251426-A-30.wav-r 32000 ESC-50-prathikrao/audio_32k/5-251426-A-30.wav\n",
      "sox ESC-50-prathikrao/audio/1-84393-A-32.wav-r 32000 ESC-50-prathikrao/audio_32k/1-84393-A-32.wav\n"
     ]
    },
    {
     "name": "stderr",
     "output_type": "stream",
     "text": [
      "sox WARN rate: rate clipped 51 samples; decrease volume?\n",
      "sox WARN dither: dither clipped 60 samples; decrease volume?\n"
     ]
    },
    {
     "name": "stdout",
     "output_type": "stream",
     "text": [
      "sox ESC-50-prathikrao/audio/1-38559-A-14.wav-r 32000 ESC-50-prathikrao/audio_32k/1-38559-A-14.wav\n",
      "sox ESC-50-prathikrao/audio/1-116765-A-41.wav-r 32000 ESC-50-prathikrao/audio_32k/1-116765-A-41.wav\n",
      "sox ESC-50-prathikrao/audio/1-977-A-39.wav-r 32000 ESC-50-prathikrao/audio_32k/1-977-A-39.wav\n",
      "sox ESC-50-prathikrao/audio/1-76831-C-42.wav-r 32000 ESC-50-prathikrao/audio_32k/1-76831-C-42.wav\n",
      "sox ESC-50-prathikrao/audio/2-114609-A-28.wav-r 32000 ESC-50-prathikrao/audio_32k/2-114609-A-28.wav\n",
      "sox ESC-50-prathikrao/audio/2-153388-A-31.wav-r 32000 ESC-50-prathikrao/audio_32k/2-153388-A-31.wav\n"
     ]
    },
    {
     "name": "stderr",
     "output_type": "stream",
     "text": [
      "sox WARN rate: rate clipped 11 samples; decrease volume?\n",
      "sox WARN dither: dither clipped 10 samples; decrease volume?\n",
      "sox WARN rate: rate clipped 11 samples; decrease volume?\n",
      "sox WARN dither: dither clipped 10 samples; decrease volume?\n"
     ]
    },
    {
     "name": "stdout",
     "output_type": "stream",
     "text": [
      "sox ESC-50-prathikrao/audio/1-18074-B-6.wav-r 32000 ESC-50-prathikrao/audio_32k/1-18074-B-6.wav\n",
      "sox ESC-50-prathikrao/audio/3-116135-A-1.wav-r 32000 ESC-50-prathikrao/audio_32k/3-116135-A-1.wav\n",
      "sox ESC-50-prathikrao/audio/4-182395-A-0.wav-r 32000 ESC-50-prathikrao/audio_32k/4-182395-A-0.wav\n"
     ]
    },
    {
     "name": "stderr",
     "output_type": "stream",
     "text": [
      "sox WARN rate: rate clipped 310 samples; decrease volume?\n",
      "sox WARN dither: dither clipped 260 samples; decrease volume?\n"
     ]
    },
    {
     "name": "stdout",
     "output_type": "stream",
     "text": [
      "sox ESC-50-prathikrao/audio/4-188191-B-29.wav-r 32000 ESC-50-prathikrao/audio_32k/4-188191-B-29.wav\n",
      "sox ESC-50-prathikrao/audio/3-152912-A-26.wav-r 32000 ESC-50-prathikrao/audio_32k/3-152912-A-26.wav\n",
      "sox ESC-50-prathikrao/audio/3-126391-B-27.wav-r 32000 ESC-50-prathikrao/audio_32k/3-126391-B-27.wav\n"
     ]
    },
    {
     "name": "stderr",
     "output_type": "stream",
     "text": [
      "sox WARN rate: rate clipped 387 samples; decrease volume?\n",
      "sox WARN dither: dither clipped 344 samples; decrease volume?\n",
      "sox WARN rate: rate clipped 149 samples; decrease volume?\n",
      "sox WARN dither: dither clipped 122 samples; decrease volume?\n"
     ]
    },
    {
     "name": "stdout",
     "output_type": "stream",
     "text": [
      "sox ESC-50-prathikrao/audio/5-263775-B-26.wav-r 32000 ESC-50-prathikrao/audio_32k/5-263775-B-26.wav\n",
      "sox ESC-50-prathikrao/audio/2-99955-B-7.wav-r 32000 ESC-50-prathikrao/audio_32k/2-99955-B-7.wav\n",
      "sox ESC-50-prathikrao/audio/2-94230-A-27.wav-r 32000 ESC-50-prathikrao/audio_32k/2-94230-A-27.wav\n",
      "sox ESC-50-prathikrao/audio/1-58923-A-27.wav-r 32000 ESC-50-prathikrao/audio_32k/1-58923-A-27.wav\n",
      "sox ESC-50-prathikrao/audio/3-127890-B-9.wav-r 32000 ESC-50-prathikrao/audio_32k/3-127890-B-9.wav\n",
      "sox ESC-50-prathikrao/audio/1-23222-A-19.wav-r 32000 ESC-50-prathikrao/audio_32k/1-23222-A-19.wav\n"
     ]
    },
    {
     "name": "stderr",
     "output_type": "stream",
     "text": [
      "sox WARN rate: rate clipped 12 samples; decrease volume?\n",
      "sox WARN dither: dither clipped 12 samples; decrease volume?\n",
      "sox WARN rate: rate clipped 37 samples; decrease volume?\n",
      "sox WARN dither: dither clipped 31 samples; decrease volume?\n"
     ]
    },
    {
     "name": "stdout",
     "output_type": "stream",
     "text": [
      "sox ESC-50-prathikrao/audio/2-76408-D-22.wav-r 32000 ESC-50-prathikrao/audio_32k/2-76408-D-22.wav\n",
      "sox ESC-50-prathikrao/audio/5-179496-B-16.wav-r 32000 ESC-50-prathikrao/audio_32k/5-179496-B-16.wav\n",
      "sox ESC-50-prathikrao/audio/4-119647-D-48.wav-r 32000 ESC-50-prathikrao/audio_32k/4-119647-D-48.wav\n"
     ]
    },
    {
     "name": "stderr",
     "output_type": "stream",
     "text": [
      "sox WARN rate: rate clipped 66 samples; decrease volume?\n",
      "sox WARN dither: dither clipped 59 samples; decrease volume?\n",
      "sox WARN rate: rate clipped 23 samples; decrease volume?\n",
      "sox WARN dither: dither clipped 21 samples; decrease volume?\n",
      "sox WARN rate: rate clipped 1 samples; decrease volume?\n",
      "sox WARN dither: dither clipped 1 samples; decrease volume?\n"
     ]
    },
    {
     "name": "stdout",
     "output_type": "stream",
     "text": [
      "sox ESC-50-prathikrao/audio/4-198360-A-49.wav-r 32000 ESC-50-prathikrao/audio_32k/4-198360-A-49.wav\n",
      "sox ESC-50-prathikrao/audio/5-187979-A-21.wav-r 32000 ESC-50-prathikrao/audio_32k/5-187979-A-21.wav\n",
      "sox ESC-50-prathikrao/audio/1-40730-A-1.wav-r 32000 ESC-50-prathikrao/audio_32k/1-40730-A-1.wav\n",
      "sox ESC-50-prathikrao/audio/2-131943-A-38.wav-r 32000 ESC-50-prathikrao/audio_32k/2-131943-A-38.wav\n",
      "sox ESC-50-prathikrao/audio/1-51805-G-33.wav-r 32000 ESC-50-prathikrao/audio_32k/1-51805-G-33.wav\n",
      "sox ESC-50-prathikrao/audio/4-161100-A-47.wav-r 32000 ESC-50-prathikrao/audio_32k/4-161100-A-47.wav\n"
     ]
    },
    {
     "name": "stderr",
     "output_type": "stream",
     "text": [
      "sox WARN rate: rate clipped 3696 samples; decrease volume?\n",
      "sox WARN dither: dither clipped 3250 samples; decrease volume?\n"
     ]
    },
    {
     "name": "stdout",
     "output_type": "stream",
     "text": [
      "sox ESC-50-prathikrao/audio/1-90797-A-15.wav-r 32000 ESC-50-prathikrao/audio_32k/1-90797-A-15.wav\n",
      "sox ESC-50-prathikrao/audio/3-152007-C-20.wav-r 32000 ESC-50-prathikrao/audio_32k/3-152007-C-20.wav\n",
      "sox ESC-50-prathikrao/audio/5-232816-A-23.wav-r 32000 ESC-50-prathikrao/audio_32k/5-232816-A-23.wav\n",
      "sox ESC-50-prathikrao/audio/3-164120-A-11.wav-r 32000 ESC-50-prathikrao/audio_32k/3-164120-A-11.wav\n",
      "sox ESC-50-prathikrao/audio/1-172649-D-40.wav-r 32000 ESC-50-prathikrao/audio_32k/1-172649-D-40.wav\n",
      "sox ESC-50-prathikrao/audio/1-101296-B-19.wav-r 32000 ESC-50-prathikrao/audio_32k/1-101296-B-19.wav\n",
      "sox ESC-50-prathikrao/audio/3-159445-A-45.wav-r 32000 ESC-50-prathikrao/audio_32k/3-159445-A-45.wav\n",
      "sox ESC-50-prathikrao/audio/1-57163-A-38.wav-r 32000 ESC-50-prathikrao/audio_32k/1-57163-A-38.wav\n",
      "sox ESC-50-prathikrao/audio/1-19872-A-36.wav-r 32000 ESC-50-prathikrao/audio_32k/1-19872-A-36.wav\n"
     ]
    },
    {
     "name": "stderr",
     "output_type": "stream",
     "text": [
      "sox WARN rate: rate clipped 173 samples; decrease volume?\n",
      "sox WARN dither: dither clipped 149 samples; decrease volume?\n"
     ]
    },
    {
     "name": "stdout",
     "output_type": "stream",
     "text": [
      "sox ESC-50-prathikrao/audio/1-62850-A-38.wav-r 32000 ESC-50-prathikrao/audio_32k/1-62850-A-38.wav\n",
      "sox ESC-50-prathikrao/audio/1-100210-B-36.wav-r 32000 ESC-50-prathikrao/audio_32k/1-100210-B-36.wav\n",
      "sox ESC-50-prathikrao/audio/2-106849-A-47.wav-r 32000 ESC-50-prathikrao/audio_32k/2-106849-A-47.wav\n"
     ]
    },
    {
     "name": "stderr",
     "output_type": "stream",
     "text": [
      "sox WARN rate: rate clipped 12 samples; decrease volume?\n",
      "sox WARN dither: dither clipped 9 samples; decrease volume?\n",
      "sox WARN rate: rate clipped 14 samples; decrease volume?\n",
      "sox WARN dither: dither clipped 13 samples; decrease volume?\n"
     ]
    },
    {
     "name": "stdout",
     "output_type": "stream",
     "text": [
      "sox ESC-50-prathikrao/audio/4-176914-A-23.wav-r 32000 ESC-50-prathikrao/audio_32k/4-176914-A-23.wav\n",
      "sox ESC-50-prathikrao/audio/2-250710-A-39.wav-r 32000 ESC-50-prathikrao/audio_32k/2-250710-A-39.wav\n",
      "sox ESC-50-prathikrao/audio/3-144128-B-23.wav-r 32000 ESC-50-prathikrao/audio_32k/3-144128-B-23.wav\n"
     ]
    },
    {
     "name": "stderr",
     "output_type": "stream",
     "text": [
      "sox WARN rate: rate clipped 8 samples; decrease volume?\n",
      "sox WARN dither: dither clipped 7 samples; decrease volume?\n",
      "sox WARN rate: rate clipped 3 samples; decrease volume?\n",
      "sox WARN dither: dither clipped 3 samples; decrease volume?\n"
     ]
    },
    {
     "name": "stdout",
     "output_type": "stream",
     "text": [
      "sox ESC-50-prathikrao/audio/3-253084-A-2.wav-r 32000 ESC-50-prathikrao/audio_32k/3-253084-A-2.wav\n",
      "sox ESC-50-prathikrao/audio/4-183882-A-28.wav-r 32000 ESC-50-prathikrao/audio_32k/4-183882-A-28.wav\n",
      "sox ESC-50-prathikrao/audio/2-122616-A-14.wav-r 32000 ESC-50-prathikrao/audio_32k/2-122616-A-14.wav\n",
      "sox ESC-50-prathikrao/audio/2-65484-A-18.wav-r 32000 ESC-50-prathikrao/audio_32k/2-65484-A-18.wav\n",
      "sox ESC-50-prathikrao/audio/4-160999-A-10.wav-r 32000 ESC-50-prathikrao/audio_32k/4-160999-A-10.wav\n",
      "sox ESC-50-prathikrao/audio/3-144827-A-11.wav-r 32000 ESC-50-prathikrao/audio_32k/3-144827-A-11.wav\n",
      "sox ESC-50-prathikrao/audio/3-100024-A-27.wav-r 32000 ESC-50-prathikrao/audio_32k/3-100024-A-27.wav\n",
      "sox ESC-50-prathikrao/audio/1-46938-A-7.wav-r 32000 ESC-50-prathikrao/audio_32k/1-46938-A-7.wav\n",
      "sox ESC-50-prathikrao/audio/3-119120-A-48.wav-r 32000 ESC-50-prathikrao/audio_32k/3-119120-A-48.wav\n",
      "sox ESC-50-prathikrao/audio/3-156907-A-15.wav-r 32000 ESC-50-prathikrao/audio_32k/3-156907-A-15.wav\n",
      "sox ESC-50-prathikrao/audio/1-27724-A-1.wav-r 32000 ESC-50-prathikrao/audio_32k/1-27724-A-1.wav\n",
      "sox ESC-50-prathikrao/audio/5-238021-A-35.wav-r 32000 ESC-50-prathikrao/audio_32k/5-238021-A-35.wav\n",
      "sox ESC-50-prathikrao/audio/3-144259-A-29.wav-r 32000 ESC-50-prathikrao/audio_32k/3-144259-A-29.wav\n",
      "sox ESC-50-prathikrao/audio/5-172299-A-5.wav-r 32000 ESC-50-prathikrao/audio_32k/5-172299-A-5.wav\n",
      "sox ESC-50-prathikrao/audio/5-213836-A-9.wav-r 32000 ESC-50-prathikrao/audio_32k/5-213836-A-9.wav\n"
     ]
    },
    {
     "name": "stderr",
     "output_type": "stream",
     "text": [
      "sox WARN rate: rate clipped 1022 samples; decrease volume?\n",
      "sox WARN dither: dither clipped 894 samples; decrease volume?\n"
     ]
    },
    {
     "name": "stdout",
     "output_type": "stream",
     "text": [
      "sox ESC-50-prathikrao/audio/1-39923-A-1.wav-r 32000 ESC-50-prathikrao/audio_32k/1-39923-A-1.wav\n",
      "sox ESC-50-prathikrao/audio/2-209471-A-25.wav-r 32000 ESC-50-prathikrao/audio_32k/2-209471-A-25.wav\n",
      "sox ESC-50-prathikrao/audio/5-219379-A-11.wav-r 32000 ESC-50-prathikrao/audio_32k/5-219379-A-11.wav\n"
     ]
    },
    {
     "name": "stderr",
     "output_type": "stream",
     "text": [
      "sox WARN rate: rate clipped 2 samples; decrease volume?\n",
      "sox WARN dither: dither clipped 2 samples; decrease volume?\n",
      "sox WARN rate: rate clipped 6 samples; decrease volume?\n",
      "sox WARN dither: dither clipped 4 samples; decrease volume?\n"
     ]
    },
    {
     "name": "stdout",
     "output_type": "stream",
     "text": [
      "sox ESC-50-prathikrao/audio/1-24076-A-43.wav-r 32000 ESC-50-prathikrao/audio_32k/1-24076-A-43.wav\n",
      "sox ESC-50-prathikrao/audio/3-121348-A-9.wav-r 32000 ESC-50-prathikrao/audio_32k/3-121348-A-9.wav\n",
      "sox ESC-50-prathikrao/audio/3-257858-A-2.wav-r 32000 ESC-50-prathikrao/audio_32k/3-257858-A-2.wav\n"
     ]
    },
    {
     "name": "stderr",
     "output_type": "stream",
     "text": [
      "sox WARN rate: rate clipped 112 samples; decrease volume?\n",
      "sox WARN dither: dither clipped 106 samples; decrease volume?\n",
      "sox WARN rate: rate clipped 57 samples; decrease volume?\n",
      "sox WARN dither: dither clipped 52 samples; decrease volume?\n"
     ]
    },
    {
     "name": "stdout",
     "output_type": "stream",
     "text": [
      "sox ESC-50-prathikrao/audio/5-212736-A-17.wav-r 32000 ESC-50-prathikrao/audio_32k/5-212736-A-17.wav\n",
      "sox ESC-50-prathikrao/audio/4-144085-A-16.wav-r 32000 ESC-50-prathikrao/audio_32k/4-144085-A-16.wav\n",
      "sox ESC-50-prathikrao/audio/2-83688-A-34.wav-r 32000 ESC-50-prathikrao/audio_32k/2-83688-A-34.wav\n"
     ]
    },
    {
     "name": "stderr",
     "output_type": "stream",
     "text": [
      "sox WARN rate: rate clipped 29 samples; decrease volume?\n",
      "sox WARN dither: dither clipped 26 samples; decrease volume?\n",
      "sox WARN rate: rate clipped 7 samples; decrease volume?\n",
      "sox WARN dither: dither clipped 7 samples; decrease volume?\n"
     ]
    },
    {
     "name": "stdout",
     "output_type": "stream",
     "text": [
      "sox ESC-50-prathikrao/audio/4-156227-A-9.wav-r 32000 ESC-50-prathikrao/audio_32k/4-156227-A-9.wav\n",
      "sox ESC-50-prathikrao/audio/5-117118-A-42.wav-r 32000 ESC-50-prathikrao/audio_32k/5-117118-A-42.wav\n",
      "sox ESC-50-prathikrao/audio/2-109371-B-16.wav-r 32000 ESC-50-prathikrao/audio_32k/2-109371-B-16.wav\n"
     ]
    },
    {
     "name": "stderr",
     "output_type": "stream",
     "text": [
      "sox WARN rate: rate clipped 25 samples; decrease volume?\n",
      "sox WARN dither: dither clipped 31 samples; decrease volume?\n"
     ]
    },
    {
     "name": "stdout",
     "output_type": "stream",
     "text": [
      "sox ESC-50-prathikrao/audio/4-213915-B-3.wav-r 32000 ESC-50-prathikrao/audio_32k/4-213915-B-3.wav\n",
      "sox ESC-50-prathikrao/audio/1-155858-F-25.wav-r 32000 ESC-50-prathikrao/audio_32k/1-155858-F-25.wav\n",
      "sox ESC-50-prathikrao/audio/1-34853-A-37.wav-r 32000 ESC-50-prathikrao/audio_32k/1-34853-A-37.wav\n",
      "sox ESC-50-prathikrao/audio/4-172180-A-32.wav-r 32000 ESC-50-prathikrao/audio_32k/4-172180-A-32.wav\n",
      "sox ESC-50-prathikrao/audio/2-166644-C-2.wav-r 32000 ESC-50-prathikrao/audio_32k/2-166644-C-2.wav\n",
      "sox ESC-50-prathikrao/audio/5-207681-A-24.wav-r 32000 ESC-50-prathikrao/audio_32k/5-207681-A-24.wav\n"
     ]
    },
    {
     "name": "stderr",
     "output_type": "stream",
     "text": [
      "sox WARN rate: rate clipped 49 samples; decrease volume?\n",
      "sox WARN dither: dither clipped 43 samples; decrease volume?\n",
      "sox WARN rate: rate clipped 361 samples; decrease volume?\n",
      "sox WARN dither: dither clipped 320 samples; decrease volume?\n"
     ]
    },
    {
     "name": "stdout",
     "output_type": "stream",
     "text": [
      "sox ESC-50-prathikrao/audio/5-177034-A-18.wav-r 32000 ESC-50-prathikrao/audio_32k/5-177034-A-18.wav\n",
      "sox ESC-50-prathikrao/audio/3-102583-B-49.wav-r 32000 ESC-50-prathikrao/audio_32k/3-102583-B-49.wav\n",
      "sox ESC-50-prathikrao/audio/4-171706-A-23.wav-r 32000 ESC-50-prathikrao/audio_32k/4-171706-A-23.wav\n"
     ]
    },
    {
     "name": "stderr",
     "output_type": "stream",
     "text": [
      "sox WARN rate: rate clipped 79 samples; decrease volume?\n",
      "sox WARN dither: dither clipped 66 samples; decrease volume?\n",
      "sox WARN rate: rate clipped 4 samples; decrease volume?\n",
      "sox WARN dither: dither clipped 2 samples; decrease volume?\n"
     ]
    },
    {
     "name": "stdout",
     "output_type": "stream",
     "text": [
      "sox ESC-50-prathikrao/audio/5-127990-A-2.wav-r 32000 ESC-50-prathikrao/audio_32k/5-127990-A-2.wav\n",
      "sox ESC-50-prathikrao/audio/5-243783-A-44.wav-r 32000 ESC-50-prathikrao/audio_32k/5-243783-A-44.wav\n",
      "sox ESC-50-prathikrao/audio/3-101381-A-33.wav-r 32000 ESC-50-prathikrao/audio_32k/3-101381-A-33.wav\n",
      "sox ESC-50-prathikrao/audio/2-43802-A-42.wav-r 32000 ESC-50-prathikrao/audio_32k/2-43802-A-42.wav\n",
      "sox ESC-50-prathikrao/audio/3-172881-A-48.wav-r 32000 ESC-50-prathikrao/audio_32k/3-172881-A-48.wav\n",
      "sox ESC-50-prathikrao/audio/4-165791-A-45.wav-r 32000 ESC-50-prathikrao/audio_32k/4-165791-A-45.wav\n"
     ]
    },
    {
     "name": "stderr",
     "output_type": "stream",
     "text": [
      "sox WARN rate: rate clipped 12 samples; decrease volume?\n",
      "sox WARN dither: dither clipped 11 samples; decrease volume?\n",
      "sox WARN rate: rate clipped 4 samples; decrease volume?\n",
      "sox WARN dither: dither clipped 4 samples; decrease volume?\n"
     ]
    },
    {
     "name": "stdout",
     "output_type": "stream",
     "text": [
      "sox ESC-50-prathikrao/audio/5-238492-A-23.wav-r 32000 ESC-50-prathikrao/audio_32k/5-238492-A-23.wav\n",
      "sox ESC-50-prathikrao/audio/4-168446-A-45.wav-r 32000 ESC-50-prathikrao/audio_32k/4-168446-A-45.wav\n",
      "sox ESC-50-prathikrao/audio/1-187207-A-20.wav-r 32000 ESC-50-prathikrao/audio_32k/1-187207-A-20.wav\n"
     ]
    },
    {
     "name": "stderr",
     "output_type": "stream",
     "text": [
      "sox WARN rate: rate clipped 397 samples; decrease volume?\n",
      "sox WARN dither: dither clipped 367 samples; decrease volume?\n",
      "sox WARN rate: rate clipped 55 samples; decrease volume?\n",
      "sox WARN dither: dither clipped 43 samples; decrease volume?\n"
     ]
    },
    {
     "name": "stdout",
     "output_type": "stream",
     "text": [
      "sox ESC-50-prathikrao/audio/2-135649-B-45.wav-r 32000 ESC-50-prathikrao/audio_32k/2-135649-B-45.wav\n",
      "sox ESC-50-prathikrao/audio/2-182508-B-8.wav-r 32000 ESC-50-prathikrao/audio_32k/2-182508-B-8.wav\n",
      "sox ESC-50-prathikrao/audio/3-187549-B-6.wav-r 32000 ESC-50-prathikrao/audio_32k/3-187549-B-6.wav\n"
     ]
    },
    {
     "name": "stderr",
     "output_type": "stream",
     "text": [
      "sox WARN rate: rate clipped 534 samples; decrease volume?\n",
      "sox WARN dither: dither clipped 470 samples; decrease volume?\n"
     ]
    },
    {
     "name": "stdout",
     "output_type": "stream",
     "text": [
      "sox ESC-50-prathikrao/audio/3-132852-A-10.wav-r 32000 ESC-50-prathikrao/audio_32k/3-132852-A-10.wav\n",
      "sox ESC-50-prathikrao/audio/2-96654-A-47.wav-r 32000 ESC-50-prathikrao/audio_32k/2-96654-A-47.wav\n",
      "sox ESC-50-prathikrao/audio/4-181362-A-13.wav-r 32000 ESC-50-prathikrao/audio_32k/4-181362-A-13.wav\n",
      "sox ESC-50-prathikrao/audio/5-180229-A-27.wav-r 32000 ESC-50-prathikrao/audio_32k/5-180229-A-27.wav\n",
      "sox ESC-50-prathikrao/audio/2-92627-A-27.wav-r 32000 ESC-50-prathikrao/audio_32k/2-92627-A-27.wav\n",
      "sox ESC-50-prathikrao/audio/2-141681-B-36.wav-r 32000 ESC-50-prathikrao/audio_32k/2-141681-B-36.wav\n",
      "sox ESC-50-prathikrao/audio/3-70962-A-4.wav-r 32000 ESC-50-prathikrao/audio_32k/3-70962-A-4.wav\n",
      "sox ESC-50-prathikrao/audio/3-151557-B-28.wav-r 32000 ESC-50-prathikrao/audio_32k/3-151557-B-28.wav\n",
      "sox ESC-50-prathikrao/audio/5-242491-A-14.wav-r 32000 ESC-50-prathikrao/audio_32k/5-242491-A-14.wav\n"
     ]
    },
    {
     "name": "stderr",
     "output_type": "stream",
     "text": [
      "sox WARN rate: rate clipped 15 samples; decrease volume?\n",
      "sox WARN dither: dither clipped 15 samples; decrease volume?\n"
     ]
    },
    {
     "name": "stdout",
     "output_type": "stream",
     "text": [
      "sox ESC-50-prathikrao/audio/2-39443-A-19.wav-r 32000 ESC-50-prathikrao/audio_32k/2-39443-A-19.wav\n",
      "sox ESC-50-prathikrao/audio/5-242490-A-14.wav-r 32000 ESC-50-prathikrao/audio_32k/5-242490-A-14.wav\n",
      "sox ESC-50-prathikrao/audio/2-75726-A-6.wav-r 32000 ESC-50-prathikrao/audio_32k/2-75726-A-6.wav\n"
     ]
    },
    {
     "name": "stderr",
     "output_type": "stream",
     "text": [
      "sox WARN rate: rate clipped 227 samples; decrease volume?\n",
      "sox WARN dither: dither clipped 195 samples; decrease volume?\n"
     ]
    },
    {
     "name": "stdout",
     "output_type": "stream",
     "text": [
      "sox ESC-50-prathikrao/audio/4-157296-A-24.wav-r 32000 ESC-50-prathikrao/audio_32k/4-157296-A-24.wav\n",
      "sox ESC-50-prathikrao/audio/2-62226-A-26.wav-r 32000 ESC-50-prathikrao/audio_32k/2-62226-A-26.wav\n",
      "sox ESC-50-prathikrao/audio/1-208757-E-2.wav-r 32000 ESC-50-prathikrao/audio_32k/1-208757-E-2.wav\n",
      "sox ESC-50-prathikrao/audio/1-43807-B-47.wav-r 32000 ESC-50-prathikrao/audio_32k/1-43807-B-47.wav\n",
      "sox ESC-50-prathikrao/audio/1-51036-A-16.wav-r 32000 ESC-50-prathikrao/audio_32k/1-51036-A-16.wav\n",
      "sox ESC-50-prathikrao/audio/3-166125-A-23.wav-r 32000 ESC-50-prathikrao/audio_32k/3-166125-A-23.wav\n",
      "sox ESC-50-prathikrao/audio/1-51037-A-16.wav-r 32000 ESC-50-prathikrao/audio_32k/1-51037-A-16.wav\n",
      "sox ESC-50-prathikrao/audio/3-253081-A-2.wav-r 32000 ESC-50-prathikrao/audio_32k/3-253081-A-2.wav\n",
      "sox ESC-50-prathikrao/audio/3-118069-B-27.wav-r 32000 ESC-50-prathikrao/audio_32k/3-118069-B-27.wav\n"
     ]
    },
    {
     "name": "stderr",
     "output_type": "stream",
     "text": [
      "sox WARN rate: rate clipped 46 samples; decrease volume?\n",
      "sox WARN dither: dither clipped 43 samples; decrease volume?\n"
     ]
    },
    {
     "name": "stdout",
     "output_type": "stream",
     "text": [
      "sox ESC-50-prathikrao/audio/whistle36.wav-r 32000 ESC-50-prathikrao/audio_32k/whistle36.wav\n",
      "sox ESC-50-prathikrao/audio/2-102414-D-17.wav-r 32000 ESC-50-prathikrao/audio_32k/2-102414-D-17.wav\n",
      "sox ESC-50-prathikrao/audio/whistle22.wav-r 32000 ESC-50-prathikrao/audio_32k/whistle22.wav\n",
      "sox ESC-50-prathikrao/audio/4-207124-A-0.wav-r 32000 ESC-50-prathikrao/audio_32k/4-207124-A-0.wav\n",
      "sox ESC-50-prathikrao/audio/whistle23.wav-r 32000 ESC-50-prathikrao/audio_32k/whistle23.wav\n",
      "sox ESC-50-prathikrao/audio/5-249937-A-22.wav-r 32000 ESC-50-prathikrao/audio_32k/5-249937-A-22.wav\n"
     ]
    },
    {
     "name": "stderr",
     "output_type": "stream",
     "text": [
      "sox WARN rate: rate clipped 7 samples; decrease volume?\n",
      "sox WARN dither: dither clipped 4 samples; decrease volume?\n",
      "sox WARN rate: rate clipped 53 samples; decrease volume?\n",
      "sox WARN dither: dither clipped 45 samples; decrease volume?\n"
     ]
    },
    {
     "name": "stdout",
     "output_type": "stream",
     "text": [
      "sox ESC-50-prathikrao/audio/4-163697-A-13.wav-r 32000 ESC-50-prathikrao/audio_32k/4-163697-A-13.wav\n",
      "sox ESC-50-prathikrao/audio/2-87282-A-34.wav-r 32000 ESC-50-prathikrao/audio_32k/2-87282-A-34.wav\n",
      "sox ESC-50-prathikrao/audio/1-30344-A-0.wav-r 32000 ESC-50-prathikrao/audio_32k/1-30344-A-0.wav\n",
      "sox ESC-50-prathikrao/audio/whistle37.wav-r 32000 ESC-50-prathikrao/audio_32k/whistle37.wav\n",
      "sox ESC-50-prathikrao/audio/1-18755-B-4.wav-r 32000 ESC-50-prathikrao/audio_32k/1-18755-B-4.wav\n",
      "sox ESC-50-prathikrao/audio/3-124600-A-19.wav-r 32000 ESC-50-prathikrao/audio_32k/3-124600-A-19.wav\n",
      "sox ESC-50-prathikrao/audio/5-217158-A-0.wav-r 32000 ESC-50-prathikrao/audio_32k/5-217158-A-0.wav\n",
      "sox ESC-50-prathikrao/audio/1-211527-C-20.wav-r 32000 ESC-50-prathikrao/audio_32k/1-211527-C-20.wav\n",
      "sox ESC-50-prathikrao/audio/1-40154-A-46.wav-r 32000 ESC-50-prathikrao/audio_32k/1-40154-A-46.wav\n",
      "sox ESC-50-prathikrao/audio/3-185313-A-31.wav-r 32000 ESC-50-prathikrao/audio_32k/3-185313-A-31.wav\n",
      "sox ESC-50-prathikrao/audio/3-203373-A-39.wav-r 32000 ESC-50-prathikrao/audio_32k/3-203373-A-39.wav\n",
      "sox ESC-50-prathikrao/audio/5-261464-A-23.wav-r 32000 ESC-50-prathikrao/audio_32k/5-261464-A-23.wav\n",
      "sox ESC-50-prathikrao/audio/5-194899-D-3.wav-r 32000 ESC-50-prathikrao/audio_32k/5-194899-D-3.wav\n"
     ]
    },
    {
     "name": "stderr",
     "output_type": "stream",
     "text": [
      "sox WARN rate: rate clipped 32 samples; decrease volume?\n",
      "sox WARN dither: dither clipped 25 samples; decrease volume?\n"
     ]
    },
    {
     "name": "stdout",
     "output_type": "stream",
     "text": [
      "sox ESC-50-prathikrao/audio/4-234879-A-6.wav-r 32000 ESC-50-prathikrao/audio_32k/4-234879-A-6.wav\n",
      "sox ESC-50-prathikrao/audio/5-181458-A-33.wav-r 32000 ESC-50-prathikrao/audio_32k/5-181458-A-33.wav\n",
      "sox ESC-50-prathikrao/audio/2-110613-A-13.wav-r 32000 ESC-50-prathikrao/audio_32k/2-110613-A-13.wav\n",
      "sox ESC-50-prathikrao/audio/1-50455-A-44.wav-r 32000 ESC-50-prathikrao/audio_32k/1-50455-A-44.wav\n",
      "sox ESC-50-prathikrao/audio/3-152020-C-36.wav-r 32000 ESC-50-prathikrao/audio_32k/3-152020-C-36.wav\n",
      "sox ESC-50-prathikrao/audio/1-50454-A-44.wav-r 32000 ESC-50-prathikrao/audio_32k/1-50454-A-44.wav\n"
     ]
    },
    {
     "name": "stderr",
     "output_type": "stream",
     "text": [
      "sox WARN rate: rate clipped 68 samples; decrease volume?\n",
      "sox WARN dither: dither clipped 59 samples; decrease volume?\n"
     ]
    },
    {
     "name": "stdout",
     "output_type": "stream",
     "text": [
      "sox ESC-50-prathikrao/audio/4-167063-A-11.wav-r 32000 ESC-50-prathikrao/audio_32k/4-167063-A-11.wav\n",
      "sox ESC-50-prathikrao/audio/2-85945-A-18.wav-r 32000 ESC-50-prathikrao/audio_32k/2-85945-A-18.wav\n",
      "sox ESC-50-prathikrao/audio/4-119647-A-48.wav-r 32000 ESC-50-prathikrao/audio_32k/4-119647-A-48.wav\n"
     ]
    },
    {
     "name": "stderr",
     "output_type": "stream",
     "text": [
      "sox WARN rate: rate clipped 5 samples; decrease volume?\n",
      "sox WARN dither: dither clipped 5 samples; decrease volume?\n"
     ]
    },
    {
     "name": "stdout",
     "output_type": "stream",
     "text": [
      "sox ESC-50-prathikrao/audio/3-193767-A-47.wav-r 32000 ESC-50-prathikrao/audio_32k/3-193767-A-47.wav\n",
      "sox ESC-50-prathikrao/audio/3-118656-A-41.wav-r 32000 ESC-50-prathikrao/audio_32k/3-118656-A-41.wav\n",
      "sox ESC-50-prathikrao/audio/5-243448-A-14.wav-r 32000 ESC-50-prathikrao/audio_32k/5-243448-A-14.wav\n",
      "sox ESC-50-prathikrao/audio/3-118657-A-41.wav-r 32000 ESC-50-prathikrao/audio_32k/3-118657-A-41.wav\n",
      "sox ESC-50-prathikrao/audio/3-145577-A-43.wav-r 32000 ESC-50-prathikrao/audio_32k/3-145577-A-43.wav\n",
      "sox ESC-50-prathikrao/audio/2-127108-A-38.wav-r 32000 ESC-50-prathikrao/audio_32k/2-127108-A-38.wav\n",
      "sox ESC-50-prathikrao/audio/2-76408-A-22.wav-r 32000 ESC-50-prathikrao/audio_32k/2-76408-A-22.wav\n",
      "sox ESC-50-prathikrao/audio/4-188293-A-15.wav-r 32000 ESC-50-prathikrao/audio_32k/4-188293-A-15.wav\n",
      "sox ESC-50-prathikrao/audio/5-243449-A-14.wav-r 32000 ESC-50-prathikrao/audio_32k/5-243449-A-14.wav\n"
     ]
    },
    {
     "name": "stderr",
     "output_type": "stream",
     "text": [
      "sox WARN rate: rate clipped 37 samples; decrease volume?\n",
      "sox WARN dither: dither clipped 31 samples; decrease volume?\n"
     ]
    },
    {
     "name": "stdout",
     "output_type": "stream",
     "text": [
      "sox ESC-50-prathikrao/audio/2-114254-A-30.wav-r 32000 ESC-50-prathikrao/audio_32k/2-114254-A-30.wav\n",
      "sox ESC-50-prathikrao/audio/4-182314-B-7.wav-r 32000 ESC-50-prathikrao/audio_32k/4-182314-B-7.wav\n",
      "sox ESC-50-prathikrao/audio/4-218304-A-25.wav-r 32000 ESC-50-prathikrao/audio_32k/4-218304-A-25.wav\n",
      "sox ESC-50-prathikrao/audio/1-51805-B-33.wav-r 32000 ESC-50-prathikrao/audio_32k/1-51805-B-33.wav\n",
      "sox ESC-50-prathikrao/audio/1-69422-A-3.wav-r 32000 ESC-50-prathikrao/audio_32k/1-69422-A-3.wav\n",
      "sox ESC-50-prathikrao/audio/1-30214-A-18.wav-r 32000 ESC-50-prathikrao/audio_32k/1-30214-A-18.wav\n",
      "sox ESC-50-prathikrao/audio/3-97909-B-49.wav-r 32000 ESC-50-prathikrao/audio_32k/3-97909-B-49.wav\n",
      "sox ESC-50-prathikrao/audio/1-172649-A-40.wav-r 32000 ESC-50-prathikrao/audio_32k/1-172649-A-40.wav\n",
      "sox ESC-50-prathikrao/audio/5-170338-A-41.wav-r 32000 ESC-50-prathikrao/audio_32k/5-170338-A-41.wav\n"
     ]
    },
    {
     "name": "stderr",
     "output_type": "stream",
     "text": [
      "sox WARN rate: rate clipped 17 samples; decrease volume?\n",
      "sox WARN dither: dither clipped 14 samples; decrease volume?\n"
     ]
    },
    {
     "name": "stdout",
     "output_type": "stream",
     "text": [
      "sox ESC-50-prathikrao/audio/5-203128-B-0.wav-r 32000 ESC-50-prathikrao/audio_32k/5-203128-B-0.wav\n",
      "sox ESC-50-prathikrao/audio/5-200461-B-11.wav-r 32000 ESC-50-prathikrao/audio_32k/5-200461-B-11.wav\n",
      "sox ESC-50-prathikrao/audio/2-96033-A-13.wav-r 32000 ESC-50-prathikrao/audio_32k/2-96033-A-13.wav\n",
      "sox ESC-50-prathikrao/audio/1-26222-A-10.wav-r 32000 ESC-50-prathikrao/audio_32k/1-26222-A-10.wav\n",
      "sox ESC-50-prathikrao/audio/4-169508-A-37.wav-r 32000 ESC-50-prathikrao/audio_32k/4-169508-A-37.wav\n",
      "sox ESC-50-prathikrao/audio/3-141684-A-21.wav-r 32000 ESC-50-prathikrao/audio_32k/3-141684-A-21.wav\n",
      "sox ESC-50-prathikrao/audio/3-71964-A-4.wav-r 32000 ESC-50-prathikrao/audio_32k/3-71964-A-4.wav\n",
      "sox ESC-50-prathikrao/audio/4-164661-A-12.wav-r 32000 ESC-50-prathikrao/audio_32k/4-164661-A-12.wav\n",
      "sox ESC-50-prathikrao/audio/1-22882-A-44.wav-r 32000 ESC-50-prathikrao/audio_32k/1-22882-A-44.wav\n"
     ]
    },
    {
     "name": "stderr",
     "output_type": "stream",
     "text": [
      "sox WARN rate: rate clipped 1 samples; decrease volume?\n",
      "sox WARN dither: dither clipped 1 samples; decrease volume?\n",
      "sox WARN rate: rate clipped 37 samples; decrease volume?\n",
      "sox WARN dither: dither clipped 33 samples; decrease volume?\n"
     ]
    },
    {
     "name": "stdout",
     "output_type": "stream",
     "text": [
      "sox ESC-50-prathikrao/audio/4-212604-B-15.wav-r 32000 ESC-50-prathikrao/audio_32k/4-212604-B-15.wav\n",
      "sox ESC-50-prathikrao/audio/2-119161-B-8.wav-r 32000 ESC-50-prathikrao/audio_32k/2-119161-B-8.wav\n",
      "sox ESC-50-prathikrao/audio/3-164216-B-6.wav-r 32000 ESC-50-prathikrao/audio_32k/3-164216-B-6.wav\n"
     ]
    },
    {
     "name": "stderr",
     "output_type": "stream",
     "text": [
      "sox WARN rate: rate clipped 118 samples; decrease volume?\n",
      "sox WARN dither: dither clipped 101 samples; decrease volume?\n"
     ]
    },
    {
     "name": "stdout",
     "output_type": "stream",
     "text": [
      "sox ESC-50-prathikrao/audio/5-189212-A-12.wav-r 32000 ESC-50-prathikrao/audio_32k/5-189212-A-12.wav\n",
      "sox ESC-50-prathikrao/audio/4-181955-A-3.wav-r 32000 ESC-50-prathikrao/audio_32k/4-181955-A-3.wav\n",
      "sox ESC-50-prathikrao/audio/2-117795-B-3.wav-r 32000 ESC-50-prathikrao/audio_32k/2-117795-B-3.wav\n",
      "sox ESC-50-prathikrao/audio/4-188033-A-38.wav-r 32000 ESC-50-prathikrao/audio_32k/4-188033-A-38.wav\n",
      "sox ESC-50-prathikrao/audio/5-216216-A-13.wav-r 32000 ESC-50-prathikrao/audio_32k/5-216216-A-13.wav\n",
      "sox ESC-50-prathikrao/audio/4-172734-A-36.wav-r 32000 ESC-50-prathikrao/audio_32k/4-172734-A-36.wav\n"
     ]
    },
    {
     "name": "stderr",
     "output_type": "stream",
     "text": [
      "sox WARN rate: rate clipped 17 samples; decrease volume?\n",
      "sox WARN dither: dither clipped 13 samples; decrease volume?\n",
      "sox WARN rate: rate clipped 214 samples; decrease volume?\n",
      "sox WARN dither: dither clipped 190 samples; decrease volume?\n"
     ]
    },
    {
     "name": "stdout",
     "output_type": "stream",
     "text": [
      "sox ESC-50-prathikrao/audio/4-132803-A-26.wav-r 32000 ESC-50-prathikrao/audio_32k/4-132803-A-26.wav\n",
      "sox ESC-50-prathikrao/audio/2-81731-A-10.wav-r 32000 ESC-50-prathikrao/audio_32k/2-81731-A-10.wav\n",
      "sox ESC-50-prathikrao/audio/5-169983-A-5.wav-r 32000 ESC-50-prathikrao/audio_32k/5-169983-A-5.wav\n",
      "sox ESC-50-prathikrao/audio/5-215005-A-32.wav-r 32000 ESC-50-prathikrao/audio_32k/5-215005-A-32.wav\n",
      "sox ESC-50-prathikrao/audio/2-125966-A-11.wav-r 32000 ESC-50-prathikrao/audio_32k/2-125966-A-11.wav\n",
      "sox ESC-50-prathikrao/audio/1-254507-A-43.wav-r 32000 ESC-50-prathikrao/audio_32k/1-254507-A-43.wav\n"
     ]
    },
    {
     "name": "stderr",
     "output_type": "stream",
     "text": [
      "sox WARN rate: rate clipped 446 samples; decrease volume?\n",
      "sox WARN dither: dither clipped 386 samples; decrease volume?\n"
     ]
    },
    {
     "name": "stdout",
     "output_type": "stream",
     "text": [
      "sox ESC-50-prathikrao/audio/4-216349-A-34.wav-r 32000 ESC-50-prathikrao/audio_32k/4-216349-A-34.wav\n",
      "sox ESC-50-prathikrao/audio/5-171118-A-26.wav-r 32000 ESC-50-prathikrao/audio_32k/5-171118-A-26.wav\n",
      "sox ESC-50-prathikrao/audio/3-120526-B-37.wav-r 32000 ESC-50-prathikrao/audio_32k/3-120526-B-37.wav\n",
      "sox ESC-50-prathikrao/audio/2-73027-A-10.wav-r 32000 ESC-50-prathikrao/audio_32k/2-73027-A-10.wav\n",
      "sox ESC-50-prathikrao/audio/1-202111-A-3.wav-r 32000 ESC-50-prathikrao/audio_32k/1-202111-A-3.wav\n",
      "sox ESC-50-prathikrao/audio/1-65483-A-13.wav-r 32000 ESC-50-prathikrao/audio_32k/1-65483-A-13.wav\n",
      "sox ESC-50-prathikrao/audio/3-118972-A-41.wav-r 32000 ESC-50-prathikrao/audio_32k/3-118972-A-41.wav\n",
      "sox ESC-50-prathikrao/audio/4-176638-A-43.wav-r 32000 ESC-50-prathikrao/audio_32k/4-176638-A-43.wav\n",
      "sox ESC-50-prathikrao/audio/2-70936-A-42.wav-r 32000 ESC-50-prathikrao/audio_32k/2-70936-A-42.wav\n"
     ]
    },
    {
     "name": "stderr",
     "output_type": "stream",
     "text": [
      "sox WARN rate: rate clipped 1023 samples; decrease volume?\n",
      "sox WARN dither: dither clipped 900 samples; decrease volume?\n"
     ]
    },
    {
     "name": "stdout",
     "output_type": "stream",
     "text": [
      "sox ESC-50-prathikrao/audio/2-54962-A-23.wav-r 32000 ESC-50-prathikrao/audio_32k/2-54962-A-23.wav\n",
      "sox ESC-50-prathikrao/audio/4-171396-A-24.wav-r 32000 ESC-50-prathikrao/audio_32k/4-171396-A-24.wav\n",
      "sox ESC-50-prathikrao/audio/2-196688-A-8.wav-r 32000 ESC-50-prathikrao/audio_32k/2-196688-A-8.wav\n",
      "sox ESC-50-prathikrao/audio/2-52789-A-4.wav-r 32000 ESC-50-prathikrao/audio_32k/2-52789-A-4.wav\n",
      "sox ESC-50-prathikrao/audio/1-68670-A-34.wav-r 32000 ESC-50-prathikrao/audio_32k/1-68670-A-34.wav\n",
      "sox ESC-50-prathikrao/audio/1-32373-A-35.wav-r 32000 ESC-50-prathikrao/audio_32k/1-32373-A-35.wav\n"
     ]
    },
    {
     "name": "stderr",
     "output_type": "stream",
     "text": [
      "sox WARN rate: rate clipped 340 samples; decrease volume?\n",
      "sox WARN dither: dither clipped 297 samples; decrease volume?\n"
     ]
    },
    {
     "name": "stdout",
     "output_type": "stream",
     "text": [
      "sox ESC-50-prathikrao/audio/3-142006-A-10.wav-r 32000 ESC-50-prathikrao/audio_32k/3-142006-A-10.wav\n",
      "sox ESC-50-prathikrao/audio/4-210000-B-23.wav-r 32000 ESC-50-prathikrao/audio_32k/4-210000-B-23.wav\n",
      "sox ESC-50-prathikrao/audio/4-186962-A-44.wav-r 32000 ESC-50-prathikrao/audio_32k/4-186962-A-44.wav\n"
     ]
    },
    {
     "name": "stderr",
     "output_type": "stream",
     "text": [
      "sox WARN rate: rate clipped 3530 samples; decrease volume?\n",
      "sox WARN dither: dither clipped 3131 samples; decrease volume?\n",
      "sox WARN rate: rate clipped 24 samples; decrease volume?\n",
      "sox WARN dither: dither clipped 22 samples; decrease volume?\n"
     ]
    },
    {
     "name": "stdout",
     "output_type": "stream",
     "text": [
      "sox ESC-50-prathikrao/audio/5-262957-A-22.wav-r 32000 ESC-50-prathikrao/audio_32k/5-262957-A-22.wav\n",
      "sox ESC-50-prathikrao/audio/5-156026-D-4.wav-r 32000 ESC-50-prathikrao/audio_32k/5-156026-D-4.wav\n",
      "sox ESC-50-prathikrao/audio/5-223810-A-35.wav-r 32000 ESC-50-prathikrao/audio_32k/5-223810-A-35.wav\n",
      "sox ESC-50-prathikrao/audio/4-99193-B-4.wav-r 32000 ESC-50-prathikrao/audio_32k/4-99193-B-4.wav\n",
      "sox ESC-50-prathikrao/audio/5-232272-A-44.wav-r 32000 ESC-50-prathikrao/audio_32k/5-232272-A-44.wav\n",
      "sox ESC-50-prathikrao/audio/2-110417-B-28.wav-r 32000 ESC-50-prathikrao/audio_32k/2-110417-B-28.wav\n",
      "sox ESC-50-prathikrao/audio/4-181955-C-3.wav-r 32000 ESC-50-prathikrao/audio_32k/4-181955-C-3.wav\n",
      "sox ESC-50-prathikrao/audio/1-43764-A-34.wav-r 32000 ESC-50-prathikrao/audio_32k/1-43764-A-34.wav\n",
      "sox ESC-50-prathikrao/audio/1-32579-A-29.wav-r 32000 ESC-50-prathikrao/audio_32k/1-32579-A-29.wav\n",
      "sox ESC-50-prathikrao/audio/1-34094-A-5.wav-r 32000 ESC-50-prathikrao/audio_32k/1-34094-A-5.wav\n",
      "sox ESC-50-prathikrao/audio/4-172736-B-36.wav-r 32000 ESC-50-prathikrao/audio_32k/4-172736-B-36.wav\n",
      "sox ESC-50-prathikrao/audio/3-144028-A-0.wav-r 32000 ESC-50-prathikrao/audio_32k/3-144028-A-0.wav\n"
     ]
    },
    {
     "name": "stderr",
     "output_type": "stream",
     "text": [
      "sox WARN rate: rate clipped 48 samples; decrease volume?\n",
      "sox WARN dither: dither clipped 42 samples; decrease volume?\n",
      "sox WARN rate: rate clipped 2 samples; decrease volume?\n",
      "sox WARN dither: dither clipped 2 samples; decrease volume?\n",
      "sox WARN rate: rate clipped 12 samples; decrease volume?\n",
      "sox WARN dither: dither clipped 8 samples; decrease volume?\n"
     ]
    },
    {
     "name": "stdout",
     "output_type": "stream",
     "text": [
      "sox ESC-50-prathikrao/audio/4-145006-A-18.wav-r 32000 ESC-50-prathikrao/audio_32k/4-145006-A-18.wav\n",
      "sox ESC-50-prathikrao/audio/3-71964-C-4.wav-r 32000 ESC-50-prathikrao/audio_32k/3-71964-C-4.wav\n",
      "sox ESC-50-prathikrao/audio/1-42139-A-38.wav-r 32000 ESC-50-prathikrao/audio_32k/1-42139-A-38.wav\n"
     ]
    },
    {
     "name": "stderr",
     "output_type": "stream",
     "text": [
      "sox WARN rate: rate clipped 8 samples; decrease volume?\n",
      "sox WARN dither: dither clipped 5 samples; decrease volume?\n",
      "sox WARN rate: rate clipped 15 samples; decrease volume?\n",
      "sox WARN dither: dither clipped 14 samples; decrease volume?\n"
     ]
    },
    {
     "name": "stdout",
     "output_type": "stream",
     "text": [
      "sox ESC-50-prathikrao/audio/4-187384-A-34.wav-r 32000 ESC-50-prathikrao/audio_32k/4-187384-A-34.wav\n",
      "sox ESC-50-prathikrao/audio/3-172179-A-31.wav-r 32000 ESC-50-prathikrao/audio_32k/3-172179-A-31.wav\n",
      "sox ESC-50-prathikrao/audio/1-47709-A-16.wav-r 32000 ESC-50-prathikrao/audio_32k/1-47709-A-16.wav\n"
     ]
    },
    {
     "name": "stderr",
     "output_type": "stream",
     "text": [
      "sox WARN rate: rate clipped 12 samples; decrease volume?\n",
      "sox WARN dither: dither clipped 9 samples; decrease volume?\n",
      "sox WARN rate: rate clipped 8137 samples; decrease volume?\n",
      "sox WARN dither: dither clipped 7375 samples; decrease volume?\n"
     ]
    },
    {
     "name": "stdout",
     "output_type": "stream",
     "text": [
      "sox ESC-50-prathikrao/audio/1-24524-A-19.wav-r 32000 ESC-50-prathikrao/audio_32k/1-24524-A-19.wav\n",
      "sox ESC-50-prathikrao/audio/4-185613-A-32.wav-r 32000 ESC-50-prathikrao/audio_32k/4-185613-A-32.wav\n",
      "sox ESC-50-prathikrao/audio/1-21421-A-46.wav-r 32000 ESC-50-prathikrao/audio_32k/1-21421-A-46.wav\n"
     ]
    },
    {
     "name": "stderr",
     "output_type": "stream",
     "text": [
      "sox WARN rate: rate clipped 30 samples; decrease volume?\n",
      "sox WARN dither: dither clipped 25 samples; decrease volume?\n"
     ]
    },
    {
     "name": "stdout",
     "output_type": "stream",
     "text": [
      "sox ESC-50-prathikrao/audio/1-22694-B-20.wav-r 32000 ESC-50-prathikrao/audio_32k/1-22694-B-20.wav\n",
      "sox ESC-50-prathikrao/audio/1-121951-A-8.wav-r 32000 ESC-50-prathikrao/audio_32k/1-121951-A-8.wav\n",
      "sox ESC-50-prathikrao/audio/2-64962-A-15.wav-r 32000 ESC-50-prathikrao/audio_32k/2-64962-A-15.wav\n",
      "sox ESC-50-prathikrao/audio/5-178997-A-24.wav-r 32000 ESC-50-prathikrao/audio_32k/5-178997-A-24.wav\n",
      "sox ESC-50-prathikrao/audio/2-64963-A-15.wav-r 32000 ESC-50-prathikrao/audio_32k/2-64963-A-15.wav\n",
      "sox ESC-50-prathikrao/audio/1-21934-A-38.wav-r 32000 ESC-50-prathikrao/audio_32k/1-21934-A-38.wav\n",
      "sox ESC-50-prathikrao/audio/2-137162-A-11.wav-r 32000 ESC-50-prathikrao/audio_32k/2-137162-A-11.wav\n",
      "sox ESC-50-prathikrao/audio/2-133889-A-30.wav-r 32000 ESC-50-prathikrao/audio_32k/2-133889-A-30.wav\n",
      "sox ESC-50-prathikrao/audio/1-21935-A-38.wav-r 32000 ESC-50-prathikrao/audio_32k/1-21935-A-38.wav\n",
      "sox ESC-50-prathikrao/audio/1-34119-A-1.wav-r 32000 ESC-50-prathikrao/audio_32k/1-34119-A-1.wav\n",
      "sox ESC-50-prathikrao/audio/2-117615-D-48.wav-r 32000 ESC-50-prathikrao/audio_32k/2-117615-D-48.wav\n",
      "sox ESC-50-prathikrao/audio/5-254832-A-15.wav-r 32000 ESC-50-prathikrao/audio_32k/5-254832-A-15.wav\n"
     ]
    },
    {
     "name": "stderr",
     "output_type": "stream",
     "text": [
      "sox WARN rate: rate clipped 86 samples; decrease volume?\n",
      "sox WARN dither: dither clipped 73 samples; decrease volume?\n"
     ]
    },
    {
     "name": "stdout",
     "output_type": "stream",
     "text": [
      "sox ESC-50-prathikrao/audio/2-84965-A-23.wav-r 32000 ESC-50-prathikrao/audio_32k/2-84965-A-23.wav\n",
      "sox ESC-50-prathikrao/audio/2-107351-A-20.wav-r 32000 ESC-50-prathikrao/audio_32k/2-107351-A-20.wav\n",
      "sox ESC-50-prathikrao/audio/2-109505-A-21.wav-r 32000 ESC-50-prathikrao/audio_32k/2-109505-A-21.wav\n"
     ]
    },
    {
     "name": "stderr",
     "output_type": "stream",
     "text": [
      "sox WARN rate: rate clipped 2 samples; decrease volume?\n",
      "sox WARN dither: dither clipped 2 samples; decrease volume?\n"
     ]
    },
    {
     "name": "stdout",
     "output_type": "stream",
     "text": [
      "sox ESC-50-prathikrao/audio/1-57795-A-8.wav-r 32000 ESC-50-prathikrao/audio_32k/1-57795-A-8.wav\n",
      "sox ESC-50-prathikrao/audio/1-18527-A-44.wav-r 32000 ESC-50-prathikrao/audio_32k/1-18527-A-44.wav\n",
      "sox ESC-50-prathikrao/audio/5-215449-A-47.wav-r 32000 ESC-50-prathikrao/audio_32k/5-215449-A-47.wav\n",
      "sox ESC-50-prathikrao/audio/1-94231-B-32.wav-r 32000 ESC-50-prathikrao/audio_32k/1-94231-B-32.wav\n",
      "sox ESC-50-prathikrao/audio/2-32834-A-4.wav-r 32000 ESC-50-prathikrao/audio_32k/2-32834-A-4.wav\n",
      "sox ESC-50-prathikrao/audio/4-140034-A-46.wav-r 32000 ESC-50-prathikrao/audio_32k/4-140034-A-46.wav\n"
     ]
    },
    {
     "name": "stderr",
     "output_type": "stream",
     "text": [
      "sox WARN rate: rate clipped 470 samples; decrease volume?\n",
      "sox WARN dither: dither clipped 410 samples; decrease volume?\n",
      "sox WARN rate: rate clipped 154 samples; decrease volume?\n",
      "sox WARN dither: dither clipped 144 samples; decrease volume?\n"
     ]
    },
    {
     "name": "stdout",
     "output_type": "stream",
     "text": [
      "sox ESC-50-prathikrao/audio/1-17295-A-29.wav-r 32000 ESC-50-prathikrao/audio_32k/1-17295-A-29.wav\n",
      "sox ESC-50-prathikrao/audio/5-214869-A-9.wav-r 32000 ESC-50-prathikrao/audio_32k/5-214869-A-9.wav\n",
      "sox ESC-50-prathikrao/audio/1-72229-A-6.wav-r 32000 ESC-50-prathikrao/audio_32k/1-72229-A-6.wav\n",
      "sox ESC-50-prathikrao/audio/1-56380-A-5.wav-r 32000 ESC-50-prathikrao/audio_32k/1-56380-A-5.wav\n",
      "sox ESC-50-prathikrao/audio/2-118104-A-21.wav-r 32000 ESC-50-prathikrao/audio_32k/2-118104-A-21.wav\n",
      "sox ESC-50-prathikrao/audio/1-1791-A-26.wav-r 32000 ESC-50-prathikrao/audio_32k/1-1791-A-26.wav\n",
      "sox ESC-50-prathikrao/audio/4-188595-A-29.wav-r 32000 ESC-50-prathikrao/audio_32k/4-188595-A-29.wav\n",
      "sox ESC-50-prathikrao/audio/4-204612-A-31.wav-r 32000 ESC-50-prathikrao/audio_32k/4-204612-A-31.wav\n",
      "sox ESC-50-prathikrao/audio/3-144253-A-29.wav-r 32000 ESC-50-prathikrao/audio_32k/3-144253-A-29.wav\n"
     ]
    },
    {
     "name": "stderr",
     "output_type": "stream",
     "text": [
      "sox WARN rate: rate clipped 12 samples; decrease volume?\n",
      "sox WARN dither: dither clipped 11 samples; decrease volume?\n"
     ]
    },
    {
     "name": "stdout",
     "output_type": "stream",
     "text": [
      "sox ESC-50-prathikrao/audio/2-160128-A-7.wav-r 32000 ESC-50-prathikrao/audio_32k/2-160128-A-7.wav\n",
      "sox ESC-50-prathikrao/audio/4-167571-A-26.wav-r 32000 ESC-50-prathikrao/audio_32k/4-167571-A-26.wav\n",
      "sox ESC-50-prathikrao/audio/5-202795-A-3.wav-r 32000 ESC-50-prathikrao/audio_32k/5-202795-A-3.wav\n",
      "sox ESC-50-prathikrao/audio/3-125418-A-24.wav-r 32000 ESC-50-prathikrao/audio_32k/3-125418-A-24.wav\n",
      "sox ESC-50-prathikrao/audio/3-103051-C-19.wav-r 32000 ESC-50-prathikrao/audio_32k/3-103051-C-19.wav\n",
      "sox ESC-50-prathikrao/audio/1-80785-A-7.wav-r 32000 ESC-50-prathikrao/audio_32k/1-80785-A-7.wav\n",
      "sox ESC-50-prathikrao/audio/2-109316-A-32.wav-r 32000 ESC-50-prathikrao/audio_32k/2-109316-A-32.wav\n",
      "sox ESC-50-prathikrao/audio/4-185415-A-21.wav-r 32000 ESC-50-prathikrao/audio_32k/4-185415-A-21.wav\n",
      "sox ESC-50-prathikrao/audio/5-233607-A-39.wav-r 32000 ESC-50-prathikrao/audio_32k/5-233607-A-39.wav\n"
     ]
    },
    {
     "name": "stderr",
     "output_type": "stream",
     "text": [
      "sox WARN rate: rate clipped 7 samples; decrease volume?\n",
      "sox WARN dither: dither clipped 5 samples; decrease volume?\n",
      "sox WARN rate: rate clipped 327 samples; decrease volume?\n",
      "sox WARN dither: dither clipped 297 samples; decrease volume?\n"
     ]
    },
    {
     "name": "stdout",
     "output_type": "stream",
     "text": [
      "sox ESC-50-prathikrao/audio/3-105236-A-7.wav-r 32000 ESC-50-prathikrao/audio_32k/3-105236-A-7.wav\n",
      "sox ESC-50-prathikrao/audio/3-148932-A-34.wav-r 32000 ESC-50-prathikrao/audio_32k/3-148932-A-34.wav\n",
      "sox ESC-50-prathikrao/audio/whistle21.wav-r 32000 ESC-50-prathikrao/audio_32k/whistle21.wav\n",
      "sox ESC-50-prathikrao/audio/5-193473-B-12.wav-r 32000 ESC-50-prathikrao/audio_32k/5-193473-B-12.wav\n"
     ]
    },
    {
     "name": "stderr",
     "output_type": "stream",
     "text": [
      "sox WARN rate: rate clipped 4 samples; decrease volume?\n",
      "sox WARN dither: dither clipped 4 samples; decrease volume?\n"
     ]
    },
    {
     "name": "stdout",
     "output_type": "stream",
     "text": [
      "sox ESC-50-prathikrao/audio/1-30709-C-23.wav-r 32000 ESC-50-prathikrao/audio_32k/1-30709-C-23.wav\n",
      "sox ESC-50-prathikrao/audio/whistle35.wav-r 32000 ESC-50-prathikrao/audio_32k/whistle35.wav\n",
      "sox ESC-50-prathikrao/audio/4-218199-B-35.wav-r 32000 ESC-50-prathikrao/audio_32k/4-218199-B-35.wav\n"
     ]
    },
    {
     "name": "stderr",
     "output_type": "stream",
     "text": [
      "sox WARN rate: rate clipped 43 samples; decrease volume?\n",
      "sox WARN dither: dither clipped 40 samples; decrease volume?\n"
     ]
    },
    {
     "name": "stdout",
     "output_type": "stream",
     "text": [
      "sox ESC-50-prathikrao/audio/2-107228-A-44.wav-r 32000 ESC-50-prathikrao/audio_32k/2-107228-A-44.wav\n",
      "sox ESC-50-prathikrao/audio/1-25777-A-48.wav-r 32000 ESC-50-prathikrao/audio_32k/1-25777-A-48.wav\n",
      "sox ESC-50-prathikrao/audio/whistle34.wav-r 32000 ESC-50-prathikrao/audio_32k/whistle34.wav\n"
     ]
    },
    {
     "name": "stderr",
     "output_type": "stream",
     "text": [
      "sox WARN rate: rate clipped 17 samples; decrease volume?\n",
      "sox WARN dither: dither clipped 15 samples; decrease volume?\n"
     ]
    },
    {
     "name": "stdout",
     "output_type": "stream",
     "text": [
      "sox ESC-50-prathikrao/audio/5-200339-A-1.wav-r 32000 ESC-50-prathikrao/audio_32k/5-200339-A-1.wav\n",
      "sox ESC-50-prathikrao/audio/5-221568-A-22.wav-r 32000 ESC-50-prathikrao/audio_32k/5-221568-A-22.wav\n",
      "sox ESC-50-prathikrao/audio/2-57191-A-46.wav-r 32000 ESC-50-prathikrao/audio_32k/2-57191-A-46.wav\n",
      "sox ESC-50-prathikrao/audio/whistle20.wav-r 32000 ESC-50-prathikrao/audio_32k/whistle20.wav\n"
     ]
    },
    {
     "name": "stderr",
     "output_type": "stream",
     "text": [
      "sox WARN rate: rate clipped 301 samples; decrease volume?\n",
      "sox WARN dither: dither clipped 255 samples; decrease volume?\n"
     ]
    },
    {
     "name": "stdout",
     "output_type": "stream",
     "text": [
      "sox ESC-50-prathikrao/audio/1-53467-A-47.wav-r 32000 ESC-50-prathikrao/audio_32k/1-53467-A-47.wav\n",
      "sox ESC-50-prathikrao/audio/4-200330-A-6.wav-r 32000 ESC-50-prathikrao/audio_32k/4-200330-A-6.wav\n",
      "sox ESC-50-prathikrao/audio/1-57316-A-13.wav-r 32000 ESC-50-prathikrao/audio_32k/1-57316-A-13.wav\n",
      "sox ESC-50-prathikrao/audio/2-37870-A-2.wav-r 32000 ESC-50-prathikrao/audio_32k/2-37870-A-2.wav\n",
      "sox ESC-50-prathikrao/audio/2-133863-A-11.wav-r 32000 ESC-50-prathikrao/audio_32k/2-133863-A-11.wav\n",
      "sox ESC-50-prathikrao/audio/2-108763-A-9.wav-r 32000 ESC-50-prathikrao/audio_32k/2-108763-A-9.wav\n",
      "sox ESC-50-prathikrao/audio/4-177250-A-10.wav-r 32000 ESC-50-prathikrao/audio_32k/4-177250-A-10.wav\n",
      "sox ESC-50-prathikrao/audio/2-110011-A-5.wav-r 32000 ESC-50-prathikrao/audio_32k/2-110011-A-5.wav\n",
      "sox ESC-50-prathikrao/audio/1-50060-A-10.wav-r 32000 ESC-50-prathikrao/audio_32k/1-50060-A-10.wav\n"
     ]
    },
    {
     "name": "stderr",
     "output_type": "stream",
     "text": [
      "sox WARN rate: rate clipped 1161 samples; decrease volume?\n",
      "sox WARN dither: dither clipped 1036 samples; decrease volume?\n"
     ]
    },
    {
     "name": "stdout",
     "output_type": "stream",
     "text": [
      "sox ESC-50-prathikrao/audio/3-129338-A-13.wav-r 32000 ESC-50-prathikrao/audio_32k/3-129338-A-13.wav\n",
      "sox ESC-50-prathikrao/audio/2-103423-A-3.wav-r 32000 ESC-50-prathikrao/audio_32k/2-103423-A-3.wav\n",
      "sox ESC-50-prathikrao/audio/3-136451-A-45.wav-r 32000 ESC-50-prathikrao/audio_32k/3-136451-A-45.wav\n"
     ]
    },
    {
     "name": "stderr",
     "output_type": "stream",
     "text": [
      "sox WARN rate: rate clipped 368 samples; decrease volume?\n",
      "sox WARN dither: dither clipped 334 samples; decrease volume?\n",
      "sox WARN rate: rate clipped 2 samples; decrease volume?\n",
      "sox WARN dither: dither clipped 2 samples; decrease volume?\n",
      "sox WARN rate: rate clipped 476 samples; decrease volume?\n",
      "sox WARN dither: dither clipped 535 samples; decrease volume?\n"
     ]
    },
    {
     "name": "stdout",
     "output_type": "stream",
     "text": [
      "sox ESC-50-prathikrao/audio/2-130245-A-34.wav-r 32000 ESC-50-prathikrao/audio_32k/2-130245-A-34.wav\n",
      "sox ESC-50-prathikrao/audio/3-130998-A-28.wav-r 32000 ESC-50-prathikrao/audio_32k/3-130998-A-28.wav\n",
      "sox ESC-50-prathikrao/audio/3-152039-B-3.wav-r 32000 ESC-50-prathikrao/audio_32k/3-152039-B-3.wav\n"
     ]
    },
    {
     "name": "stderr",
     "output_type": "stream",
     "text": [
      "sox WARN rate: rate clipped 5443 samples; decrease volume?\n",
      "sox WARN dither: dither clipped 4817 samples; decrease volume?\n",
      "sox WARN rate: rate clipped 151 samples; decrease volume?\n",
      "sox WARN dither: dither clipped 135 samples; decrease volume?\n",
      "sox WARN rate: rate clipped 5 samples; decrease volume?\n",
      "sox WARN dither: dither clipped 5 samples; decrease volume?\n"
     ]
    },
    {
     "name": "stdout",
     "output_type": "stream",
     "text": [
      "sox ESC-50-prathikrao/audio/2-83667-A-34.wav-r 32000 ESC-50-prathikrao/audio_32k/2-83667-A-34.wav\n",
      "sox ESC-50-prathikrao/audio/3-62878-A-42.wav-r 32000 ESC-50-prathikrao/audio_32k/3-62878-A-42.wav\n",
      "sox ESC-50-prathikrao/audio/1-77160-A-3.wav-r 32000 ESC-50-prathikrao/audio_32k/1-77160-A-3.wav\n"
     ]
    },
    {
     "name": "stderr",
     "output_type": "stream",
     "text": [
      "sox WARN rate: rate clipped 439 samples; decrease volume?\n",
      "sox WARN dither: dither clipped 398 samples; decrease volume?\n",
      "sox WARN rate: rate clipped 17 samples; decrease volume?\n",
      "sox WARN dither: dither clipped 15 samples; decrease volume?\n"
     ]
    },
    {
     "name": "stdout",
     "output_type": "stream",
     "text": [
      "sox ESC-50-prathikrao/audio/5-209992-A-44.wav-r 32000 ESC-50-prathikrao/audio_32k/5-209992-A-44.wav\n",
      "sox ESC-50-prathikrao/audio/5-180156-C-43.wav-r 32000 ESC-50-prathikrao/audio_32k/5-180156-C-43.wav\n",
      "sox ESC-50-prathikrao/audio/1-7974-A-49.wav-r 32000 ESC-50-prathikrao/audio_32k/1-7974-A-49.wav\n"
     ]
    },
    {
     "name": "stderr",
     "output_type": "stream",
     "text": [
      "sox WARN rate: rate clipped 8 samples; decrease volume?\n",
      "sox WARN dither: dither clipped 6 samples; decrease volume?\n",
      "sox WARN rate: rate clipped 43 samples; decrease volume?\n",
      "sox WARN dither: dither clipped 39 samples; decrease volume?\n",
      "sox WARN rate: rate clipped 11 samples; decrease volume?\n",
      "sox WARN dither: dither clipped 7 samples; decrease volume?\n"
     ]
    },
    {
     "name": "stdout",
     "output_type": "stream",
     "text": [
      "sox ESC-50-prathikrao/audio/5-103415-A-2.wav-r 32000 ESC-50-prathikrao/audio_32k/5-103415-A-2.wav\n",
      "sox ESC-50-prathikrao/audio/2-173559-A-39.wav-r 32000 ESC-50-prathikrao/audio_32k/2-173559-A-39.wav\n",
      "sox ESC-50-prathikrao/audio/5-254160-A-22.wav-r 32000 ESC-50-prathikrao/audio_32k/5-254160-A-22.wav\n"
     ]
    },
    {
     "name": "stderr",
     "output_type": "stream",
     "text": [
      "sox WARN rate: rate clipped 36 samples; decrease volume?\n",
      "sox WARN dither: dither clipped 30 samples; decrease volume?\n",
      "sox WARN rate: rate clipped 37 samples; decrease volume?\n",
      "sox WARN dither: dither clipped 33 samples; decrease volume?\n"
     ]
    },
    {
     "name": "stdout",
     "output_type": "stream",
     "text": [
      "sox ESC-50-prathikrao/audio/2-141682-A-36.wav-r 32000 ESC-50-prathikrao/audio_32k/2-141682-A-36.wav\n",
      "sox ESC-50-prathikrao/audio/3-104761-A-7.wav-r 32000 ESC-50-prathikrao/audio_32k/3-104761-A-7.wav\n",
      "sox ESC-50-prathikrao/audio/5-198411-A-20.wav-r 32000 ESC-50-prathikrao/audio_32k/5-198411-A-20.wav\n",
      "sox ESC-50-prathikrao/audio/3-171937-A-34.wav-r 32000 ESC-50-prathikrao/audio_32k/3-171937-A-34.wav\n",
      "sox ESC-50-prathikrao/audio/3-110536-A-26.wav-r 32000 ESC-50-prathikrao/audio_32k/3-110536-A-26.wav\n",
      "sox ESC-50-prathikrao/audio/3-70962-C-4.wav-r 32000 ESC-50-prathikrao/audio_32k/3-70962-C-4.wav\n"
     ]
    },
    {
     "name": "stderr",
     "output_type": "stream",
     "text": [
      "sox WARN rate: rate clipped 104 samples; decrease volume?\n",
      "sox WARN dither: dither clipped 88 samples; decrease volume?\n"
     ]
    },
    {
     "name": "stdout",
     "output_type": "stream",
     "text": [
      "sox ESC-50-prathikrao/audio/2-81112-A-34.wav-r 32000 ESC-50-prathikrao/audio_32k/2-81112-A-34.wav\n",
      "sox ESC-50-prathikrao/audio/2-28314-B-12.wav-r 32000 ESC-50-prathikrao/audio_32k/2-28314-B-12.wav\n",
      "sox ESC-50-prathikrao/audio/5-234879-A-1.wav-r 32000 ESC-50-prathikrao/audio_32k/5-234879-A-1.wav\n"
     ]
    },
    {
     "name": "stderr",
     "output_type": "stream",
     "text": [
      "sox WARN rate: rate clipped 16 samples; decrease volume?\n",
      "sox WARN dither: dither clipped 15 samples; decrease volume?\n"
     ]
    },
    {
     "name": "stdout",
     "output_type": "stream",
     "text": [
      "sox ESC-50-prathikrao/audio/2-96063-A-37.wav-r 32000 ESC-50-prathikrao/audio_32k/2-96063-A-37.wav\n",
      "sox ESC-50-prathikrao/audio/4-160036-A-33.wav-r 32000 ESC-50-prathikrao/audio_32k/4-160036-A-33.wav\n",
      "sox ESC-50-prathikrao/audio/3-132747-A-26.wav-r 32000 ESC-50-prathikrao/audio_32k/3-132747-A-26.wav\n"
     ]
    },
    {
     "name": "stderr",
     "output_type": "stream",
     "text": [
      "sox WARN rate: rate clipped 640 samples; decrease volume?\n",
      "sox WARN dither: dither clipped 562 samples; decrease volume?\n"
     ]
    },
    {
     "name": "stdout",
     "output_type": "stream",
     "text": [
      "sox ESC-50-prathikrao/audio/3-161010-A-43.wav-r 32000 ESC-50-prathikrao/audio_32k/3-161010-A-43.wav\n",
      "sox ESC-50-prathikrao/audio/3-149448-A-17.wav-r 32000 ESC-50-prathikrao/audio_32k/3-149448-A-17.wav\n",
      "sox ESC-50-prathikrao/audio/4-154405-B-27.wav-r 32000 ESC-50-prathikrao/audio_32k/4-154405-B-27.wav\n"
     ]
    },
    {
     "name": "stderr",
     "output_type": "stream",
     "text": [
      "sox WARN rate: rate clipped 50 samples; decrease volume?\n",
      "sox WARN dither: dither clipped 77 samples; decrease volume?\n"
     ]
    },
    {
     "name": "stdout",
     "output_type": "stream",
     "text": [
      "sox ESC-50-prathikrao/audio/5-213836-C-9.wav-r 32000 ESC-50-prathikrao/audio_32k/5-213836-C-9.wav\n",
      "sox ESC-50-prathikrao/audio/1-56907-A-46.wav-r 32000 ESC-50-prathikrao/audio_32k/1-56907-A-46.wav\n",
      "sox ESC-50-prathikrao/audio/1-41615-A-34.wav-r 32000 ESC-50-prathikrao/audio_32k/1-41615-A-34.wav\n",
      "sox ESC-50-prathikrao/audio/5-177957-E-40.wav-r 32000 ESC-50-prathikrao/audio_32k/5-177957-E-40.wav\n",
      "sox ESC-50-prathikrao/audio/2-86160-A-27.wav-r 32000 ESC-50-prathikrao/audio_32k/2-86160-A-27.wav\n",
      "sox ESC-50-prathikrao/audio/4-102844-B-49.wav-r 32000 ESC-50-prathikrao/audio_32k/4-102844-B-49.wav\n"
     ]
    },
    {
     "name": "stderr",
     "output_type": "stream",
     "text": [
      "sox WARN rate: rate clipped 33 samples; decrease volume?\n",
      "sox WARN dither: dither clipped 28 samples; decrease volume?\n",
      "sox WARN rate: rate clipped 31 samples; decrease volume?\n",
      "sox WARN dither: dither clipped 26 samples; decrease volume?\n"
     ]
    },
    {
     "name": "stdout",
     "output_type": "stream",
     "text": [
      "sox ESC-50-prathikrao/audio/3-166546-A-34.wav-r 32000 ESC-50-prathikrao/audio_32k/3-166546-A-34.wav\n",
      "sox ESC-50-prathikrao/audio/1-23094-A-15.wav-r 32000 ESC-50-prathikrao/audio_32k/1-23094-A-15.wav\n",
      "sox ESC-50-prathikrao/audio/3-144692-A-21.wav-r 32000 ESC-50-prathikrao/audio_32k/3-144692-A-21.wav\n"
     ]
    },
    {
     "name": "stderr",
     "output_type": "stream",
     "text": [
      "sox WARN rate: rate clipped 177 samples; decrease volume?\n",
      "sox WARN dither: dither clipped 157 samples; decrease volume?\n",
      "sox WARN rate: rate clipped 11 samples; decrease volume?\n",
      "sox WARN dither: dither clipped 9 samples; decrease volume?\n"
     ]
    },
    {
     "name": "stdout",
     "output_type": "stream",
     "text": [
      "sox ESC-50-prathikrao/audio/2-51630-B-49.wav-r 32000 ESC-50-prathikrao/audio_32k/2-51630-B-49.wav\n",
      "sox ESC-50-prathikrao/audio/4-181999-A-36.wav-r 32000 ESC-50-prathikrao/audio_32k/4-181999-A-36.wav\n",
      "sox ESC-50-prathikrao/audio/2-50666-A-20.wav-r 32000 ESC-50-prathikrao/audio_32k/2-50666-A-20.wav\n",
      "sox ESC-50-prathikrao/audio/2-166644-A-2.wav-r 32000 ESC-50-prathikrao/audio_32k/2-166644-A-2.wav\n",
      "sox ESC-50-prathikrao/audio/3-95695-A-5.wav-r 32000 ESC-50-prathikrao/audio_32k/3-95695-A-5.wav\n",
      "sox ESC-50-prathikrao/audio/1-39937-A-28.wav-r 32000 ESC-50-prathikrao/audio_32k/1-39937-A-28.wav\n"
     ]
    },
    {
     "name": "stderr",
     "output_type": "stream",
     "text": [
      "sox WARN rate: rate clipped 243 samples; decrease volume?\n",
      "sox WARN dither: dither clipped 211 samples; decrease volume?\n"
     ]
    },
    {
     "name": "stdout",
     "output_type": "stream",
     "text": [
      "sox ESC-50-prathikrao/audio/4-149294-A-41.wav-r 32000 ESC-50-prathikrao/audio_32k/4-149294-A-41.wav\n",
      "sox ESC-50-prathikrao/audio/1-62849-A-38.wav-r 32000 ESC-50-prathikrao/audio_32k/1-62849-A-38.wav\n",
      "sox ESC-50-prathikrao/audio/4-209536-A-37.wav-r 32000 ESC-50-prathikrao/audio_32k/4-209536-A-37.wav\n",
      "sox ESC-50-prathikrao/audio/3-151269-A-35.wav-r 32000 ESC-50-prathikrao/audio_32k/3-151269-A-35.wav\n",
      "sox ESC-50-prathikrao/audio/5-160614-C-48.wav-r 32000 ESC-50-prathikrao/audio_32k/5-160614-C-48.wav\n",
      "sox ESC-50-prathikrao/audio/2-80313-A-28.wav-r 32000 ESC-50-prathikrao/audio_32k/2-80313-A-28.wav\n"
     ]
    },
    {
     "name": "stderr",
     "output_type": "stream",
     "text": [
      "sox WARN rate: rate clipped 1 samples; decrease volume?\n",
      "sox WARN dither: dither clipped 1 samples; decrease volume?\n"
     ]
    },
    {
     "name": "stdout",
     "output_type": "stream",
     "text": [
      "sox ESC-50-prathikrao/audio/3-103050-A-19.wav-r 32000 ESC-50-prathikrao/audio_32k/3-103050-A-19.wav\n",
      "sox ESC-50-prathikrao/audio/1-208757-C-2.wav-r 32000 ESC-50-prathikrao/audio_32k/1-208757-C-2.wav\n",
      "sox ESC-50-prathikrao/audio/2-80482-A-20.wav-r 32000 ESC-50-prathikrao/audio_32k/2-80482-A-20.wav\n"
     ]
    },
    {
     "name": "stderr",
     "output_type": "stream",
     "text": [
      "sox WARN rate: rate clipped 138 samples; decrease volume?\n",
      "sox WARN dither: dither clipped 117 samples; decrease volume?\n"
     ]
    },
    {
     "name": "stdout",
     "output_type": "stream",
     "text": [
      "sox ESC-50-prathikrao/audio/3-103051-A-19.wav-r 32000 ESC-50-prathikrao/audio_32k/3-103051-A-19.wav\n",
      "sox ESC-50-prathikrao/audio/3-149465-A-22.wav-r 32000 ESC-50-prathikrao/audio_32k/3-149465-A-22.wav\n",
      "sox ESC-50-prathikrao/audio/2-59565-A-46.wav-r 32000 ESC-50-prathikrao/audio_32k/2-59565-A-46.wav\n"
     ]
    },
    {
     "name": "stderr",
     "output_type": "stream",
     "text": [
      "sox WARN rate: rate clipped 6 samples; decrease volume?\n",
      "sox WARN dither: dither clipped 6 samples; decrease volume?\n"
     ]
    },
    {
     "name": "stdout",
     "output_type": "stream",
     "text": [
      "sox ESC-50-prathikrao/audio/3-157615-A-10.wav-r 32000 ESC-50-prathikrao/audio_32k/3-157615-A-10.wav\n",
      "sox ESC-50-prathikrao/audio/1-85123-A-31.wav-r 32000 ESC-50-prathikrao/audio_32k/1-85123-A-31.wav\n",
      "sox ESC-50-prathikrao/audio/1-30709-A-23.wav-r 32000 ESC-50-prathikrao/audio_32k/1-30709-A-23.wav\n"
     ]
    },
    {
     "name": "stderr",
     "output_type": "stream",
     "text": [
      "sox WARN rate: rate clipped 3 samples; decrease volume?\n",
      "sox WARN dither: dither clipped 3 samples; decrease volume?\n"
     ]
    },
    {
     "name": "stdout",
     "output_type": "stream",
     "text": [
      "sox ESC-50-prathikrao/audio/1-36400-A-23.wav-r 32000 ESC-50-prathikrao/audio_32k/1-36400-A-23.wav\n",
      "sox ESC-50-prathikrao/audio/5-235507-A-44.wav-r 32000 ESC-50-prathikrao/audio_32k/5-235507-A-44.wav\n",
      "sox ESC-50-prathikrao/audio/3-177083-A-22.wav-r 32000 ESC-50-prathikrao/audio_32k/3-177083-A-22.wav\n"
     ]
    },
    {
     "name": "stderr",
     "output_type": "stream",
     "text": [
      "sox WARN rate: rate clipped 1 samples; decrease volume?\n",
      "sox WARN dither: dither clipped 1 samples; decrease volume?\n",
      "sox WARN rate: rate clipped 8 samples; decrease volume?\n",
      "sox WARN dither: dither clipped 8 samples; decrease volume?\n"
     ]
    },
    {
     "name": "stdout",
     "output_type": "stream",
     "text": [
      "sox ESC-50-prathikrao/audio/5-233260-A-23.wav-r 32000 ESC-50-prathikrao/audio_32k/5-233260-A-23.wav\n",
      "sox ESC-50-prathikrao/audio/3-177082-A-22.wav-r 32000 ESC-50-prathikrao/audio_32k/3-177082-A-22.wav\n",
      "sox ESC-50-prathikrao/audio/3-187710-A-11.wav-r 32000 ESC-50-prathikrao/audio_32k/3-187710-A-11.wav\n",
      "sox ESC-50-prathikrao/audio/4-175846-A-43.wav-r 32000 ESC-50-prathikrao/audio_32k/4-175846-A-43.wav\n",
      "sox ESC-50-prathikrao/audio/3-103597-A-25.wav-r 32000 ESC-50-prathikrao/audio_32k/3-103597-A-25.wav\n",
      "sox ESC-50-prathikrao/audio/5-208761-A-24.wav-r 32000 ESC-50-prathikrao/audio_32k/5-208761-A-24.wav\n"
     ]
    },
    {
     "name": "stderr",
     "output_type": "stream",
     "text": [
      "sox WARN rate: rate clipped 2 samples; decrease volume?\n",
      "sox WARN dither: dither clipped 2 samples; decrease volume?\n"
     ]
    },
    {
     "name": "stdout",
     "output_type": "stream",
     "text": [
      "sox ESC-50-prathikrao/audio/3-151080-A-20.wav-r 32000 ESC-50-prathikrao/audio_32k/3-151080-A-20.wav\n",
      "sox ESC-50-prathikrao/audio/3-151081-A-20.wav-r 32000 ESC-50-prathikrao/audio_32k/3-151081-A-20.wav\n",
      "sox ESC-50-prathikrao/audio/2-118964-A-0.wav-r 32000 ESC-50-prathikrao/audio_32k/2-118964-A-0.wav\n",
      "sox ESC-50-prathikrao/audio/5-157204-B-16.wav-r 32000 ESC-50-prathikrao/audio_32k/5-157204-B-16.wav\n",
      "sox ESC-50-prathikrao/audio/3-155570-A-32.wav-r 32000 ESC-50-prathikrao/audio_32k/3-155570-A-32.wav\n",
      "sox ESC-50-prathikrao/audio/3-145382-A-1.wav-r 32000 ESC-50-prathikrao/audio_32k/3-145382-A-1.wav\n",
      "sox ESC-50-prathikrao/audio/1-47714-A-16.wav-r 32000 ESC-50-prathikrao/audio_32k/1-47714-A-16.wav\n",
      "sox ESC-50-prathikrao/audio/2-134700-A-38.wav-r 32000 ESC-50-prathikrao/audio_32k/2-134700-A-38.wav\n",
      "sox ESC-50-prathikrao/audio/4-156843-A-21.wav-r 32000 ESC-50-prathikrao/audio_32k/4-156843-A-21.wav\n"
     ]
    },
    {
     "name": "stderr",
     "output_type": "stream",
     "text": [
      "sox WARN rate: rate clipped 781 samples; decrease volume?\n",
      "sox WARN dither: dither clipped 826 samples; decrease volume?\n"
     ]
    },
    {
     "name": "stdout",
     "output_type": "stream",
     "text": [
      "sox ESC-50-prathikrao/audio/4-186936-A-44.wav-r 32000 ESC-50-prathikrao/audio_32k/4-186936-A-44.wav\n",
      "sox ESC-50-prathikrao/audio/2-87794-A-24.wav-r 32000 ESC-50-prathikrao/audio_32k/2-87794-A-24.wav\n",
      "sox ESC-50-prathikrao/audio/3-128160-A-44.wav-r 32000 ESC-50-prathikrao/audio_32k/3-128160-A-44.wav\n"
     ]
    },
    {
     "name": "stderr",
     "output_type": "stream",
     "text": [
      "sox WARN rate: rate clipped 830 samples; decrease volume?\n",
      "sox WARN dither: dither clipped 736 samples; decrease volume?\n",
      "sox WARN rate: rate clipped 1307 samples; decrease volume?\n",
      "sox WARN dither: dither clipped 1156 samples; decrease volume?\n"
     ]
    },
    {
     "name": "stdout",
     "output_type": "stream",
     "text": [
      "sox ESC-50-prathikrao/audio/2-87795-A-24.wav-r 32000 ESC-50-prathikrao/audio_32k/2-87795-A-24.wav\n",
      "sox ESC-50-prathikrao/audio/2-139748-B-15.wav-r 32000 ESC-50-prathikrao/audio_32k/2-139748-B-15.wav\n",
      "sox ESC-50-prathikrao/audio/5-212054-A-36.wav-r 32000 ESC-50-prathikrao/audio_32k/5-212054-A-36.wav\n"
     ]
    },
    {
     "name": "stderr",
     "output_type": "stream",
     "text": [
      "sox WARN rate: rate clipped 260 samples; decrease volume?\n",
      "sox WARN dither: dither clipped 220 samples; decrease volume?\n"
     ]
    },
    {
     "name": "stdout",
     "output_type": "stream",
     "text": [
      "sox ESC-50-prathikrao/audio/4-216211-A-14.wav-r 32000 ESC-50-prathikrao/audio_32k/4-216211-A-14.wav\n",
      "sox ESC-50-prathikrao/audio/1-64398-A-41.wav-r 32000 ESC-50-prathikrao/audio_32k/1-64398-A-41.wav\n",
      "sox ESC-50-prathikrao/audio/2-67422-A-18.wav-r 32000 ESC-50-prathikrao/audio_32k/2-67422-A-18.wav\n"
     ]
    },
    {
     "name": "stderr",
     "output_type": "stream",
     "text": [
      "sox WARN rate: rate clipped 466 samples; decrease volume?\n",
      "sox WARN dither: dither clipped 402 samples; decrease volume?\n"
     ]
    },
    {
     "name": "stdout",
     "output_type": "stream",
     "text": [
      "sox ESC-50-prathikrao/audio/5-215658-B-12.wav-r 32000 ESC-50-prathikrao/audio_32k/5-215658-B-12.wav\n",
      "sox ESC-50-prathikrao/audio/2-128465-B-43.wav-r 32000 ESC-50-prathikrao/audio_32k/2-128465-B-43.wav\n",
      "sox ESC-50-prathikrao/audio/1-24524-C-19.wav-r 32000 ESC-50-prathikrao/audio_32k/1-24524-C-19.wav\n"
     ]
    },
    {
     "name": "stderr",
     "output_type": "stream",
     "text": [
      "sox WARN rate: rate clipped 40 samples; decrease volume?\n",
      "sox WARN dither: dither clipped 38 samples; decrease volume?\n",
      "sox WARN rate: rate clipped 367 samples; decrease volume?\n",
      "sox WARN dither: dither clipped 326 samples; decrease volume?\n"
     ]
    },
    {
     "name": "stdout",
     "output_type": "stream",
     "text": [
      "sox ESC-50-prathikrao/audio/1-39835-A-9.wav-r 32000 ESC-50-prathikrao/audio_32k/1-39835-A-9.wav\n",
      "sox ESC-50-prathikrao/audio/3-117883-A-37.wav-r 32000 ESC-50-prathikrao/audio_32k/3-117883-A-37.wav\n",
      "sox ESC-50-prathikrao/audio/4-198965-A-38.wav-r 32000 ESC-50-prathikrao/audio_32k/4-198965-A-38.wav\n"
     ]
    },
    {
     "ename": "KeyboardInterrupt",
     "evalue": "",
     "output_type": "error",
     "traceback": [
      "\u001b[0;31m---------------------------------------------------------------------------\u001b[0m",
      "\u001b[0;31mKeyboardInterrupt\u001b[0m                         Traceback (most recent call last)",
      "Cell \u001b[0;32mIn [10], line 6\u001b[0m\n\u001b[1;32m      4\u001b[0m resample_f \u001b[38;5;241m=\u001b[39m os\u001b[38;5;241m.\u001b[39mpath\u001b[38;5;241m.\u001b[39mjoin(resample_path, f)\n\u001b[1;32m      5\u001b[0m y, sr \u001b[38;5;241m=\u001b[39m librosa\u001b[38;5;241m.\u001b[39mload(full_f, sr \u001b[38;5;241m=\u001b[39m \u001b[38;5;28;01mNone\u001b[39;00m)\n\u001b[0;32m----> 6\u001b[0m y_32k \u001b[38;5;241m=\u001b[39m \u001b[43mlibrosa\u001b[49m\u001b[38;5;241;43m.\u001b[39;49m\u001b[43mresample\u001b[49m\u001b[43m(\u001b[49m\u001b[43my\u001b[49m\u001b[43m,\u001b[49m\u001b[43m \u001b[49m\u001b[43morig_sr\u001b[49m\u001b[38;5;241;43m=\u001b[39;49m\u001b[43msr\u001b[49m\u001b[43m,\u001b[49m\u001b[43m \u001b[49m\u001b[43mtarget_sr\u001b[49m\u001b[38;5;241;43m=\u001b[39;49m\u001b[38;5;241;43m32000\u001b[39;49m\u001b[43m)\u001b[49m\n\u001b[1;32m      7\u001b[0m \u001b[38;5;28mprint\u001b[39m(\u001b[38;5;124m'\u001b[39m\u001b[38;5;124msox \u001b[39m\u001b[38;5;124m'\u001b[39m \u001b[38;5;241m+\u001b[39m full_f \u001b[38;5;241m+\u001b[39m \u001b[38;5;124m'\u001b[39m\u001b[38;5;124m-r 32000 \u001b[39m\u001b[38;5;124m'\u001b[39m \u001b[38;5;241m+\u001b[39m resample_f)\n\u001b[1;32m      8\u001b[0m os\u001b[38;5;241m.\u001b[39msystem(\u001b[38;5;124m'\u001b[39m\u001b[38;5;124msox \u001b[39m\u001b[38;5;124m'\u001b[39m \u001b[38;5;241m+\u001b[39m full_f \u001b[38;5;241m+\u001b[39m \u001b[38;5;124m'\u001b[39m\u001b[38;5;124m -r 32000 \u001b[39m\u001b[38;5;124m'\u001b[39m \u001b[38;5;241m+\u001b[39m resample_f)\n",
      "File \u001b[0;32m~/miniforge3/envs/Stanford_ps1/lib/python3.8/site-packages/librosa/core/audio.py:604\u001b[0m, in \u001b[0;36mresample\u001b[0;34m(y, orig_sr, target_sr, res_type, fix, scale, **kwargs)\u001b[0m\n\u001b[1;32m    602\u001b[0m     y_hat \u001b[38;5;241m=\u001b[39m soxr\u001b[38;5;241m.\u001b[39mresample(y\u001b[38;5;241m.\u001b[39mT, orig_sr, target_sr, quality\u001b[38;5;241m=\u001b[39mres_type)\u001b[38;5;241m.\u001b[39mT\n\u001b[1;32m    603\u001b[0m \u001b[38;5;28;01melse\u001b[39;00m:\n\u001b[0;32m--> 604\u001b[0m     y_hat \u001b[38;5;241m=\u001b[39m \u001b[43mresampy\u001b[49m\u001b[38;5;241;43m.\u001b[39;49m\u001b[43mresample\u001b[49m\u001b[43m(\u001b[49m\u001b[43my\u001b[49m\u001b[43m,\u001b[49m\u001b[43m \u001b[49m\u001b[43morig_sr\u001b[49m\u001b[43m,\u001b[49m\u001b[43m \u001b[49m\u001b[43mtarget_sr\u001b[49m\u001b[43m,\u001b[49m\u001b[43m \u001b[49m\u001b[38;5;28;43mfilter\u001b[39;49m\u001b[38;5;241;43m=\u001b[39;49m\u001b[43mres_type\u001b[49m\u001b[43m,\u001b[49m\u001b[43m \u001b[49m\u001b[43maxis\u001b[49m\u001b[38;5;241;43m=\u001b[39;49m\u001b[38;5;241;43m-\u001b[39;49m\u001b[38;5;241;43m1\u001b[39;49m\u001b[43m)\u001b[49m\n\u001b[1;32m    606\u001b[0m \u001b[38;5;28;01mif\u001b[39;00m fix:\n\u001b[1;32m    607\u001b[0m     y_hat \u001b[38;5;241m=\u001b[39m util\u001b[38;5;241m.\u001b[39mfix_length(y_hat, n_samples, \u001b[38;5;241m*\u001b[39m\u001b[38;5;241m*\u001b[39mkwargs)\n",
      "File \u001b[0;32m~/miniforge3/envs/Stanford_ps1/lib/python3.8/site-packages/resampy/core.py:168\u001b[0m, in \u001b[0;36mresample\u001b[0;34m(x, sr_orig, sr_new, axis, filter, parallel, **kwargs)\u001b[0m\n\u001b[1;32m    158\u001b[0m         resample_f_s(\n\u001b[1;32m    159\u001b[0m             x\u001b[38;5;241m.\u001b[39mswapaxes(\u001b[38;5;241m-\u001b[39m\u001b[38;5;241m1\u001b[39m, axis),\n\u001b[1;32m    160\u001b[0m             t_out,\n\u001b[0;32m   (...)\u001b[0m\n\u001b[1;32m    165\u001b[0m             y\u001b[38;5;241m.\u001b[39mswapaxes(\u001b[38;5;241m-\u001b[39m\u001b[38;5;241m1\u001b[39m, axis),\n\u001b[1;32m    166\u001b[0m         )\n\u001b[1;32m    167\u001b[0m \u001b[38;5;28;01melse\u001b[39;00m:\n\u001b[0;32m--> 168\u001b[0m     \u001b[43mresample_f_s\u001b[49m\u001b[43m(\u001b[49m\n\u001b[1;32m    169\u001b[0m \u001b[43m        \u001b[49m\u001b[43mx\u001b[49m\u001b[38;5;241;43m.\u001b[39;49m\u001b[43mswapaxes\u001b[49m\u001b[43m(\u001b[49m\u001b[38;5;241;43m-\u001b[39;49m\u001b[38;5;241;43m1\u001b[39;49m\u001b[43m,\u001b[49m\u001b[43m \u001b[49m\u001b[43maxis\u001b[49m\u001b[43m)\u001b[49m\u001b[43m,\u001b[49m\n\u001b[1;32m    170\u001b[0m \u001b[43m        \u001b[49m\u001b[43mt_out\u001b[49m\u001b[43m,\u001b[49m\n\u001b[1;32m    171\u001b[0m \u001b[43m        \u001b[49m\u001b[43minterp_win\u001b[49m\u001b[43m,\u001b[49m\n\u001b[1;32m    172\u001b[0m \u001b[43m        \u001b[49m\u001b[43minterp_delta\u001b[49m\u001b[43m,\u001b[49m\n\u001b[1;32m    173\u001b[0m \u001b[43m        \u001b[49m\u001b[43mprecision\u001b[49m\u001b[43m,\u001b[49m\n\u001b[1;32m    174\u001b[0m \u001b[43m        \u001b[49m\u001b[43mscale\u001b[49m\u001b[43m,\u001b[49m\n\u001b[1;32m    175\u001b[0m \u001b[43m        \u001b[49m\u001b[43my\u001b[49m\u001b[38;5;241;43m.\u001b[39;49m\u001b[43mswapaxes\u001b[49m\u001b[43m(\u001b[49m\u001b[38;5;241;43m-\u001b[39;49m\u001b[38;5;241;43m1\u001b[39;49m\u001b[43m,\u001b[49m\u001b[43m \u001b[49m\u001b[43maxis\u001b[49m\u001b[43m)\u001b[49m\u001b[43m,\u001b[49m\n\u001b[1;32m    176\u001b[0m \u001b[43m    \u001b[49m\u001b[43m)\u001b[49m\n\u001b[1;32m    178\u001b[0m \u001b[38;5;28;01mreturn\u001b[39;00m y\n",
      "File \u001b[0;32m~/miniforge3/envs/Stanford_ps1/lib/python3.8/site-packages/numba/np/ufunc/gufunc.py:192\u001b[0m, in \u001b[0;36mGUFunc.__call__\u001b[0;34m(self, *args, **kwargs)\u001b[0m\n\u001b[1;32m    190\u001b[0m     \u001b[38;5;28mself\u001b[39m\u001b[38;5;241m.\u001b[39madd(sig)\n\u001b[1;32m    191\u001b[0m     \u001b[38;5;28mself\u001b[39m\u001b[38;5;241m.\u001b[39mbuild_ufunc()\n\u001b[0;32m--> 192\u001b[0m \u001b[38;5;28;01mreturn\u001b[39;00m \u001b[38;5;28;43mself\u001b[39;49m\u001b[38;5;241;43m.\u001b[39;49m\u001b[43mufunc\u001b[49m\u001b[43m(\u001b[49m\u001b[38;5;241;43m*\u001b[39;49m\u001b[43margs\u001b[49m\u001b[43m,\u001b[49m\u001b[43m \u001b[49m\u001b[38;5;241;43m*\u001b[39;49m\u001b[38;5;241;43m*\u001b[39;49m\u001b[43mkwargs\u001b[49m\u001b[43m)\u001b[49m\n",
      "\u001b[0;31mKeyboardInterrupt\u001b[0m: "
     ]
    }
   ],
   "source": [
    "# resample\n",
    "audio_list = os.listdir(audio_path)\n",
    "for f in audio_list:\n",
    "    full_f = os.path.join(audio_path, f)\n",
    "    resample_f = os.path.join(resample_path, f)\n",
    "    y, sr = librosa.load(full_f, sr = None)\n",
    "    y_32k = librosa.resample(y, orig_sr=sr, target_sr=32000)\n",
    "    print('sox ' + full_f + '-r 32000 ' + resample_f)\n",
    "    os.system('sox ' + full_f + ' -r 32000 ' + resample_f)"
   ]
  },
  {
   "cell_type": "code",
   "execution_count": null,
   "metadata": {},
   "outputs": [],
   "source": [
    "# name fold target category esc10 srcfile take\n",
    "output_dict = [[] for _ in range(5)]\n",
    "df = pd.read_csv(meta_path)\n",
    "for i,row in df.iterrows():\n",
    "    name = row[\"filename\"]\n",
    "    fold = row[\"fold\"]\n",
    "    target = row[\"target\"]\n",
    "    y, sr = librosa.load(os.path.join(audio_path, name), sr = None)\n",
    "    output_dict[int(fold) - 1].append(\n",
    "        {\n",
    "            \"name\": name,\n",
    "            \"target\": int(target),\n",
    "            \"waveform\": y\n",
    "        }\n",
    "    )\n",
    "    "
   ]
  },
  {
   "cell_type": "code",
   "execution_count": 5,
   "metadata": {},
   "outputs": [],
   "source": [
    "np.save(\"esc-50-data-custom.npy\", output_dict)"
   ]
  },
  {
   "cell_type": "code",
   "execution_count": null,
   "metadata": {},
   "outputs": [],
   "source": []
  }
 ],
 "metadata": {
  "kernelspec": {
   "display_name": "Python 3 (ipykernel)",
   "language": "python",
   "name": "python3"
  },
  "language_info": {
   "codemirror_mode": {
    "name": "ipython",
    "version": 3
   },
   "file_extension": ".py",
   "mimetype": "text/x-python",
   "name": "python",
   "nbconvert_exporter": "python",
   "pygments_lexer": "ipython3",
   "version": "3.8.13"
  },
  "vscode": {
   "interpreter": {
    "hash": "cbf651ad57764a85bd0d6253f55158c06e8f62339527fb5be4597f7fba08e70b"
   }
  }
 },
 "nbformat": 4,
 "nbformat_minor": 4
}
